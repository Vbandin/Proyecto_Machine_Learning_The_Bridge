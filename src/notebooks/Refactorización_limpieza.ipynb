{
 "cells": [
  {
   "cell_type": "code",
   "execution_count": 2,
   "id": "eaac3c66-e0fa-4ce9-84b4-c63715709155",
   "metadata": {},
   "outputs": [],
   "source": [
    "import numpy as np\n",
    "from catboost import CatBoostRegressor, Pool\n",
    "import datetime\n",
    "from matplotlib import pyplot as plt\n",
    "from sklearn.model_selection import train_test_split\n",
    "import optuna\n",
    "import pandas as pd\n",
    "from optuna.samplers import TPESampler\n",
    "import seaborn as sns\n",
    "from sklearn.compose import ColumnTransformer\n",
    "from sklearn.decomposition import PCA\n",
    "from sklearn.metrics import mean_absolute_error, mean_squared_error\n",
    "from sklearn.model_selection import train_test_split, GridSearchCV\n",
    "from sklearn.pipeline import Pipeline, make_pipeline\n",
    "from sklearn.preprocessing import OneHotEncoder , OrdinalEncoder, StandardScaler"
   ]
  },
  {
   "cell_type": "code",
   "execution_count": 3,
   "id": "ef3d8a0a-f171-4ffe-84b3-9f1043ad6ee3",
   "metadata": {},
   "outputs": [],
   "source": [
    "def dataset_cleaning(dataset):\n",
    "    df = pd.read_csv(dataset)\n",
    "    df2 = df.copy().dropna(subset=[\"Rating\",\"Content Rating\", \"Current Ver\", \"Android Ver\"])\n",
    "    df2[\"Reviews\"] = df2[\"Reviews\"].astype('int64')\n",
    "    df2[\"Size\"] = df2[\"Size\"].replace(['Varies with device'],['14000']).apply(lambda x: float(x.replace('M','')) *1000 if 'M' in x else (float(x.replace('k','')) /1000 if 'k' in x else x)).astype('float64')\n",
    "    df2[\"Installs\"] = df2[\"Installs\"].str.split('+',expand=True)[0].apply(lambda x: x.replace(',','')).astype('int64')\n",
    "    df2[\"Main_Genre\"] = df2[\"Genres\"].str.split(';',expand=True)[0]\n",
    "    df2[\"Last Updated\"] = df2[\"Last Updated\"].apply(lambda x: x.replace(' ','/').replace(',','').replace('January','1').replace('February','2').replace('March','3').replace('April','4').replace('May','5').replace('June','6').replace('July','7').replace('August','8').replace('September','9').replace('October','10').replace('November','11').replace('December','12')).astype('datetime64')\n",
    "    timestamp = pd.Timestamp(datetime.datetime(2021, 10, 10))\n",
    "    df2['Today'] = pd.Timestamp(timestamp.today().strftime('%d-%m-%Y'))\n",
    "    df2['Days_Since_Last_Update'] = (df2['Today'] - df2[\"Last Updated\"]).dt.days\n",
    "    df2.drop(['App','Type','Price','Genres','Today','Last Updated'], axis=1, inplace=True)\n",
    "    df3 = df2.copy()\n",
    "    return df3"
   ]
  },
  {
   "cell_type": "code",
   "execution_count": 10,
   "id": "e39049c1-d4ac-4d41-ab5f-e68ce2ece241",
   "metadata": {},
   "outputs": [],
   "source": [
    "df_clean = dataset_cleaning(r'..\\data\\raw_files\\googleplaystore.csv')"
   ]
  },
  {
   "cell_type": "code",
   "execution_count": 11,
   "id": "4f2b91e3-b87b-416a-bcc9-6e0962380986",
   "metadata": {},
   "outputs": [
    {
     "data": {
      "text/plain": [
       "(9360, 10)"
      ]
     },
     "execution_count": 11,
     "metadata": {},
     "output_type": "execute_result"
    }
   ],
   "source": [
    "df_clean.shape"
   ]
  },
  {
   "cell_type": "code",
   "execution_count": 12,
   "id": "795e0987-ce82-4147-ae2d-f154140a9d01",
   "metadata": {},
   "outputs": [
    {
     "name": "stderr",
     "output_type": "stream",
     "text": [
      "C:\\Users\\Victor\\AppData\\Local\\Temp\\ipykernel_8156\\1863484124.py:1: FutureWarning: The default value of numeric_only in DataFrame.corr is deprecated. In a future version, it will default to False. Select only valid columns or specify the value of numeric_only to silence this warning.\n",
      "  df_clean.corr()\n"
     ]
    },
    {
     "data": {
      "text/html": [
       "<div>\n",
       "<style scoped>\n",
       "    .dataframe tbody tr th:only-of-type {\n",
       "        vertical-align: middle;\n",
       "    }\n",
       "\n",
       "    .dataframe tbody tr th {\n",
       "        vertical-align: top;\n",
       "    }\n",
       "\n",
       "    .dataframe thead th {\n",
       "        text-align: right;\n",
       "    }\n",
       "</style>\n",
       "<table border=\"1\" class=\"dataframe\">\n",
       "  <thead>\n",
       "    <tr style=\"text-align: right;\">\n",
       "      <th></th>\n",
       "      <th>Rating</th>\n",
       "      <th>Reviews</th>\n",
       "      <th>Size</th>\n",
       "      <th>Installs</th>\n",
       "      <th>Days_Since_Last_Update</th>\n",
       "    </tr>\n",
       "  </thead>\n",
       "  <tbody>\n",
       "    <tr>\n",
       "      <th>Rating</th>\n",
       "      <td>1.000000</td>\n",
       "      <td>0.068133</td>\n",
       "      <td>0.067508</td>\n",
       "      <td>0.051337</td>\n",
       "      <td>-0.142966</td>\n",
       "    </tr>\n",
       "    <tr>\n",
       "      <th>Reviews</th>\n",
       "      <td>0.068133</td>\n",
       "      <td>1.000000</td>\n",
       "      <td>0.103867</td>\n",
       "      <td>0.641605</td>\n",
       "      <td>-0.088182</td>\n",
       "    </tr>\n",
       "    <tr>\n",
       "      <th>Size</th>\n",
       "      <td>0.067508</td>\n",
       "      <td>0.103867</td>\n",
       "      <td>1.000000</td>\n",
       "      <td>0.044622</td>\n",
       "      <td>-0.193577</td>\n",
       "    </tr>\n",
       "    <tr>\n",
       "      <th>Installs</th>\n",
       "      <td>0.051337</td>\n",
       "      <td>0.641605</td>\n",
       "      <td>0.044622</td>\n",
       "      <td>1.000000</td>\n",
       "      <td>-0.104371</td>\n",
       "    </tr>\n",
       "    <tr>\n",
       "      <th>Days_Since_Last_Update</th>\n",
       "      <td>-0.142966</td>\n",
       "      <td>-0.088182</td>\n",
       "      <td>-0.193577</td>\n",
       "      <td>-0.104371</td>\n",
       "      <td>1.000000</td>\n",
       "    </tr>\n",
       "  </tbody>\n",
       "</table>\n",
       "</div>"
      ],
      "text/plain": [
       "                          Rating   Reviews      Size  Installs  \\\n",
       "Rating                  1.000000  0.068133  0.067508  0.051337   \n",
       "Reviews                 0.068133  1.000000  0.103867  0.641605   \n",
       "Size                    0.067508  0.103867  1.000000  0.044622   \n",
       "Installs                0.051337  0.641605  0.044622  1.000000   \n",
       "Days_Since_Last_Update -0.142966 -0.088182 -0.193577 -0.104371   \n",
       "\n",
       "                        Days_Since_Last_Update  \n",
       "Rating                               -0.142966  \n",
       "Reviews                              -0.088182  \n",
       "Size                                 -0.193577  \n",
       "Installs                             -0.104371  \n",
       "Days_Since_Last_Update                1.000000  "
      ]
     },
     "execution_count": 12,
     "metadata": {},
     "output_type": "execute_result"
    }
   ],
   "source": [
    "df_clean.corr()"
   ]
  },
  {
   "cell_type": "code",
   "execution_count": null,
   "id": "7704dbab-57b4-49df-b479-e87c2fbdc464",
   "metadata": {},
   "outputs": [],
   "source": []
  },
  {
   "cell_type": "code",
   "execution_count": 12,
   "id": "4a3e1f16-3327-48fc-a33c-9a9a6cc51cd9",
   "metadata": {},
   "outputs": [],
   "source": [
    "df_clean.to_csv(r'..\\data\\processed_data\\test_saving_Data.csv', index = False)"
   ]
  },
  {
   "cell_type": "code",
   "execution_count": null,
   "id": "2395d508-73ed-4ca1-9b2d-c479cfd4ff8e",
   "metadata": {},
   "outputs": [],
   "source": [
    "paths = {\"raw_data\":\"\\data\\raw_files\\\",\"preprocessed_data\":\"\\data\\preprocessed_files\\\",\"\\model\\\"]"
   ]
  },
  {
   "cell_type": "code",
   "execution_count": 23,
   "id": "eb29a86a-cd9f-451c-9c49-c0f2ff5d15ee",
   "metadata": {},
   "outputs": [],
   "source": [
    "paths = [r\"../data/raw_data/\",r\"../data/preprocessed_data/\",r\"../model/\"]\n"
   ]
  },
  {
   "cell_type": "code",
   "execution_count": 24,
   "id": "aa66a886-ffda-4ff9-aa3e-f6dd499e5770",
   "metadata": {},
   "outputs": [
    {
     "data": {
      "text/plain": [
       "'../data/raw_data/'"
      ]
     },
     "execution_count": 24,
     "metadata": {},
     "output_type": "execute_result"
    }
   ],
   "source": [
    "paths[0]"
   ]
  }
 ],
 "metadata": {
  "kernelspec": {
   "display_name": "Python 3 (ipykernel)",
   "language": "python",
   "name": "python3"
  },
  "language_info": {
   "codemirror_mode": {
    "name": "ipython",
    "version": 3
   },
   "file_extension": ".py",
   "mimetype": "text/x-python",
   "name": "python",
   "nbconvert_exporter": "python",
   "pygments_lexer": "ipython3",
   "version": "3.10.4"
  }
 },
 "nbformat": 4,
 "nbformat_minor": 5
}
