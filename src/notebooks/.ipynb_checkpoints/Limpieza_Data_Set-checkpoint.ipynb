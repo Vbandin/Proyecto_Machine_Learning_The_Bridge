{
 "cells": [
  {
   "cell_type": "code",
   "execution_count": 7,
   "id": "1e835fdf-b972-428a-b0dd-4503c43d1bc8",
   "metadata": {},
   "outputs": [],
   "source": [
    "import numpy as np\n",
    "from catboost import CatBoostRegressor, Pool\n",
    "import datetime\n",
    "from matplotlib import pyplot as plt\n",
    "from sklearn.model_selection import train_test_split\n",
    "import optuna\n",
    "import pandas as pd\n",
    "from optuna.samplers import TPESampler\n",
    "import seaborn as sns\n",
    "from sklearn.compose import ColumnTransformer\n",
    "from sklearn.decomposition import PCA\n",
    "from sklearn.metrics import mean_absolute_error, mean_squared_error\n",
    "from sklearn.model_selection import train_test_split, GridSearchCV\n",
    "from sklearn.pipeline import Pipeline, make_pipeline\n",
    "from sklearn.preprocessing import OneHotEncoder , OrdinalEncoder, StandardScaler"
   ]
  },
  {
   "cell_type": "code",
   "execution_count": 12,
   "id": "622eaa72-8809-448c-97c9-cd9212636f8a",
   "metadata": {},
   "outputs": [],
   "source": [
    "def dataset_cleaning(dataset):\n",
    "    df = pd.read_csv(dataset)\n",
    "    df2 = df.copy().dropna(subset=[\"Rating\",\"Content Rating\", \"Current Ver\", \"Android Ver\"])\n",
    "    df2[\"Reviews\"] = df2[\"Reviews\"].astype('int64')\n",
    "    df2[\"Size\"] = df2[\"Size\"].replace(['Varies with device'],['14000'])\n",
    "    df2[\"Size\"] = df2[\"Size\"].apply(lambda x: float(x.replace('M','')) *1000 if 'M' in x else (float(x.replace('k','')) /1000 if 'k' in x else x))\n",
    "    df2[\"Size\"]=df2[\"Size\"].astype('float64')\n",
    "    df2[\"Installs\"] = df2[\"Installs\"].str.split('+',expand=True)[0]\n",
    "    df2[\"Installs\"] = df2[\"Installs\"].apply(lambda x: x.replace(',',''))\n",
    "    df2[\"Installs\"] = df2[\"Installs\"].astype('int64')\n",
    "    df2[\"Main_Genre\"] = df2[\"Genres\"].str.split(';',expand=True)[0]\n",
    "    df2[\"Last Updated\"] = df2[\"Last Updated\"].apply(lambda x: x.replace(' ','/').replace(',','').replace('January','1').replace('February','2').replace('March','3').replace('April','4').replace('May','5').replace('June','6').replace('July','7').replace('August','8').replace('September','9').replace('October','10').replace('November','11').replace('December','12'))\n",
    "    df2[\"Last Updated\"] = df2[\"Last Updated\"].astype('datetime64')\n",
    "    timestamp = pd.Timestamp(datetime.datetime(2021, 10, 10))\n",
    "    df2['Today'] = pd.Timestamp(timestamp.today().strftime('%d-%m-%Y'))\n",
    "    df2['Days_Since_Last_Update'] = (df2['Today'] - df2[\"Last Updated\"]).dt.days\n",
    "    df2.drop(['App','Type','Price','Genres','Today','Last Updated'], axis=1, inplace=True)\n",
    "    df3 = df2.copy()\n",
    "    return df3"
   ]
  },
  {
   "cell_type": "code",
   "execution_count": 14,
   "id": "76b0e406-05db-49ee-8545-8b144975773d",
   "metadata": {},
   "outputs": [],
   "source": [
    "df_clean = dataset_cleaning('googleplaystore.csv')"
   ]
  },
  {
   "cell_type": "code",
   "execution_count": 15,
   "id": "2321e01d-c6fa-43b9-96e2-9e49e6a914f6",
   "metadata": {},
   "outputs": [],
   "source": [
    "X_train, X_test, y_train, y_test = train_test_split(df_clean.drop('Rating', axis=1),\n",
    "                                                    df_clean['Rating'],\n",
    "                                                    test_size=0.3,\n",
    "                                                    random_state=42)"
   ]
  },
  {
   "cell_type": "code",
   "execution_count": 16,
   "id": "34f5390b-4a7c-47ba-9789-ed909e932404",
   "metadata": {},
   "outputs": [],
   "source": [
    "cb = CatBoostRegressor(n_estimators=1000,\n",
    "                      loss_function='RMSE',\n",
    "                      learning_rate=0.1,\n",
    "                      random_state=1,\n",
    "                      verbose=False\n",
    "                      )\n",
    "\n",
    "pool_train = Pool(X_train, y_train,\n",
    "                 cat_features=['Category','Content Rating','Current Ver','Android Ver','Main_Genre'])\n",
    "pool_test = Pool(X_test,\n",
    "                  cat_features=['Category','Content Rating','Current Ver','Android Ver','Main_Genre'])\n",
    "\n",
    "cb.fit(pool_train)\n",
    "\n",
    "y_pred_train = cb.predict(pool_train)\n",
    "y_pred_test = cb.predict(pool_test)"
   ]
  },
  {
   "cell_type": "code",
   "execution_count": 17,
   "id": "5ed8a528-170b-452d-b1d7-d391cecfb175",
   "metadata": {},
   "outputs": [
    {
     "name": "stdout",
     "output_type": "stream",
     "text": [
      "0.22415686670617946\n",
      "0.11672451608513691\n",
      "0.30362632714960647\n",
      "0.20785788182815668\n"
     ]
    }
   ],
   "source": [
    "print(mean_absolute_error(y_train, y_pred_train))\n",
    "print(mean_squared_error(y_train, y_pred_train))\n",
    "print(mean_absolute_error(y_test, y_pred_test))\n",
    "print(mean_squared_error(y_test, y_pred_test))"
   ]
  },
  {
   "cell_type": "code",
   "execution_count": 19,
   "id": "7b4a9f32-5ded-46c2-b0d4-68f1fa95e6c1",
   "metadata": {},
   "outputs": [],
   "source": [
    "y_full = df_clean['Rating']\n",
    "pool_full = Pool(df_clean.drop('Rating', axis=1),\n",
    "                  cat_features=['Category','Content Rating','Current Ver','Android Ver','Main_Genre'])\n",
    "\n",
    "y_pred_full = cb.predict(pool_full)"
   ]
  },
  {
   "cell_type": "code",
   "execution_count": 20,
   "id": "2e258937-2e2a-44c7-bfe5-21126212e28f",
   "metadata": {},
   "outputs": [
    {
     "name": "stdout",
     "output_type": "stream",
     "text": [
      "0.24799770483920755\n",
      "0.1440645258080428\n"
     ]
    }
   ],
   "source": [
    "print(mean_absolute_error(y_full, y_pred_full))\n",
    "print(mean_squared_error(y_full, y_pred_full))"
   ]
  },
  {
   "cell_type": "code",
   "execution_count": 21,
   "id": "8783c95b-e502-418c-8435-c2acde9168f8",
   "metadata": {},
   "outputs": [
    {
     "data": {
      "text/plain": [
       "['best_app_rating_model.pkl']"
      ]
     },
     "execution_count": 21,
     "metadata": {},
     "output_type": "execute_result"
    }
   ],
   "source": [
    "import joblib\n",
    "\n",
    "joblib.dump(cb, \"best_app_rating_model.pkl\")"
   ]
  }
 ],
 "metadata": {
  "kernelspec": {
   "display_name": "Python 3 (ipykernel)",
   "language": "python",
   "name": "python3"
  },
  "language_info": {
   "codemirror_mode": {
    "name": "ipython",
    "version": 3
   },
   "file_extension": ".py",
   "mimetype": "text/x-python",
   "name": "python",
   "nbconvert_exporter": "python",
   "pygments_lexer": "ipython3",
   "version": "3.10.4"
  }
 },
 "nbformat": 4,
 "nbformat_minor": 5
}
