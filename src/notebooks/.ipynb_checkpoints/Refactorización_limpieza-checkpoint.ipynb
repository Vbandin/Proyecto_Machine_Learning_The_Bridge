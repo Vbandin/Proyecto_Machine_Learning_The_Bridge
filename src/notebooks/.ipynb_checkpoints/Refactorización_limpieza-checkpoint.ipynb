{
 "cells": [
  {
   "cell_type": "code",
   "execution_count": 1,
   "id": "eaac3c66-e0fa-4ce9-84b4-c63715709155",
   "metadata": {},
   "outputs": [],
   "source": [
    "import numpy as np\n",
    "from catboost import CatBoostRegressor, Pool\n",
    "import datetime\n",
    "from matplotlib import pyplot as plt\n",
    "from sklearn.model_selection import train_test_split\n",
    "import optuna\n",
    "import pandas as pd\n",
    "from optuna.samplers import TPESampler\n",
    "import seaborn as sns\n",
    "from sklearn.compose import ColumnTransformer\n",
    "from sklearn.decomposition import PCA\n",
    "from sklearn.metrics import mean_absolute_error, mean_squared_error\n",
    "from sklearn.model_selection import train_test_split, GridSearchCV\n",
    "from sklearn.pipeline import Pipeline, make_pipeline\n",
    "from sklearn.preprocessing import OneHotEncoder , OrdinalEncoder, StandardScaler"
   ]
  },
  {
   "cell_type": "code",
   "execution_count": 31,
   "id": "ef3d8a0a-f171-4ffe-84b3-9f1043ad6ee3",
   "metadata": {},
   "outputs": [],
   "source": [
    "def dataset_cleaning(dataset):\n",
    "    df = pd.read_csv(dataset)\n",
    "    df2 = df.copy().dropna(subset=[\"Rating\",\"Content Rating\", \"Current Ver\", \"Android Ver\"])\n",
    "    df2[\"Reviews\"] = df2[\"Reviews\"].astype('int64')\n",
    "    df2[\"Size\"] = df2[\"Size\"].replace(['Varies with device'],['14000']).apply(lambda x: float(x.replace('M','')) *1000 if 'M' in x else (float(x.replace('k','')) /1000 if 'k' in x else x)).astype('float64')\n",
    "    df2[\"Installs\"] = df2[\"Installs\"].str.split('+',expand=True)[0].apply(lambda x: x.replace(',','')).astype('int64')\n",
    "    df2[\"Main_Genre\"] = df2[\"Genres\"].str.split(';',expand=True)[0]\n",
    "    df2[\"Last Updated\"] = df2[\"Last Updated\"].apply(lambda x: x.replace(' ','/').replace(',','').replace('January','1').replace('February','2').replace('March','3').replace('April','4').replace('May','5').replace('June','6').replace('July','7').replace('August','8').replace('September','9').replace('October','10').replace('November','11').replace('December','12')).astype('datetime64')\n",
    "    timestamp = pd.Timestamp(datetime.datetime(2021, 10, 10))\n",
    "    df2['Today'] = pd.Timestamp(timestamp.today().strftime('%d-%m-%Y'))\n",
    "    df2['Days_Since_Last_Update'] = (df2['Today'] - df2[\"Last Updated\"]).dt.days\n",
    "    df2.drop(['App','Type','Price','Genres','Today','Last Updated'], axis=1, inplace=True)\n",
    "    df3 = df2.copy()\n",
    "    return df3"
   ]
  },
  {
   "cell_type": "code",
   "execution_count": 32,
   "id": "e39049c1-d4ac-4d41-ab5f-e68ce2ece241",
   "metadata": {},
   "outputs": [],
   "source": [
    "df_clean = dataset_cleaning('googleplaystore.csv')"
   ]
  },
  {
   "cell_type": "code",
   "execution_count": 33,
   "id": "4f2b91e3-b87b-416a-bcc9-6e0962380986",
   "metadata": {},
   "outputs": [
    {
     "data": {
      "text/plain": [
       "(9360, 10)"
      ]
     },
     "execution_count": 33,
     "metadata": {},
     "output_type": "execute_result"
    }
   ],
   "source": [
    "df_clean.shape"
   ]
  },
  {
   "cell_type": "code",
   "execution_count": 34,
   "id": "795e0987-ce82-4147-ae2d-f154140a9d01",
   "metadata": {},
   "outputs": [
    {
     "data": {
      "text/html": [
       "<div>\n",
       "<style scoped>\n",
       "    .dataframe tbody tr th:only-of-type {\n",
       "        vertical-align: middle;\n",
       "    }\n",
       "\n",
       "    .dataframe tbody tr th {\n",
       "        vertical-align: top;\n",
       "    }\n",
       "\n",
       "    .dataframe thead th {\n",
       "        text-align: right;\n",
       "    }\n",
       "</style>\n",
       "<table border=\"1\" class=\"dataframe\">\n",
       "  <thead>\n",
       "    <tr style=\"text-align: right;\">\n",
       "      <th></th>\n",
       "      <th>Category</th>\n",
       "      <th>Rating</th>\n",
       "      <th>Reviews</th>\n",
       "      <th>Size</th>\n",
       "      <th>Installs</th>\n",
       "      <th>Content Rating</th>\n",
       "      <th>Current Ver</th>\n",
       "      <th>Android Ver</th>\n",
       "      <th>Main_Genre</th>\n",
       "      <th>Days_Since_Last_Update</th>\n",
       "    </tr>\n",
       "  </thead>\n",
       "  <tbody>\n",
       "    <tr>\n",
       "      <th>0</th>\n",
       "      <td>ART_AND_DESIGN</td>\n",
       "      <td>4.1</td>\n",
       "      <td>159</td>\n",
       "      <td>19000.0</td>\n",
       "      <td>10000</td>\n",
       "      <td>Everyone</td>\n",
       "      <td>1.0.0</td>\n",
       "      <td>4.0.3 and up</td>\n",
       "      <td>Art &amp; Design</td>\n",
       "      <td>2065</td>\n",
       "    </tr>\n",
       "    <tr>\n",
       "      <th>1</th>\n",
       "      <td>ART_AND_DESIGN</td>\n",
       "      <td>3.9</td>\n",
       "      <td>967</td>\n",
       "      <td>14000.0</td>\n",
       "      <td>500000</td>\n",
       "      <td>Everyone</td>\n",
       "      <td>2.0.0</td>\n",
       "      <td>4.0.3 and up</td>\n",
       "      <td>Art &amp; Design</td>\n",
       "      <td>2057</td>\n",
       "    </tr>\n",
       "    <tr>\n",
       "      <th>2</th>\n",
       "      <td>ART_AND_DESIGN</td>\n",
       "      <td>4.7</td>\n",
       "      <td>87510</td>\n",
       "      <td>8700.0</td>\n",
       "      <td>5000000</td>\n",
       "      <td>Everyone</td>\n",
       "      <td>1.2.4</td>\n",
       "      <td>4.0.3 and up</td>\n",
       "      <td>Art &amp; Design</td>\n",
       "      <td>1859</td>\n",
       "    </tr>\n",
       "    <tr>\n",
       "      <th>3</th>\n",
       "      <td>ART_AND_DESIGN</td>\n",
       "      <td>4.5</td>\n",
       "      <td>215644</td>\n",
       "      <td>25000.0</td>\n",
       "      <td>50000000</td>\n",
       "      <td>Teen</td>\n",
       "      <td>Varies with device</td>\n",
       "      <td>4.2 and up</td>\n",
       "      <td>Art &amp; Design</td>\n",
       "      <td>1913</td>\n",
       "    </tr>\n",
       "    <tr>\n",
       "      <th>4</th>\n",
       "      <td>ART_AND_DESIGN</td>\n",
       "      <td>4.3</td>\n",
       "      <td>967</td>\n",
       "      <td>2800.0</td>\n",
       "      <td>100000</td>\n",
       "      <td>Everyone</td>\n",
       "      <td>1.1</td>\n",
       "      <td>4.4 and up</td>\n",
       "      <td>Art &amp; Design</td>\n",
       "      <td>1901</td>\n",
       "    </tr>\n",
       "  </tbody>\n",
       "</table>\n",
       "</div>"
      ],
      "text/plain": [
       "         Category  Rating  Reviews     Size  Installs Content Rating  \\\n",
       "0  ART_AND_DESIGN     4.1      159  19000.0     10000       Everyone   \n",
       "1  ART_AND_DESIGN     3.9      967  14000.0    500000       Everyone   \n",
       "2  ART_AND_DESIGN     4.7    87510   8700.0   5000000       Everyone   \n",
       "3  ART_AND_DESIGN     4.5   215644  25000.0  50000000           Teen   \n",
       "4  ART_AND_DESIGN     4.3      967   2800.0    100000       Everyone   \n",
       "\n",
       "          Current Ver   Android Ver    Main_Genre  Days_Since_Last_Update  \n",
       "0               1.0.0  4.0.3 and up  Art & Design                    2065  \n",
       "1               2.0.0  4.0.3 and up  Art & Design                    2057  \n",
       "2               1.2.4  4.0.3 and up  Art & Design                    1859  \n",
       "3  Varies with device    4.2 and up  Art & Design                    1913  \n",
       "4                 1.1    4.4 and up  Art & Design                    1901  "
      ]
     },
     "execution_count": 34,
     "metadata": {},
     "output_type": "execute_result"
    }
   ],
   "source": [
    "df_clean.head()"
   ]
  },
  {
   "cell_type": "code",
   "execution_count": null,
   "id": "7704dbab-57b4-49df-b479-e87c2fbdc464",
   "metadata": {},
   "outputs": [],
   "source": []
  },
  {
   "cell_type": "code",
   "execution_count": null,
   "id": "4a3e1f16-3327-48fc-a33c-9a9a6cc51cd9",
   "metadata": {},
   "outputs": [],
   "source": []
  }
 ],
 "metadata": {
  "kernelspec": {
   "display_name": "Python 3 (ipykernel)",
   "language": "python",
   "name": "python3"
  },
  "language_info": {
   "codemirror_mode": {
    "name": "ipython",
    "version": 3
   },
   "file_extension": ".py",
   "mimetype": "text/x-python",
   "name": "python",
   "nbconvert_exporter": "python",
   "pygments_lexer": "ipython3",
   "version": "3.10.4"
  }
 },
 "nbformat": 4,
 "nbformat_minor": 5
}
