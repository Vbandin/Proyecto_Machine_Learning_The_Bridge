{
 "cells": [
  {
   "cell_type": "code",
   "execution_count": 1,
   "id": "e0d27a34-bf23-416c-b846-c32b8c3ea1e6",
   "metadata": {},
   "outputs": [
    {
     "name": "stdout",
     "output_type": "stream",
     "text": [
      "Requirement already satisfied: optuna in c:\\users\\victor\\anaconda3\\envs\\general\\lib\\site-packages (3.1.0)\n",
      "Requirement already satisfied: tqdm in c:\\users\\victor\\anaconda3\\envs\\general\\lib\\site-packages (from optuna) (4.64.0)\n",
      "Requirement already satisfied: cmaes>=0.9.1 in c:\\users\\victor\\anaconda3\\envs\\general\\lib\\site-packages (from optuna) (0.9.1)\n",
      "Requirement already satisfied: colorlog in c:\\users\\victor\\anaconda3\\envs\\general\\lib\\site-packages (from optuna) (6.7.0)\n",
      "Requirement already satisfied: PyYAML in c:\\users\\victor\\anaconda3\\envs\\general\\lib\\site-packages (from optuna) (6.0)\n",
      "Requirement already satisfied: packaging>=20.0 in c:\\users\\victor\\anaconda3\\envs\\general\\lib\\site-packages (from optuna) (21.3)\n",
      "Requirement already satisfied: sqlalchemy>=1.3.0 in c:\\users\\victor\\anaconda3\\envs\\general\\lib\\site-packages (from optuna) (2.0.3)\n",
      "Requirement already satisfied: alembic>=1.5.0 in c:\\users\\victor\\anaconda3\\envs\\general\\lib\\site-packages (from optuna) (1.9.3)\n",
      "Requirement already satisfied: numpy in c:\\users\\victor\\anaconda3\\envs\\general\\lib\\site-packages (from optuna) (1.23.3)\n",
      "Requirement already satisfied: Mako in c:\\users\\victor\\anaconda3\\envs\\general\\lib\\site-packages (from alembic>=1.5.0->optuna) (1.2.4)\n",
      "Requirement already satisfied: pyparsing!=3.0.5,>=2.0.2 in c:\\users\\victor\\anaconda3\\envs\\general\\lib\\site-packages (from packaging>=20.0->optuna) (3.0.9)\n",
      "Requirement already satisfied: greenlet!=0.4.17 in c:\\users\\victor\\anaconda3\\envs\\general\\lib\\site-packages (from sqlalchemy>=1.3.0->optuna) (2.0.2)\n",
      "Requirement already satisfied: typing-extensions>=4.2.0 in c:\\users\\victor\\anaconda3\\envs\\general\\lib\\site-packages (from sqlalchemy>=1.3.0->optuna) (4.3.0)\n",
      "Requirement already satisfied: colorama in c:\\users\\victor\\anaconda3\\envs\\general\\lib\\site-packages (from colorlog->optuna) (0.4.6)\n",
      "Requirement already satisfied: MarkupSafe>=0.9.2 in c:\\users\\victor\\anaconda3\\envs\\general\\lib\\site-packages (from Mako->alembic>=1.5.0->optuna) (2.1.1)\n"
     ]
    }
   ],
   "source": [
    "#!pip install optuna"
   ]
  },
  {
   "cell_type": "code",
   "execution_count": 1,
   "id": "71de02bb-a381-4431-bab4-4c8f2e9aa96f",
   "metadata": {},
   "outputs": [],
   "source": [
    "import numpy as np\n",
    "from catboost import CatBoostRegressor, Pool\n",
    "import datetime\n",
    "from matplotlib import pyplot as plt\n",
    "from sklearn.model_selection import train_test_split\n",
    "import optuna\n",
    "import pandas as pd\n",
    "from optuna.samplers import TPESampler\n",
    "import seaborn as sns\n",
    "from sklearn.compose import ColumnTransformer\n",
    "from sklearn.decomposition import PCA\n",
    "from sklearn.metrics import mean_absolute_error, mean_squared_error\n",
    "from sklearn.model_selection import train_test_split, GridSearchCV\n",
    "from sklearn.pipeline import Pipeline, make_pipeline\n",
    "from sklearn.preprocessing import OneHotEncoder , OrdinalEncoder, StandardScaler"
   ]
  },
  {
   "cell_type": "markdown",
   "id": "2aef74d6",
   "metadata": {},
   "source": [
    "# Functions"
   ]
  },
  {
   "cell_type": "code",
   "execution_count": 5,
   "id": "35f8a367",
   "metadata": {},
   "outputs": [],
   "source": [
    "# Functions\n",
    "\n",
    "class Data_Operations():\n",
    "    def __init__(self) -> None:\n",
    "        pass\n",
    "    \n",
    "    def load_data(dataset):\n",
    "        '''\n",
    "        Esta función carga el dataset original para iniciar el preprocesado\n",
    "\n",
    "        Input: Ruta de acceso (paths[0]) + archivo csv (data_files[0])\n",
    "        Output: DataFrame Pandas (df)\n",
    "        '''\n",
    "        df = pd.read_csv(dataset)\n",
    "        return df\n",
    "\n",
    "    def clean_nans(df):\n",
    "        '''\n",
    "        Esta función elimina todos los NaN, ya que al estar la mayoria en la variable 'Rating' (Nuestro Target para\n",
    "        la predicción), carece de sentido estimar sus valores durante el preprocesado y contamos con un volumen de \n",
    "        datos suficiente.\n",
    "        \n",
    "        Input: Dataframe original cargado desde el csv (df).\n",
    "        Output: Otro Dataframe sin valores NaN.\n",
    "        '''\n",
    "        df_No_NaNs = df.copy().dropna(subset=[\"Rating\",\"Content Rating\", \"Current Ver\", \"Android Ver\"])\n",
    "        df_No_NaNs.to_csv(r'..\\data\\processed_files\\df_No_NaNs.csv', index = False)\n",
    "        return df_No_NaNs\n",
    "    \n",
    "    def dataset_preprocessing(df_No_NaNs):\n",
    "        '''\n",
    "        Esta función limpia el dataset inicial para poder trabajar con el modelo (CatBoost).\n",
    "        Transforma y cambia el tipo de:\n",
    "        Crea una nueva variable a partir de:\n",
    "        Elimina las variables:\n",
    "\n",
    "        Input: dataset\n",
    "        Output: Dataset limpio y listo para trabajar con el modelo (CatBoost)\n",
    "        '''\n",
    "        df_No_NaNs[\"Reviews\"] = df_No_NaNs[\"Reviews\"].astype('int64')\n",
    "        df_No_NaNs[\"Size\"] = df_No_NaNs[\"Size\"].replace(['Varies with device'],['14000']).apply(lambda x: float(x.replace('M','')) *1000 if 'M' in x else (float(x.replace('k','')) /1000 if 'k' in x else x)).astype('float64')\n",
    "        df_No_NaNs[\"Installs\"] = df_No_NaNs[\"Installs\"].str.split('+',expand=True)[0].apply(lambda x: x.replace(',','')).astype('int64')\n",
    "        df_No_NaNs[\"Main_Genre\"] = df_No_NaNs[\"Genres\"].str.split(';',expand=True)[0]\n",
    "        df_No_NaNs[\"Last Updated\"] = df_No_NaNs[\"Last Updated\"].apply(lambda x: x.replace(' ','/').replace(',','').replace('January','1').replace('February','2').replace('March','3').replace('April','4').replace('May','5').replace('June','6').replace('July','7').replace('August','8').replace('September','9').replace('October','10').replace('November','11').replace('December','12')).astype('datetime64')\n",
    "        timestamp = pd.Timestamp(datetime.datetime(2021, 10, 10))\n",
    "        df_No_NaNs['Today'] = pd.Timestamp(timestamp.today().strftime('%d-%m-%Y'))\n",
    "        df_No_NaNs['Days_Since_Last_Update'] = (df_No_NaNs['Today'] - df_No_NaNs[\"Last Updated\"]).dt.days\n",
    "        df_No_NaNs.drop(['App','Type','Price','Genres','Today','Last Updated'], axis=1, inplace=True)\n",
    "        df_Preprocessed = df_No_NaNs.copy()\n",
    "        df_Preprocessed.to_csv(r'..\\data\\processed_files\\df_Preprocessed.csv', index = False)\n",
    "        return df_Preprocessed\n",
    "\n",
    "class Model_Operations():\n",
    "    def __init__(self) -> None:\n",
    "        pass\n",
    "\n",
    "    def split_test(df):\n",
    "        X_train, X_test, y_train, y_test = train_test_split(df.drop('Rating', axis=1),\n",
    "                                                        df['Rating'],\n",
    "                                                        test_size=0.3,\n",
    "                                                        random_state=42)\n",
    "        return X_train, X_test, y_train, y_test\n",
    "    \n",
    "    def pre_fit(X_train, X_test, y_train, y_test):\n",
    "        pool_train = Pool(X_train, y_train,\n",
    "                            cat_features=['Category','Content Rating','Current Ver','Android Ver','Main_Genre'])\n",
    "        pool_test = Pool(X_test, y_test,\n",
    "                        cat_features=['Category','Content Rating','Current Ver','Android Ver','Main_Genre'])\n",
    "        return pool_train, pool_test\n",
    "             \n",
    "    def train_model(train):\n",
    "        cb = CatBoostRegressor(n_estimators=1000,\n",
    "                      loss_function='RMSE',\n",
    "                      learning_rate=0.1,\n",
    "                      random_state=1,\n",
    "                      verbose=False\n",
    "                      )\n",
    "        cb.fit(train)\n",
    "        model_trained = cb\n",
    "        return model_trained\n",
    "\n",
    "    def rmse_score(model_trained, X,y):\n",
    "        predict = model_trained.predict(X)\n",
    "        rmse = mean_squared_error(y, predict)\n",
    "        return rmse\n",
    "    \n",
    "    def save_best_model(model_trained):\n",
    "        timestamp = pd.Timestamp(datetime.date(2021, 10, 10))\n",
    "        fecha_hoy = timestamp.today().strftime(('%d-%m-%Y'))\n",
    "        joblib.dump(model_trained, r'model\\best_app_rating_model-'+fecha_hoy+'.pkl')\n",
    "\n",
    "    def open_last_saved_model(pickle):\n",
    "        final_model_reloaded = joblib.load(pickle)\n",
    "        return final_model_reloaded\n",
    "    \n",
    "    def prepare_full_dataset(df_Preprocessed):\n",
    "        X_full = df_Preprocessed.drop('Rating', axis=1)\n",
    "        y_full = df_Preprocessed['Rating']\n",
    "        return X_full, y_full\n",
    "\n",
    "    def pre_fit_full_dataset(X_full, y_full):\n",
    "        pool_full_dataset = Pool(X_full, y_full,\n",
    "                            cat_features=['Category','Content Rating','Current Ver','Android Ver','Main_Genre'])\n",
    "        return pool_full_dataset\n",
    "\n",
    "    def save_best_model_full_dataset(model_trained_full_dataset):\n",
    "        timestamp = pd.Timestamp(datetime.date(2021, 10, 10))\n",
    "        fecha_hoy = timestamp.today().strftime(('%d-%m-%Y'))\n",
    "        joblib.dump(model_trained_full_dataset, r'model\\best_app_rating_model_full_training-'+fecha_hoy+'.pkl')"
   ]
  },
  {
   "cell_type": "markdown",
   "id": "59a0192c",
   "metadata": {},
   "source": [
    "# Main"
   ]
  },
  {
   "cell_type": "markdown",
   "id": "6a3a6ebc-5d49-4e49-bc2c-4383302bea0b",
   "metadata": {},
   "source": [
    "## Preprocesado"
   ]
  },
  {
   "cell_type": "code",
   "execution_count": 6,
   "id": "46bd81b7",
   "metadata": {},
   "outputs": [
    {
     "name": "stdout",
     "output_type": "stream",
     "text": [
      "Dataset Cargado\n",
      "Dataset sin NaNs\n",
      "Preprocesado acabado\n"
     ]
    }
   ],
   "source": [
    "# Cargo el Dataset Original\n",
    "\n",
    "df = Data_Operations.load_data(r'..\\data\\raw_files\\googleplaystore.csv')\n",
    "print('Dataset Cargado')\n",
    "# Elimino los NaN (La mayoria estan en el target y tenemos datos suficientes).\n",
    "\n",
    "df_No_NaNs = Data_Operations.clean_nans(df)\n",
    "print('Dataset sin NaNs')\n",
    "\n",
    "# Completo el preprocesado de los datos \n",
    "\n",
    "df_Preprocessed = Data_Operations.dataset_preprocessing(df_No_NaNs)\n",
    "print('Preprocesado acabado')"
   ]
  },
  {
   "cell_type": "markdown",
   "id": "2ca1effe",
   "metadata": {},
   "source": [
    "## Train Test Split"
   ]
  },
  {
   "cell_type": "code",
   "execution_count": 7,
   "id": "c4ff4c00",
   "metadata": {},
   "outputs": [
    {
     "name": "stdout",
     "output_type": "stream",
     "text": [
      "División en Train y Test\n"
     ]
    }
   ],
   "source": [
    "# Divido el dataset preprocesado en train y test\n",
    "\n",
    "X_train, X_test, y_train, y_test = Model_Operations.split_test(df_Preprocessed)\n",
    "print('División en Train y Test')"
   ]
  },
  {
   "cell_type": "markdown",
   "id": "53981223-5429-4912-87cf-6efc0bc881af",
   "metadata": {},
   "source": [
    "# Optuna"
   ]
  },
  {
   "cell_type": "code",
   "execution_count": 12,
   "id": "217bca45-53d4-45ef-851a-4867579bb801",
   "metadata": {},
   "outputs": [],
   "source": [
    "def objective(trial):\n",
    "    model = CatBoostRegressor(\n",
    "        iterations=trial.suggest_int(\"iterations\", 100, 1000),\n",
    "        learning_rate=trial.suggest_float(\"learning_rate\", 1e-3, 1e-1, log=True),\n",
    "        depth=trial.suggest_int(\"depth\", 4, 10),\n",
    "        l2_leaf_reg=trial.suggest_float(\"l2_leaf_reg\", 1e-8, 100.0, log=True),\n",
    "        bootstrap_type=trial.suggest_categorical(\"bootstrap_type\", [\"Bayesian\"]),\n",
    "        random_strength=trial.suggest_float(\"random_strength\", 1e-8, 10.0, log=True),\n",
    "        bagging_temperature=trial.suggest_float(\"bagging_temperature\", 0.0, 10.0),\n",
    "        od_type=trial.suggest_categorical(\"od_type\", [\"IncToDec\", \"Iter\"]),\n",
    "        od_wait=trial.suggest_int(\"od_wait\", 10, 50),\n",
    "        verbose=False\n",
    "    )\n",
    "    model.fit(X_train, y_train, cat_features=['Category','Content Rating','Current Ver','Android Ver','Main_Genre'])\n",
    "    y_pred = model.predict(X_train)\n",
    "    return print(mean_absolute_error(y_train, y_pred))\n"
   ]
  },
  {
   "cell_type": "code",
   "execution_count": 13,
   "id": "88fb7d72-341c-4e2f-a65f-109cbe718eda",
   "metadata": {},
   "outputs": [
    {
     "name": "stderr",
     "output_type": "stream",
     "text": [
      "\u001b[33m[W 2023-03-10 16:14:46,894]\u001b[0m Trial 0 failed with parameters: {'iterations': 475, 'learning_rate': 0.027583475549166746, 'depth': 4, 'l2_leaf_reg': 1.0551779964424746e-05, 'bootstrap_type': 'Bayesian', 'random_strength': 2.0931628460945333e-07, 'bagging_temperature': 0.923385947687978, 'od_type': 'Iter', 'od_wait': 26} because of the following error: The value None could not be cast to float..\u001b[0m\n",
      "\u001b[33m[W 2023-03-10 16:14:46,895]\u001b[0m Trial 0 failed with value None.\u001b[0m\n"
     ]
    },
    {
     "name": "stdout",
     "output_type": "stream",
     "text": [
      "0.2973831456085582\n"
     ]
    },
    {
     "name": "stderr",
     "output_type": "stream",
     "text": [
      "\u001b[33m[W 2023-03-10 16:15:05,623]\u001b[0m Trial 1 failed with parameters: {'iterations': 585, 'learning_rate': 0.006892694481137703, 'depth': 8, 'l2_leaf_reg': 1.10795595820296e-06, 'bootstrap_type': 'Bayesian', 'random_strength': 0.7999391045172093, 'bagging_temperature': 0.27387593197926163, 'od_type': 'IncToDec', 'od_wait': 32} because of the following error: The value None could not be cast to float..\u001b[0m\n",
      "\u001b[33m[W 2023-03-10 16:15:05,624]\u001b[0m Trial 1 failed with value None.\u001b[0m\n"
     ]
    },
    {
     "name": "stdout",
     "output_type": "stream",
     "text": [
      "0.294617032419915\n"
     ]
    },
    {
     "name": "stderr",
     "output_type": "stream",
     "text": [
      "\u001b[33m[W 2023-03-10 16:15:14,735]\u001b[0m Trial 2 failed with parameters: {'iterations': 226, 'learning_rate': 0.002490020818620744, 'depth': 9, 'l2_leaf_reg': 48.15215820395775, 'bootstrap_type': 'Bayesian', 'random_strength': 6.6193844201488494e-06, 'bagging_temperature': 6.923226156693141, 'od_type': 'Iter', 'od_wait': 13} because of the following error: The value None could not be cast to float..\u001b[0m\n",
      "\u001b[33m[W 2023-03-10 16:15:14,736]\u001b[0m Trial 2 failed with value None.\u001b[0m\n"
     ]
    },
    {
     "name": "stdout",
     "output_type": "stream",
     "text": [
      "0.35193393097915154\n"
     ]
    },
    {
     "name": "stderr",
     "output_type": "stream",
     "text": [
      "\u001b[33m[W 2023-03-10 16:15:19,973]\u001b[0m Trial 3 failed with parameters: {'iterations': 135, 'learning_rate': 0.002186053765545967, 'depth': 10, 'l2_leaf_reg': 9.62649829692002e-08, 'bootstrap_type': 'Bayesian', 'random_strength': 6.165504584878686e-05, 'bagging_temperature': 9.57889530150502, 'od_type': 'Iter', 'od_wait': 22} because of the following error: The value None could not be cast to float..\u001b[0m\n",
      "\u001b[33m[W 2023-03-10 16:15:19,973]\u001b[0m Trial 3 failed with value None.\u001b[0m\n"
     ]
    },
    {
     "name": "stdout",
     "output_type": "stream",
     "text": [
      "0.3517026558412618\n"
     ]
    },
    {
     "name": "stderr",
     "output_type": "stream",
     "text": [
      "\u001b[33m[W 2023-03-10 16:15:30,050]\u001b[0m Trial 4 failed with parameters: {'iterations': 718, 'learning_rate': 0.0466929533152365, 'depth': 4, 'l2_leaf_reg': 0.31728033064508887, 'bootstrap_type': 'Bayesian', 'random_strength': 7.938707489172784, 'bagging_temperature': 7.481656543798394, 'od_type': 'Iter', 'od_wait': 14} because of the following error: The value None could not be cast to float..\u001b[0m\n",
      "\u001b[33m[W 2023-03-10 16:15:30,051]\u001b[0m Trial 4 failed with value None.\u001b[0m\n"
     ]
    },
    {
     "name": "stdout",
     "output_type": "stream",
     "text": [
      "0.3029477707735767\n"
     ]
    }
   ],
   "source": [
    "optuna.logging.set_verbosity(optuna.logging.WARNING)\n",
    "\n",
    "sampler = TPESampler(seed=1)\n",
    "study = optuna.create_study(study_name=\"catboostReg\", direction=\"minimize\", sampler=sampler)\n",
    "study.optimize(objective, n_trials=5)"
   ]
  },
  {
   "cell_type": "markdown",
   "id": "bf795cfa-11ed-4828-9678-129fe7b5cea1",
   "metadata": {},
   "source": [
    "Evaluate the trial"
   ]
  },
  {
   "cell_type": "code",
   "execution_count": null,
   "id": "706dfaf5-e48e-4c9b-98e0-2e0afc79b0d6",
   "metadata": {},
   "outputs": [],
   "source": [
    "print(\"Number of finished trials: \", len(study.trials))\n",
    "print(\"Best trial:\")\n",
    "trial = study.best_trial\n",
    "print(\"  Value: \", trial.value)\n",
    "print(\"  Params: \")\n",
    "for key, value in trial.params.items():\n",
    "    print(\"    {}: {}\".format(key, value))\n"
   ]
  },
  {
   "cell_type": "markdown",
   "id": "17493e86",
   "metadata": {},
   "source": [
    "# Test Mejor modelo identificado"
   ]
  },
  {
   "cell_type": "code",
   "execution_count": 14,
   "id": "9fb502b4-d940-4023-b847-0a50d66ab76d",
   "metadata": {},
   "outputs": [],
   "source": [
    "cb = CatBoostRegressor(n_estimators=1000,\n",
    "                      loss_function='RMSE',\n",
    "                      learning_rate=0.1,\n",
    "                      random_state=1,\n",
    "                      verbose=False\n",
    "                      )\n",
    "\n",
    "pool_train = Pool(X_train, y_train,\n",
    "                 cat_features=['Category','Content Rating','Current Ver','Android Ver','Main_Genre'])\n",
    "pool_test = Pool(X_test,\n",
    "                  cat_features=['Category','Content Rating','Current Ver','Android Ver','Main_Genre'])\n",
    "\n",
    "cb.fit(pool_train)\n",
    "\n",
    "y_pred_train = cb.predict(pool_train)\n",
    "y_pred_test = cb.predict(pool_test)"
   ]
  },
  {
   "cell_type": "code",
   "execution_count": 15,
   "id": "75e820dd-9c49-460f-9c8b-79a51a9429b1",
   "metadata": {},
   "outputs": [
    {
     "name": "stdout",
     "output_type": "stream",
     "text": [
      "0.22415686670617946\n",
      "0.11672451608513691\n",
      "0.30362632714960647\n",
      "0.20785788182815668\n"
     ]
    }
   ],
   "source": [
    "print(mean_absolute_error(y_train, y_pred_train))\n",
    "print(mean_squared_error(y_train, y_pred_train))\n",
    "print(mean_absolute_error(y_test, y_pred_test))\n",
    "print(mean_squared_error(y_test, y_pred_test))"
   ]
  },
  {
   "cell_type": "markdown",
   "id": "09ad4028",
   "metadata": {},
   "source": [
    "Prueba Modelo con menos categorias"
   ]
  },
  {
   "cell_type": "code",
   "execution_count": 97,
   "id": "274a8d10-4733-448b-b334-c48a14bc7c2f",
   "metadata": {},
   "outputs": [
    {
     "name": "stdout",
     "output_type": "stream",
     "text": [
      "0.22478150114722079\n",
      "0.11838093335452807\n",
      "0.3041890143765832\n",
      "0.2097201314271032\n"
     ]
    }
   ],
   "source": [
    "print(mean_absolute_error(y_train, y_pred_train))\n",
    "print(mean_squared_error(y_train, y_pred_train))\n",
    "print(mean_absolute_error(y_test, y_pred_test))\n",
    "print(mean_squared_error(y_test, y_pred_test))"
   ]
  },
  {
   "cell_type": "code",
   "execution_count": 16,
   "id": "815b502e",
   "metadata": {},
   "outputs": [
    {
     "data": {
      "image/png": "[encoded data removed]",
      "text/plain": [
       "<Figure size 640x480 with 1 Axes>"
      ]
     },
     "metadata": {},
     "output_type": "display_data"
    }
   ],
   "source": [
    "classes = X_train.columns.values.tolist()\n",
    "g = sns.barplot(x=classes, y=cb.get_feature_importance(type= \"FeatureImportance\"));\n",
    "g.set_xticklabels(\n",
    "    labels=classes, rotation=30);"
   ]
  }
 ],
 "metadata": {
  "kernelspec": {
   "display_name": "Python 3 (ipykernel)",
   "language": "python",
   "name": "python3"
  },
  "language_info": {
   "codemirror_mode": {
    "name": "ipython",
    "version": 3
   },
   "file_extension": ".py",
   "mimetype": "text/x-python",
   "name": "python",
   "nbconvert_exporter": "python",
   "pygments_lexer": "ipython3",
   "version": "3.10.4"
  }
 },
 "nbformat": 4,
 "nbformat_minor": 5
}
