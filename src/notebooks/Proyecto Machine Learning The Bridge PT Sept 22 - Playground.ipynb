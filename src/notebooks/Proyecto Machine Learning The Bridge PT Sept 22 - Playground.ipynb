{
 "cells": [
  {
   "cell_type": "markdown",
   "id": "be86802c",
   "metadata": {},
   "source": [
    "# Proyecto Machine Learning"
   ]
  },
  {
   "cell_type": "markdown",
   "id": "4e06e82d",
   "metadata": {},
   "source": [
    "# Importo librerias"
   ]
  },
  {
   "cell_type": "code",
   "execution_count": 127,
   "id": "20e34444",
   "metadata": {},
   "outputs": [],
   "source": [
    "from catboost import CatBoostRegressor, Pool\n",
    "import datetime\n",
    "from matplotlib import pyplot as plt\n",
    "import numpy as np\n",
    "import pandas as pd\n",
    "import seaborn as sns\n",
    "from sklearn.compose import ColumnTransformer\n",
    "from sklearn.decomposition import PCA\n",
    "from sklearn.metrics import mean_absolute_error, mean_squared_error\n",
    "from sklearn.model_selection import train_test_split\n",
    "from sklearn.pipeline import Pipeline, make_pipeline\n",
    "from sklearn.preprocessing import OneHotEncoder , OrdinalEncoder, StandardScaler"
   ]
  },
  {
   "cell_type": "markdown",
   "id": "3644226a",
   "metadata": {},
   "source": [
    "## Utils"
   ]
  },
  {
   "cell_type": "code",
   "execution_count": 2,
   "id": "717d55da",
   "metadata": {},
   "outputs": [],
   "source": [
    "def data_report(df):\n",
    "    # Sacamos los NOMBRES\n",
    "    cols = pd.DataFrame(df.columns.values, columns=[\"COL_N\"])\n",
    "\n",
    "    # Sacamos los TIPOS\n",
    "    types = pd.DataFrame(df.dtypes.values, columns=[\"DATA_TYPE\"])\n",
    "\n",
    "    # Sacamos los MISSINGS\n",
    "    percent_missing = round(df.isnull().sum() * 100 / len(df), 2)\n",
    "    percent_missing_df = pd.DataFrame(percent_missing.values, columns=[\"MISSINGS (%)\"])\n",
    "\n",
    "    # Sacamos los VALORES UNICOS\n",
    "    unicos = pd.DataFrame(df.nunique().values, columns=[\"UNIQUE_VALUES\"])\n",
    "    \n",
    "    percent_cardin = round(unicos['UNIQUE_VALUES']*100/len(df), 2)\n",
    "    percent_cardin_df = pd.DataFrame(percent_cardin.values, columns=[\"CARDIN (%)\"])\n",
    "\n",
    "    concatenado = pd.concat([cols, types, percent_missing_df, unicos, percent_cardin_df], axis=1, sort=False)\n",
    "    concatenado.set_index('COL_N', drop=True, inplace=True)\n",
    "\n",
    "\n",
    "    return concatenado.T"
   ]
  },
  {
   "cell_type": "markdown",
   "id": "542f88ee",
   "metadata": {},
   "source": [
    "## Abro el dataset"
   ]
  },
  {
   "cell_type": "code",
   "execution_count": 3,
   "id": "03118167",
   "metadata": {},
   "outputs": [],
   "source": [
    "df = pd.read_csv('googleplaystore.csv')"
   ]
  },
  {
   "cell_type": "markdown",
   "id": "ee6954a1",
   "metadata": {},
   "source": [
    "## Empiezo a explorar"
   ]
  },
  {
   "cell_type": "code",
   "execution_count": 4,
   "id": "d338560f",
   "metadata": {},
   "outputs": [
    {
     "data": {
      "text/plain": [
       "(10841, 13)"
      ]
     },
     "execution_count": 4,
     "metadata": {},
     "output_type": "execute_result"
    }
   ],
   "source": [
    "df.shape"
   ]
  },
  {
   "cell_type": "code",
   "execution_count": 5,
   "id": "1d1afed7",
   "metadata": {},
   "outputs": [
    {
     "data": {
      "text/html": [
       "<div>\n",
       "<style scoped>\n",
       "    .dataframe tbody tr th:only-of-type {\n",
       "        vertical-align: middle;\n",
       "    }\n",
       "\n",
       "    .dataframe tbody tr th {\n",
       "        vertical-align: top;\n",
       "    }\n",
       "\n",
       "    .dataframe thead th {\n",
       "        text-align: right;\n",
       "    }\n",
       "</style>\n",
       "<table border=\"1\" class=\"dataframe\">\n",
       "  <thead>\n",
       "    <tr style=\"text-align: right;\">\n",
       "      <th></th>\n",
       "      <th>App</th>\n",
       "      <th>Category</th>\n",
       "      <th>Rating</th>\n",
       "      <th>Reviews</th>\n",
       "      <th>Size</th>\n",
       "      <th>Installs</th>\n",
       "      <th>Type</th>\n",
       "      <th>Price</th>\n",
       "      <th>Content Rating</th>\n",
       "      <th>Genres</th>\n",
       "      <th>Last Updated</th>\n",
       "      <th>Current Ver</th>\n",
       "      <th>Android Ver</th>\n",
       "    </tr>\n",
       "  </thead>\n",
       "  <tbody>\n",
       "    <tr>\n",
       "      <th>0</th>\n",
       "      <td>Photo Editor &amp; Candy Camera &amp; Grid &amp; ScrapBook</td>\n",
       "      <td>ART_AND_DESIGN</td>\n",
       "      <td>4.1</td>\n",
       "      <td>159</td>\n",
       "      <td>19M</td>\n",
       "      <td>10,000+</td>\n",
       "      <td>Free</td>\n",
       "      <td>0</td>\n",
       "      <td>Everyone</td>\n",
       "      <td>Art &amp; Design</td>\n",
       "      <td>January 7, 2018</td>\n",
       "      <td>1.0.0</td>\n",
       "      <td>4.0.3 and up</td>\n",
       "    </tr>\n",
       "    <tr>\n",
       "      <th>1</th>\n",
       "      <td>Coloring book moana</td>\n",
       "      <td>ART_AND_DESIGN</td>\n",
       "      <td>3.9</td>\n",
       "      <td>967</td>\n",
       "      <td>14M</td>\n",
       "      <td>500,000+</td>\n",
       "      <td>Free</td>\n",
       "      <td>0</td>\n",
       "      <td>Everyone</td>\n",
       "      <td>Art &amp; Design;Pretend Play</td>\n",
       "      <td>January 15, 2018</td>\n",
       "      <td>2.0.0</td>\n",
       "      <td>4.0.3 and up</td>\n",
       "    </tr>\n",
       "    <tr>\n",
       "      <th>2</th>\n",
       "      <td>U Launcher Lite – FREE Live Cool Themes, Hide ...</td>\n",
       "      <td>ART_AND_DESIGN</td>\n",
       "      <td>4.7</td>\n",
       "      <td>87510</td>\n",
       "      <td>8.7M</td>\n",
       "      <td>5,000,000+</td>\n",
       "      <td>Free</td>\n",
       "      <td>0</td>\n",
       "      <td>Everyone</td>\n",
       "      <td>Art &amp; Design</td>\n",
       "      <td>August 1, 2018</td>\n",
       "      <td>1.2.4</td>\n",
       "      <td>4.0.3 and up</td>\n",
       "    </tr>\n",
       "    <tr>\n",
       "      <th>3</th>\n",
       "      <td>Sketch - Draw &amp; Paint</td>\n",
       "      <td>ART_AND_DESIGN</td>\n",
       "      <td>4.5</td>\n",
       "      <td>215644</td>\n",
       "      <td>25M</td>\n",
       "      <td>50,000,000+</td>\n",
       "      <td>Free</td>\n",
       "      <td>0</td>\n",
       "      <td>Teen</td>\n",
       "      <td>Art &amp; Design</td>\n",
       "      <td>June 8, 2018</td>\n",
       "      <td>Varies with device</td>\n",
       "      <td>4.2 and up</td>\n",
       "    </tr>\n",
       "    <tr>\n",
       "      <th>4</th>\n",
       "      <td>Pixel Draw - Number Art Coloring Book</td>\n",
       "      <td>ART_AND_DESIGN</td>\n",
       "      <td>4.3</td>\n",
       "      <td>967</td>\n",
       "      <td>2.8M</td>\n",
       "      <td>100,000+</td>\n",
       "      <td>Free</td>\n",
       "      <td>0</td>\n",
       "      <td>Everyone</td>\n",
       "      <td>Art &amp; Design;Creativity</td>\n",
       "      <td>June 20, 2018</td>\n",
       "      <td>1.1</td>\n",
       "      <td>4.4 and up</td>\n",
       "    </tr>\n",
       "  </tbody>\n",
       "</table>\n",
       "</div>"
      ],
      "text/plain": [
       "                                                 App        Category  Rating  \\\n",
       "0     Photo Editor & Candy Camera & Grid & ScrapBook  ART_AND_DESIGN     4.1   \n",
       "1                                Coloring book moana  ART_AND_DESIGN     3.9   \n",
       "2  U Launcher Lite – FREE Live Cool Themes, Hide ...  ART_AND_DESIGN     4.7   \n",
       "3                              Sketch - Draw & Paint  ART_AND_DESIGN     4.5   \n",
       "4              Pixel Draw - Number Art Coloring Book  ART_AND_DESIGN     4.3   \n",
       "\n",
       "  Reviews  Size     Installs  Type Price Content Rating  \\\n",
       "0     159   19M      10,000+  Free     0       Everyone   \n",
       "1     967   14M     500,000+  Free     0       Everyone   \n",
       "2   87510  8.7M   5,000,000+  Free     0       Everyone   \n",
       "3  215644   25M  50,000,000+  Free     0           Teen   \n",
       "4     967  2.8M     100,000+  Free     0       Everyone   \n",
       "\n",
       "                      Genres      Last Updated         Current Ver  \\\n",
       "0               Art & Design   January 7, 2018               1.0.0   \n",
       "1  Art & Design;Pretend Play  January 15, 2018               2.0.0   \n",
       "2               Art & Design    August 1, 2018               1.2.4   \n",
       "3               Art & Design      June 8, 2018  Varies with device   \n",
       "4    Art & Design;Creativity     June 20, 2018                 1.1   \n",
       "\n",
       "    Android Ver  \n",
       "0  4.0.3 and up  \n",
       "1  4.0.3 and up  \n",
       "2  4.0.3 and up  \n",
       "3    4.2 and up  \n",
       "4    4.4 and up  "
      ]
     },
     "execution_count": 5,
     "metadata": {},
     "output_type": "execute_result"
    }
   ],
   "source": [
    "df.head()"
   ]
  },
  {
   "cell_type": "code",
   "execution_count": 6,
   "id": "bce9173e",
   "metadata": {},
   "outputs": [
    {
     "name": "stdout",
     "output_type": "stream",
     "text": [
      "<class 'pandas.core.frame.DataFrame'>\n",
      "RangeIndex: 10841 entries, 0 to 10840\n",
      "Data columns (total 13 columns):\n",
      " #   Column          Non-Null Count  Dtype  \n",
      "---  ------          --------------  -----  \n",
      " 0   App             10841 non-null  object \n",
      " 1   Category        10841 non-null  object \n",
      " 2   Rating          9367 non-null   float64\n",
      " 3   Reviews         10841 non-null  object \n",
      " 4   Size            10841 non-null  object \n",
      " 5   Installs        10841 non-null  object \n",
      " 6   Type            10840 non-null  object \n",
      " 7   Price           10841 non-null  object \n",
      " 8   Content Rating  10840 non-null  object \n",
      " 9   Genres          10841 non-null  object \n",
      " 10  Last Updated    10841 non-null  object \n",
      " 11  Current Ver     10833 non-null  object \n",
      " 12  Android Ver     10838 non-null  object \n",
      "dtypes: float64(1), object(12)\n",
      "memory usage: 1.1+ MB\n"
     ]
    }
   ],
   "source": [
    "df.info()"
   ]
  },
  {
   "cell_type": "code",
   "execution_count": 7,
   "id": "55e647ce",
   "metadata": {},
   "outputs": [
    {
     "name": "stderr",
     "output_type": "stream",
     "text": [
      "C:\\Users\\Victor\\AppData\\Local\\Temp\\ipykernel_8760\\1134722465.py:1: FutureWarning: The default value of numeric_only in DataFrame.corr is deprecated. In a future version, it will default to False. Select only valid columns or specify the value of numeric_only to silence this warning.\n",
      "  df.corr()\n"
     ]
    },
    {
     "data": {
      "text/html": [
       "<div>\n",
       "<style scoped>\n",
       "    .dataframe tbody tr th:only-of-type {\n",
       "        vertical-align: middle;\n",
       "    }\n",
       "\n",
       "    .dataframe tbody tr th {\n",
       "        vertical-align: top;\n",
       "    }\n",
       "\n",
       "    .dataframe thead th {\n",
       "        text-align: right;\n",
       "    }\n",
       "</style>\n",
       "<table border=\"1\" class=\"dataframe\">\n",
       "  <thead>\n",
       "    <tr style=\"text-align: right;\">\n",
       "      <th></th>\n",
       "      <th>Rating</th>\n",
       "    </tr>\n",
       "  </thead>\n",
       "  <tbody>\n",
       "    <tr>\n",
       "      <th>Rating</th>\n",
       "      <td>1.0</td>\n",
       "    </tr>\n",
       "  </tbody>\n",
       "</table>\n",
       "</div>"
      ],
      "text/plain": [
       "        Rating\n",
       "Rating     1.0"
      ]
     },
     "execution_count": 7,
     "metadata": {},
     "output_type": "execute_result"
    }
   ],
   "source": [
    "df.corr()"
   ]
  },
  {
   "cell_type": "code",
   "execution_count": 8,
   "id": "294f235f",
   "metadata": {
    "scrolled": true
   },
   "outputs": [
    {
     "data": {
      "text/html": [
       "<div>\n",
       "<style scoped>\n",
       "    .dataframe tbody tr th:only-of-type {\n",
       "        vertical-align: middle;\n",
       "    }\n",
       "\n",
       "    .dataframe tbody tr th {\n",
       "        vertical-align: top;\n",
       "    }\n",
       "\n",
       "    .dataframe thead th {\n",
       "        text-align: right;\n",
       "    }\n",
       "</style>\n",
       "<table border=\"1\" class=\"dataframe\">\n",
       "  <thead>\n",
       "    <tr style=\"text-align: right;\">\n",
       "      <th>COL_N</th>\n",
       "      <th>App</th>\n",
       "      <th>Category</th>\n",
       "      <th>Rating</th>\n",
       "      <th>Reviews</th>\n",
       "      <th>Size</th>\n",
       "      <th>Installs</th>\n",
       "      <th>Type</th>\n",
       "      <th>Price</th>\n",
       "      <th>Content Rating</th>\n",
       "      <th>Genres</th>\n",
       "      <th>Last Updated</th>\n",
       "      <th>Current Ver</th>\n",
       "      <th>Android Ver</th>\n",
       "    </tr>\n",
       "  </thead>\n",
       "  <tbody>\n",
       "    <tr>\n",
       "      <th>DATA_TYPE</th>\n",
       "      <td>object</td>\n",
       "      <td>object</td>\n",
       "      <td>float64</td>\n",
       "      <td>object</td>\n",
       "      <td>object</td>\n",
       "      <td>object</td>\n",
       "      <td>object</td>\n",
       "      <td>object</td>\n",
       "      <td>object</td>\n",
       "      <td>object</td>\n",
       "      <td>object</td>\n",
       "      <td>object</td>\n",
       "      <td>object</td>\n",
       "    </tr>\n",
       "    <tr>\n",
       "      <th>MISSINGS (%)</th>\n",
       "      <td>0.0</td>\n",
       "      <td>0.0</td>\n",
       "      <td>13.6</td>\n",
       "      <td>0.0</td>\n",
       "      <td>0.0</td>\n",
       "      <td>0.0</td>\n",
       "      <td>0.01</td>\n",
       "      <td>0.0</td>\n",
       "      <td>0.01</td>\n",
       "      <td>0.0</td>\n",
       "      <td>0.0</td>\n",
       "      <td>0.07</td>\n",
       "      <td>0.03</td>\n",
       "    </tr>\n",
       "    <tr>\n",
       "      <th>UNIQUE_VALUES</th>\n",
       "      <td>9660</td>\n",
       "      <td>34</td>\n",
       "      <td>40</td>\n",
       "      <td>6002</td>\n",
       "      <td>462</td>\n",
       "      <td>22</td>\n",
       "      <td>3</td>\n",
       "      <td>93</td>\n",
       "      <td>6</td>\n",
       "      <td>120</td>\n",
       "      <td>1378</td>\n",
       "      <td>2832</td>\n",
       "      <td>33</td>\n",
       "    </tr>\n",
       "    <tr>\n",
       "      <th>CARDIN (%)</th>\n",
       "      <td>89.11</td>\n",
       "      <td>0.31</td>\n",
       "      <td>0.37</td>\n",
       "      <td>55.36</td>\n",
       "      <td>4.26</td>\n",
       "      <td>0.2</td>\n",
       "      <td>0.03</td>\n",
       "      <td>0.86</td>\n",
       "      <td>0.06</td>\n",
       "      <td>1.11</td>\n",
       "      <td>12.71</td>\n",
       "      <td>26.12</td>\n",
       "      <td>0.3</td>\n",
       "    </tr>\n",
       "  </tbody>\n",
       "</table>\n",
       "</div>"
      ],
      "text/plain": [
       "COL_N             App Category   Rating Reviews    Size Installs    Type  \\\n",
       "DATA_TYPE      object   object  float64  object  object   object  object   \n",
       "MISSINGS (%)      0.0      0.0     13.6     0.0     0.0      0.0    0.01   \n",
       "UNIQUE_VALUES    9660       34       40    6002     462       22       3   \n",
       "CARDIN (%)      89.11     0.31     0.37   55.36    4.26      0.2    0.03   \n",
       "\n",
       "COL_N           Price Content Rating  Genres Last Updated Current Ver  \\\n",
       "DATA_TYPE      object         object  object       object      object   \n",
       "MISSINGS (%)      0.0           0.01     0.0          0.0        0.07   \n",
       "UNIQUE_VALUES      93              6     120         1378        2832   \n",
       "CARDIN (%)       0.86           0.06    1.11        12.71       26.12   \n",
       "\n",
       "COL_N         Android Ver  \n",
       "DATA_TYPE          object  \n",
       "MISSINGS (%)         0.03  \n",
       "UNIQUE_VALUES          33  \n",
       "CARDIN (%)            0.3  "
      ]
     },
     "execution_count": 8,
     "metadata": {},
     "output_type": "execute_result"
    }
   ],
   "source": [
    "data_report(df)"
   ]
  },
  {
   "cell_type": "code",
   "execution_count": 9,
   "id": "b0a1be23",
   "metadata": {},
   "outputs": [
    {
     "data": {
      "text/plain": [
       "<seaborn.axisgrid.PairGrid at 0x18994622380>"
      ]
     },
     "execution_count": 9,
     "metadata": {},
     "output_type": "execute_result"
    },
    {
     "data": {
      "image/png": "[encoded data removed]",
      "text/plain": [
       "<Figure size 250x250 with 2 Axes>"
      ]
     },
     "metadata": {},
     "output_type": "display_data"
    }
   ],
   "source": [
    "sns.pairplot(df)"
   ]
  },
  {
   "cell_type": "code",
   "execution_count": 10,
   "id": "9605c798",
   "metadata": {},
   "outputs": [
    {
     "data": {
      "image/png": "[encoded data removed]",
      "text/plain": [
       "<Figure size 1200x800 with 1 Axes>"
      ]
     },
     "metadata": {},
     "output_type": "display_data"
    }
   ],
   "source": [
    "# extra code – the next 5 lines define the default font sizes\n",
    "plt.rc('font', size=14)\n",
    "plt.rc('axes', labelsize=14, titlesize=14)\n",
    "plt.rc('legend', fontsize=14)\n",
    "plt.rc('xtick', labelsize=10)\n",
    "plt.rc('ytick', labelsize=10)\n",
    "\n",
    "df.hist(bins=50, figsize=(12, 8))\n",
    "#save_fig(\"attribute_histogram_plots\")  # extra code\n",
    "plt.show()"
   ]
  },
  {
   "cell_type": "markdown",
   "id": "d4468ca7",
   "metadata": {},
   "source": [
    "## Problema de Machine Learning"
   ]
  },
  {
   "cell_type": "markdown",
   "id": "60ce70f4",
   "metadata": {},
   "source": [
    "Con los datos disponibles quiero predecir el Rating de una app a partir del resto de variables disponibles: 'Category', 'Reviews', 'Size', 'Installs', 'Type', 'Price', 'Content Rating', 'Genres', 'Last Updated', 'Current Ver' y 'Android Ver'. Se trata por tanto de crear un modelo de regresion supervisado para resolver el problema."
   ]
  },
  {
   "cell_type": "markdown",
   "id": "99956c2c",
   "metadata": {},
   "source": [
    "## Elimino las filas que contienen Missings"
   ]
  },
  {
   "cell_type": "markdown",
   "id": "b136707a",
   "metadata": {},
   "source": [
    "Decido eliminar los missings porque la mayoria estan en el target ('Rating') y no tiene sentido estimarlos para luego predecirlos."
   ]
  },
  {
   "cell_type": "code",
   "execution_count": 11,
   "id": "b04fa220",
   "metadata": {
    "scrolled": true
   },
   "outputs": [
    {
     "name": "stdout",
     "output_type": "stream",
     "text": [
      "<class 'pandas.core.frame.DataFrame'>\n",
      "Int64Index: 9360 entries, 0 to 10840\n",
      "Data columns (total 13 columns):\n",
      " #   Column          Non-Null Count  Dtype  \n",
      "---  ------          --------------  -----  \n",
      " 0   App             9360 non-null   object \n",
      " 1   Category        9360 non-null   object \n",
      " 2   Rating          9360 non-null   float64\n",
      " 3   Reviews         9360 non-null   object \n",
      " 4   Size            9360 non-null   object \n",
      " 5   Installs        9360 non-null   object \n",
      " 6   Type            9360 non-null   object \n",
      " 7   Price           9360 non-null   object \n",
      " 8   Content Rating  9360 non-null   object \n",
      " 9   Genres          9360 non-null   object \n",
      " 10  Last Updated    9360 non-null   object \n",
      " 11  Current Ver     9360 non-null   object \n",
      " 12  Android Ver     9360 non-null   object \n",
      "dtypes: float64(1), object(12)\n",
      "memory usage: 1023.8+ KB\n"
     ]
    }
   ],
   "source": [
    "df2 = df.copy().dropna(subset=[\"Rating\",\"Content Rating\", \"Current Ver\", \"Android Ver\"])\n",
    "df2.info()\n"
   ]
  },
  {
   "cell_type": "markdown",
   "id": "556f37c9",
   "metadata": {},
   "source": [
    "A continuación examino una a una las variables"
   ]
  },
  {
   "cell_type": "markdown",
   "id": "64ca5491",
   "metadata": {},
   "source": [
    "## Divido el dataset en Train y Test"
   ]
  },
  {
   "cell_type": "code",
   "execution_count": 12,
   "id": "9f8cf50f",
   "metadata": {},
   "outputs": [],
   "source": [
    "X_train, X_test, y_train, y_test = train_test_split(df2.drop('Rating', axis=1),\n",
    "                                                    df2['Rating'],\n",
    "                                                    test_size=0.3,\n",
    "                                                    random_state=42)"
   ]
  },
  {
   "cell_type": "markdown",
   "id": "41c7d414",
   "metadata": {
    "tags": []
   },
   "source": [
    "## App"
   ]
  },
  {
   "cell_type": "markdown",
   "id": "f38c90cd",
   "metadata": {},
   "source": [
    "Nombre de la aplicación. Podria aportar valor si se analiza en profundidad la semantica de las palabras que contiene, pero en este caso lo descartamos por su complejidad, así que eliminamos la columna del dataFrame."
   ]
  },
  {
   "cell_type": "code",
   "execution_count": 13,
   "id": "28186ccb",
   "metadata": {},
   "outputs": [],
   "source": [
    "X_train.drop('App', axis=1, inplace=True)"
   ]
  },
  {
   "cell_type": "markdown",
   "id": "ca87bfd6",
   "metadata": {},
   "source": [
    "## Category"
   ]
  },
  {
   "cell_type": "markdown",
   "id": "1a7b5521",
   "metadata": {},
   "source": [
    "Categorica dificil de codificar. Como no son demasiados valores, el one hot enconding parace lo más adecuado."
   ]
  },
  {
   "cell_type": "code",
   "execution_count": 14,
   "id": "4dbf2975",
   "metadata": {},
   "outputs": [
    {
     "data": {
      "text/plain": [
       "FAMILY                 1228\n",
       "GAME                    768\n",
       "TOOLS                   513\n",
       "PRODUCTIVITY            256\n",
       "MEDICAL                 249\n",
       "PHOTOGRAPHY             232\n",
       "PERSONALIZATION         232\n",
       "FINANCE                 228\n",
       "COMMUNICATION           222\n",
       "BUSINESS                217\n",
       "SPORTS                  209\n",
       "HEALTH_AND_FITNESS      208\n",
       "LIFESTYLE               204\n",
       "SOCIAL                  195\n",
       "NEWS_AND_MAGAZINES      166\n",
       "SHOPPING                164\n",
       "TRAVEL_AND_LOCAL        147\n",
       "DATING                  126\n",
       "BOOKS_AND_REFERENCE     119\n",
       "ENTERTAINMENT           117\n",
       "VIDEO_PLAYERS           110\n",
       "EDUCATION               102\n",
       "MAPS_AND_NAVIGATION      93\n",
       "FOOD_AND_DRINK           72\n",
       "WEATHER                  60\n",
       "LIBRARIES_AND_DEMO       49\n",
       "HOUSE_AND_HOME           46\n",
       "AUTO_AND_VEHICLES        46\n",
       "COMICS                   42\n",
       "ART_AND_DESIGN           42\n",
       "EVENTS                   33\n",
       "PARENTING                32\n",
       "BEAUTY                   25\n",
       "Name: Category, dtype: int64"
      ]
     },
     "execution_count": 14,
     "metadata": {},
     "output_type": "execute_result"
    }
   ],
   "source": [
    "X_train.Category.value_counts()"
   ]
  },
  {
   "cell_type": "markdown",
   "id": "bdeb8205",
   "metadata": {},
   "source": [
    "## Reviews"
   ]
  },
  {
   "cell_type": "markdown",
   "id": "7e16c381",
   "metadata": {},
   "source": [
    "Es un campo numerico pero el tipo es object. Lo cambio a int64."
   ]
  },
  {
   "cell_type": "code",
   "execution_count": 15,
   "id": "af3c8c35",
   "metadata": {},
   "outputs": [],
   "source": [
    "X_train[\"Reviews\"] = X_train[\"Reviews\"].astype('int64')"
   ]
  },
  {
   "cell_type": "code",
   "execution_count": 16,
   "id": "837b909c",
   "metadata": {},
   "outputs": [
    {
     "name": "stdout",
     "output_type": "stream",
     "text": [
      "<class 'pandas.core.series.Series'>\n",
      "Int64Index: 6552 entries, 6816 to 8189\n",
      "Series name: Reviews\n",
      "Non-Null Count  Dtype\n",
      "--------------  -----\n",
      "6552 non-null   int64\n",
      "dtypes: int64(1)\n",
      "memory usage: 102.4 KB\n"
     ]
    }
   ],
   "source": [
    "X_train[\"Reviews\"].info()"
   ]
  },
  {
   "cell_type": "markdown",
   "id": "ee8bd5c2",
   "metadata": {},
   "source": [
    "## Size"
   ]
  },
  {
   "cell_type": "markdown",
   "id": "8bea5df8",
   "metadata": {},
   "source": [
    "Es un campo numerico pero el tipo es object. Recoge el tamaño de la app en kb y mb. Lo convertiré todo a MB y cambiare 'Varies with device' por el segundo valor más común (14M) cambio el tipo a float64."
   ]
  },
  {
   "cell_type": "code",
   "execution_count": 17,
   "id": "cb5477ec",
   "metadata": {},
   "outputs": [
    {
     "data": {
      "text/plain": [
       "Varies with device    1159\n",
       "14M                    121\n",
       "15M                    116\n",
       "12M                    115\n",
       "11M                    113\n",
       "                      ... \n",
       "371k                     1\n",
       "506k                     1\n",
       "82k                      1\n",
       "976k                     1\n",
       "376k                     1\n",
       "Name: Size, Length: 359, dtype: int64"
      ]
     },
     "execution_count": 17,
     "metadata": {},
     "output_type": "execute_result"
    }
   ],
   "source": [
    "X_train[\"Size\"].value_counts()"
   ]
  },
  {
   "cell_type": "code",
   "execution_count": 18,
   "id": "424d5fb1",
   "metadata": {},
   "outputs": [],
   "source": [
    "X_train[\"Size\"] = X_train[\"Size\"].replace(['Varies with device'],['14000'])"
   ]
  },
  {
   "cell_type": "code",
   "execution_count": 19,
   "id": "93ad14ec",
   "metadata": {},
   "outputs": [
    {
     "data": {
      "text/plain": [
       "14000    1159\n",
       "14M       121\n",
       "15M       116\n",
       "12M       115\n",
       "11M       113\n",
       "         ... \n",
       "371k        1\n",
       "506k        1\n",
       "82k         1\n",
       "976k        1\n",
       "376k        1\n",
       "Name: Size, Length: 359, dtype: int64"
      ]
     },
     "execution_count": 19,
     "metadata": {},
     "output_type": "execute_result"
    }
   ],
   "source": [
    "X_train[\"Size\"].value_counts()"
   ]
  },
  {
   "cell_type": "code",
   "execution_count": 20,
   "id": "0cdbfcbc",
   "metadata": {},
   "outputs": [],
   "source": [
    "X_train[\"Size\"] = X_train[\"Size\"].apply(lambda x: float(x.replace('M','')) *1000 if 'M' in x else (float(x.replace('k','')) /1000 if 'k' in x else x))"
   ]
  },
  {
   "cell_type": "code",
   "execution_count": 21,
   "id": "d10115cd",
   "metadata": {},
   "outputs": [],
   "source": [
    "X_train[\"Size\"]=X_train[\"Size\"].astype('float64')"
   ]
  },
  {
   "cell_type": "code",
   "execution_count": 22,
   "id": "fcc371e4",
   "metadata": {},
   "outputs": [
    {
     "name": "stdout",
     "output_type": "stream",
     "text": [
      "<class 'pandas.core.series.Series'>\n",
      "Int64Index: 6552 entries, 6816 to 8189\n",
      "Series name: Size\n",
      "Non-Null Count  Dtype  \n",
      "--------------  -----  \n",
      "6552 non-null   float64\n",
      "dtypes: float64(1)\n",
      "memory usage: 102.4 KB\n"
     ]
    }
   ],
   "source": [
    "X_train[\"Size\"].info()"
   ]
  },
  {
   "cell_type": "code",
   "execution_count": 23,
   "id": "f62fcc46",
   "metadata": {},
   "outputs": [
    {
     "data": {
      "text/plain": [
       "14000.000    1280\n",
       "15000.000     116\n",
       "12000.000     115\n",
       "11000.000     113\n",
       "13000.000     111\n",
       "             ... \n",
       "0.371           1\n",
       "0.506           1\n",
       "0.082           1\n",
       "0.976           1\n",
       "0.376           1\n",
       "Name: Size, Length: 357, dtype: int64"
      ]
     },
     "execution_count": 23,
     "metadata": {},
     "output_type": "execute_result"
    }
   ],
   "source": [
    "X_train[\"Size\"].value_counts()"
   ]
  },
  {
   "cell_type": "code",
   "execution_count": 24,
   "id": "d707c4d9",
   "metadata": {},
   "outputs": [
    {
     "name": "stdout",
     "output_type": "stream",
     "text": [
      "<class 'pandas.core.series.Series'>\n",
      "Int64Index: 6552 entries, 6816 to 8189\n",
      "Series name: Size\n",
      "Non-Null Count  Dtype  \n",
      "--------------  -----  \n",
      "6552 non-null   float64\n",
      "dtypes: float64(1)\n",
      "memory usage: 102.4 KB\n"
     ]
    }
   ],
   "source": [
    "X_train[\"Size\"].info()"
   ]
  },
  {
   "cell_type": "markdown",
   "id": "65a140bd",
   "metadata": {},
   "source": [
    "## Installs"
   ]
  },
  {
   "cell_type": "markdown",
   "id": "968b5bc3",
   "metadata": {},
   "source": [
    "Installs es un campo tipo Object que hay que limpiar eliminando '+' y ',' utilizadas como notacion de los miles para transformarlo en un campo tipo 'int64'"
   ]
  },
  {
   "cell_type": "code",
   "execution_count": 25,
   "id": "e3fbead4",
   "metadata": {},
   "outputs": [
    {
     "data": {
      "text/plain": [
       "1,000,000+        1086\n",
       "10,000,000+        884\n",
       "100,000+           802\n",
       "10,000+            708\n",
       "5,000,000+         522\n",
       "1,000+             510\n",
       "500,000+           372\n",
       "50,000+            333\n",
       "5,000+             294\n",
       "100,000,000+       286\n",
       "100+               210\n",
       "50,000,000+        208\n",
       "500+               136\n",
       "500,000,000+        52\n",
       "10+                 51\n",
       "50+                 45\n",
       "1,000,000,000+      42\n",
       "5+                   8\n",
       "1+                   3\n",
       "Name: Installs, dtype: int64"
      ]
     },
     "execution_count": 25,
     "metadata": {},
     "output_type": "execute_result"
    }
   ],
   "source": [
    "X_train.Installs.value_counts()"
   ]
  },
  {
   "cell_type": "code",
   "execution_count": 26,
   "id": "2ad37d33",
   "metadata": {},
   "outputs": [],
   "source": [
    "X_train[\"Installs\"] = X_train[\"Installs\"].str.split('+',expand=True)[0]"
   ]
  },
  {
   "cell_type": "code",
   "execution_count": 27,
   "id": "e2a71191",
   "metadata": {},
   "outputs": [],
   "source": [
    "X_train[\"Installs\"] = X_train[\"Installs\"].apply(lambda x: x.replace(',',''))"
   ]
  },
  {
   "cell_type": "code",
   "execution_count": 28,
   "id": "d354ed6b",
   "metadata": {},
   "outputs": [],
   "source": [
    "X_train[\"Installs\"] = X_train[\"Installs\"].astype('int64')"
   ]
  },
  {
   "cell_type": "code",
   "execution_count": 29,
   "id": "e3916178",
   "metadata": {},
   "outputs": [
    {
     "name": "stdout",
     "output_type": "stream",
     "text": [
      "<class 'pandas.core.series.Series'>\n",
      "Int64Index: 6552 entries, 6816 to 8189\n",
      "Series name: Installs\n",
      "Non-Null Count  Dtype\n",
      "--------------  -----\n",
      "6552 non-null   int64\n",
      "dtypes: int64(1)\n",
      "memory usage: 102.4 KB\n"
     ]
    }
   ],
   "source": [
    "X_train.Installs.info()"
   ]
  },
  {
   "cell_type": "markdown",
   "id": "9a8826ed",
   "metadata": {},
   "source": [
    "## Genres"
   ]
  },
  {
   "cell_type": "markdown",
   "id": "8c00dcd6",
   "metadata": {},
   "source": [
    "En algun caso hay dos generos. Divido usando el \";\" como separador, guardo \"Main_Genre\" para procesarlo despues con un onehot encoding y creo una categoria binaria si tiene o no genero secundario. Al acabar, elimino 'Genres'"
   ]
  },
  {
   "cell_type": "code",
   "execution_count": 30,
   "id": "820ced53",
   "metadata": {
    "scrolled": true
   },
   "outputs": [
    {
     "data": {
      "text/plain": [
       "Action & Adventure    92\n",
       "Education             69\n",
       "Pretend Play          62\n",
       "Brain Games           51\n",
       "Music & Video         37\n",
       "Creativity            24\n",
       "Name: 1, dtype: int64"
      ]
     },
     "execution_count": 30,
     "metadata": {},
     "output_type": "execute_result"
    }
   ],
   "source": [
    "X_train[\"Genres\"].str.split(';',expand=True)[1].value_counts()"
   ]
  },
  {
   "cell_type": "code",
   "execution_count": 31,
   "id": "b4a12855",
   "metadata": {},
   "outputs": [],
   "source": [
    "X_train[\"Main_Genre\"] = X_train[\"Genres\"].str.split(';',expand=True)[0]"
   ]
  },
  {
   "cell_type": "code",
   "execution_count": 32,
   "id": "14b03433",
   "metadata": {},
   "outputs": [],
   "source": [
    "X_train[\"Secondary_Genre\"] = X_train[\"Genres\"].str.split(';',expand=True)[1]"
   ]
  },
  {
   "cell_type": "code",
   "execution_count": 33,
   "id": "c917cde2",
   "metadata": {},
   "outputs": [],
   "source": [
    "X_train[\"Secondary_Genre\"] = X_train[\"Secondary_Genre\"].replace(['Action & Adventure', 'Education', 'Pretend Play', 'Brain Games', 'Music & Video', 'Creativity'],['1', '1','1', '1', '1','1'])"
   ]
  },
  {
   "cell_type": "code",
   "execution_count": 34,
   "id": "188f2d25",
   "metadata": {},
   "outputs": [],
   "source": [
    "X_train[\"Secondary_Genre\"] = X_train[\"Secondary_Genre\"].fillna('0').astype('int64')"
   ]
  },
  {
   "cell_type": "code",
   "execution_count": 35,
   "id": "5c01bdcf",
   "metadata": {},
   "outputs": [
    {
     "data": {
      "text/plain": [
       "0    6217\n",
       "1     335\n",
       "Name: Secondary_Genre, dtype: int64"
      ]
     },
     "execution_count": 35,
     "metadata": {},
     "output_type": "execute_result"
    }
   ],
   "source": [
    "X_train[\"Secondary_Genre\"].value_counts()"
   ]
  },
  {
   "cell_type": "code",
   "execution_count": 36,
   "id": "f3bd1b5a",
   "metadata": {},
   "outputs": [
    {
     "name": "stdout",
     "output_type": "stream",
     "text": [
      "<class 'pandas.core.series.Series'>\n",
      "Int64Index: 6552 entries, 6816 to 8189\n",
      "Series name: Secondary_Genre\n",
      "Non-Null Count  Dtype\n",
      "--------------  -----\n",
      "6552 non-null   int64\n",
      "dtypes: int64(1)\n",
      "memory usage: 102.4 KB\n"
     ]
    }
   ],
   "source": [
    "X_train[\"Secondary_Genre\"].info()"
   ]
  },
  {
   "cell_type": "code",
   "execution_count": 37,
   "id": "357696e8",
   "metadata": {},
   "outputs": [],
   "source": [
    "X_train.drop('Genres', axis=1, inplace=True)"
   ]
  },
  {
   "cell_type": "code",
   "execution_count": 38,
   "id": "f3193ba4",
   "metadata": {},
   "outputs": [
    {
     "data": {
      "text/html": [
       "<div>\n",
       "<style scoped>\n",
       "    .dataframe tbody tr th:only-of-type {\n",
       "        vertical-align: middle;\n",
       "    }\n",
       "\n",
       "    .dataframe tbody tr th {\n",
       "        vertical-align: top;\n",
       "    }\n",
       "\n",
       "    .dataframe thead th {\n",
       "        text-align: right;\n",
       "    }\n",
       "</style>\n",
       "<table border=\"1\" class=\"dataframe\">\n",
       "  <thead>\n",
       "    <tr style=\"text-align: right;\">\n",
       "      <th></th>\n",
       "      <th>Category</th>\n",
       "      <th>Reviews</th>\n",
       "      <th>Size</th>\n",
       "      <th>Installs</th>\n",
       "      <th>Type</th>\n",
       "      <th>Price</th>\n",
       "      <th>Content Rating</th>\n",
       "      <th>Last Updated</th>\n",
       "      <th>Current Ver</th>\n",
       "      <th>Android Ver</th>\n",
       "      <th>Main_Genre</th>\n",
       "      <th>Secondary_Genre</th>\n",
       "    </tr>\n",
       "  </thead>\n",
       "  <tbody>\n",
       "    <tr>\n",
       "      <th>6816</th>\n",
       "      <td>FAMILY</td>\n",
       "      <td>7</td>\n",
       "      <td>5600.000</td>\n",
       "      <td>10</td>\n",
       "      <td>Free</td>\n",
       "      <td>0</td>\n",
       "      <td>Everyone</td>\n",
       "      <td>December 7, 2017</td>\n",
       "      <td>1.0</td>\n",
       "      <td>4.0.3 and up</td>\n",
       "      <td>Education</td>\n",
       "      <td>0</td>\n",
       "    </tr>\n",
       "    <tr>\n",
       "      <th>1094</th>\n",
       "      <td>FINANCE</td>\n",
       "      <td>11919</td>\n",
       "      <td>23000.000</td>\n",
       "      <td>1000000</td>\n",
       "      <td>Free</td>\n",
       "      <td>0</td>\n",
       "      <td>Everyone</td>\n",
       "      <td>July 27, 2018</td>\n",
       "      <td>1.13.2.11</td>\n",
       "      <td>4.4 and up</td>\n",
       "      <td>Finance</td>\n",
       "      <td>0</td>\n",
       "    </tr>\n",
       "    <tr>\n",
       "      <th>4089</th>\n",
       "      <td>FAMILY</td>\n",
       "      <td>148536</td>\n",
       "      <td>59000.000</td>\n",
       "      <td>10000000</td>\n",
       "      <td>Free</td>\n",
       "      <td>0</td>\n",
       "      <td>Everyone</td>\n",
       "      <td>August 3, 2018</td>\n",
       "      <td>4.21.1</td>\n",
       "      <td>4.1 and up</td>\n",
       "      <td>Education</td>\n",
       "      <td>1</td>\n",
       "    </tr>\n",
       "    <tr>\n",
       "      <th>4144</th>\n",
       "      <td>SOCIAL</td>\n",
       "      <td>4828372</td>\n",
       "      <td>14000.000</td>\n",
       "      <td>1000000000</td>\n",
       "      <td>Free</td>\n",
       "      <td>0</td>\n",
       "      <td>Teen</td>\n",
       "      <td>July 26, 2018</td>\n",
       "      <td>Varies with device</td>\n",
       "      <td>Varies with device</td>\n",
       "      <td>Social</td>\n",
       "      <td>0</td>\n",
       "    </tr>\n",
       "    <tr>\n",
       "      <th>10050</th>\n",
       "      <td>TOOLS</td>\n",
       "      <td>164</td>\n",
       "      <td>0.144</td>\n",
       "      <td>5000</td>\n",
       "      <td>Paid</td>\n",
       "      <td>$4.99</td>\n",
       "      <td>Everyone</td>\n",
       "      <td>March 14, 2015</td>\n",
       "      <td>1.3</td>\n",
       "      <td>1.6 and up</td>\n",
       "      <td>Tools</td>\n",
       "      <td>0</td>\n",
       "    </tr>\n",
       "  </tbody>\n",
       "</table>\n",
       "</div>"
      ],
      "text/plain": [
       "      Category  Reviews       Size    Installs  Type  Price Content Rating  \\\n",
       "6816    FAMILY        7   5600.000          10  Free      0       Everyone   \n",
       "1094   FINANCE    11919  23000.000     1000000  Free      0       Everyone   \n",
       "4089    FAMILY   148536  59000.000    10000000  Free      0       Everyone   \n",
       "4144    SOCIAL  4828372  14000.000  1000000000  Free      0           Teen   \n",
       "10050    TOOLS      164      0.144        5000  Paid  $4.99       Everyone   \n",
       "\n",
       "           Last Updated         Current Ver         Android Ver Main_Genre  \\\n",
       "6816   December 7, 2017                 1.0        4.0.3 and up  Education   \n",
       "1094      July 27, 2018           1.13.2.11          4.4 and up    Finance   \n",
       "4089     August 3, 2018              4.21.1          4.1 and up  Education   \n",
       "4144      July 26, 2018  Varies with device  Varies with device     Social   \n",
       "10050    March 14, 2015                 1.3          1.6 and up      Tools   \n",
       "\n",
       "       Secondary_Genre  \n",
       "6816                 0  \n",
       "1094                 0  \n",
       "4089                 1  \n",
       "4144                 0  \n",
       "10050                0  "
      ]
     },
     "execution_count": 38,
     "metadata": {},
     "output_type": "execute_result"
    }
   ],
   "source": [
    "X_train.head()"
   ]
  },
  {
   "cell_type": "markdown",
   "id": "b8785274",
   "metadata": {},
   "source": [
    "## Type"
   ]
  },
  {
   "cell_type": "markdown",
   "id": "1e0f85d5",
   "metadata": {},
   "source": [
    "Categorica dificil de codificar. Como solo hay dos valores, el one hot enconding parace lo más adecuado."
   ]
  },
  {
   "cell_type": "markdown",
   "id": "2cc0c627",
   "metadata": {},
   "source": [
    "## Price"
   ]
  },
  {
   "cell_type": "markdown",
   "id": "04ed4d10",
   "metadata": {},
   "source": [
    "Es un campo numerico pero indica la divisa (Simbolo dolar) y el tipo es object. Elimino '$' y lo cambio a int64."
   ]
  },
  {
   "cell_type": "code",
   "execution_count": 39,
   "id": "a4cd9f05",
   "metadata": {},
   "outputs": [],
   "source": [
    "X_train[\"Price\"] = X_train[\"Price\"].apply(lambda x: x.replace('$',''))"
   ]
  },
  {
   "cell_type": "code",
   "execution_count": 40,
   "id": "587b58b6",
   "metadata": {},
   "outputs": [],
   "source": [
    "X_train[\"Price\"] = X_train[\"Price\"].astype('float64')"
   ]
  },
  {
   "cell_type": "code",
   "execution_count": 41,
   "id": "2833d038",
   "metadata": {
    "scrolled": true
   },
   "outputs": [
    {
     "name": "stdout",
     "output_type": "stream",
     "text": [
      "<class 'pandas.core.series.Series'>\n",
      "Int64Index: 6552 entries, 6816 to 8189\n",
      "Series name: Price\n",
      "Non-Null Count  Dtype  \n",
      "--------------  -----  \n",
      "6552 non-null   float64\n",
      "dtypes: float64(1)\n",
      "memory usage: 102.4 KB\n"
     ]
    }
   ],
   "source": [
    "X_train[\"Price\"].info()"
   ]
  },
  {
   "cell_type": "markdown",
   "id": "8ad79404",
   "metadata": {},
   "source": [
    "## Content Rating"
   ]
  },
  {
   "cell_type": "markdown",
   "id": "bc5c4adc",
   "metadata": {},
   "source": [
    "Categorica dificil de codificar. Como no son demasiados valores, el one hot enconding parace lo más adecuado."
   ]
  },
  {
   "cell_type": "markdown",
   "id": "d0d32b3d",
   "metadata": {},
   "source": [
    "## Last Updated"
   ]
  },
  {
   "cell_type": "markdown",
   "id": "4b60ba42",
   "metadata": {},
   "source": [
    "Es una fecha pero no tiene formato (Object). Lo convierto a Date Time y le resto los dias desde la fecha actual para convertirlo en un campo numerico (dias desde la ultima actualizacion)."
   ]
  },
  {
   "cell_type": "code",
   "execution_count": 42,
   "id": "1bded92c",
   "metadata": {},
   "outputs": [],
   "source": [
    "X_train[\"Last Updated\"] = X_train[\"Last Updated\"].apply(lambda x: x.replace(' ','/').replace(',','').replace('January','1').replace('February','2').replace('March','3').replace('April','4').replace('May','5').replace('June','6').replace('July','7').replace('August','8').replace('September','9').replace('October','10').replace('November','11').replace('December','12'))"
   ]
  },
  {
   "cell_type": "code",
   "execution_count": 43,
   "id": "da5bfaf5",
   "metadata": {},
   "outputs": [],
   "source": [
    "df2[\"Last Updated\"] = pd.to_datetime(df2[\"Last Updated\"]).dt.strftime('%d-%m-%Y')"
   ]
  },
  {
   "cell_type": "code",
   "execution_count": 44,
   "id": "0ce657de",
   "metadata": {},
   "outputs": [],
   "source": [
    "X_train[\"Last Updated\"] = X_train[\"Last Updated\"].astype('datetime64')"
   ]
  },
  {
   "cell_type": "code",
   "execution_count": 45,
   "id": "f7648755",
   "metadata": {},
   "outputs": [],
   "source": [
    "timestamp = pd.Timestamp(datetime.datetime(2021, 10, 10))"
   ]
  },
  {
   "cell_type": "code",
   "execution_count": 46,
   "id": "52aec8de",
   "metadata": {},
   "outputs": [
    {
     "name": "stdout",
     "output_type": "stream",
     "text": [
      "Timestamp:  2021-10-10 00:00:00\n"
     ]
    }
   ],
   "source": [
    "print(\"Timestamp: \", timestamp)"
   ]
  },
  {
   "cell_type": "code",
   "execution_count": 47,
   "id": "2eac43a0",
   "metadata": {},
   "outputs": [],
   "source": [
    "ahora = pd.Timestamp(timestamp.today().strftime('%d-%m-%Y'))"
   ]
  },
  {
   "cell_type": "code",
   "execution_count": 48,
   "id": "e65c2342",
   "metadata": {},
   "outputs": [],
   "source": [
    "X_train['Today'] = ahora"
   ]
  },
  {
   "cell_type": "code",
   "execution_count": 49,
   "id": "3bbf2235",
   "metadata": {},
   "outputs": [
    {
     "name": "stderr",
     "output_type": "stream",
     "text": [
      "C:\\Users\\Victor\\AppData\\Local\\Temp\\ipykernel_8760\\539780938.py:1: FutureWarning: Passing unit-less datetime64 dtype to .astype is deprecated and will raise in a future version. Pass 'datetime64[ns]' instead\n",
      "  X_train['Today'] = X_train['Today'].astype('datetime64')\n"
     ]
    }
   ],
   "source": [
    "X_train['Today'] = X_train['Today'].astype('datetime64')"
   ]
  },
  {
   "cell_type": "code",
   "execution_count": 50,
   "id": "db34f9d1",
   "metadata": {},
   "outputs": [],
   "source": [
    "X_train['Days_Since_Last_Update'] = (X_train['Today'] - X_train[\"Last Updated\"]).dt.days"
   ]
  },
  {
   "cell_type": "code",
   "execution_count": 51,
   "id": "84638a30",
   "metadata": {},
   "outputs": [
    {
     "data": {
      "text/plain": [
       "6816     2034\n",
       "1094     1802\n",
       "4089     1795\n",
       "4144     1803\n",
       "10050    3033\n",
       "         ... \n",
       "6144     2327\n",
       "5516     1793\n",
       "5728     1833\n",
       "913      1809\n",
       "8189     2229\n",
       "Name: Days_Since_Last_Update, Length: 6552, dtype: int64"
      ]
     },
     "execution_count": 51,
     "metadata": {},
     "output_type": "execute_result"
    }
   ],
   "source": [
    "X_train['Days_Since_Last_Update']"
   ]
  },
  {
   "cell_type": "code",
   "execution_count": 52,
   "id": "5d9892a3",
   "metadata": {},
   "outputs": [],
   "source": [
    "X_train.drop(['Today','Last Updated'], axis=1, inplace=True)"
   ]
  },
  {
   "cell_type": "markdown",
   "id": "00d66102",
   "metadata": {},
   "source": [
    "## Current Ver"
   ]
  },
  {
   "cell_type": "markdown",
   "id": "23c91f8f",
   "metadata": {},
   "source": [
    "Categorica dificil de codificar. El ordinal encoding parece lo más indicado para que el modelo recoja la información (menos frecuencia, versión mas desarrollada)"
   ]
  },
  {
   "cell_type": "code",
   "execution_count": 53,
   "id": "6b9fa4cc",
   "metadata": {},
   "outputs": [
    {
     "data": {
      "text/plain": [
       "Varies with device    982\n",
       "1.0                   318\n",
       "1.1                   143\n",
       "1.3                    88\n",
       "2.0                    87\n",
       "                     ... \n",
       "2.12.0                  1\n",
       "SolarCT 1.9 v           1\n",
       "3.1.7.9                 1\n",
       "0.0.5                   1\n",
       "4.8.6                   1\n",
       "Name: Current Ver, Length: 2074, dtype: int64"
      ]
     },
     "execution_count": 53,
     "metadata": {},
     "output_type": "execute_result"
    }
   ],
   "source": [
    "X_train['Current Ver'].value_counts()"
   ]
  },
  {
   "cell_type": "markdown",
   "id": "f9f7ac84",
   "metadata": {},
   "source": [
    "## Android Ver"
   ]
  },
  {
   "cell_type": "markdown",
   "id": "f060d458",
   "metadata": {},
   "source": [
    "Categorica dificil de codificar. El ordinal encoding parece lo más indicado para que el modelo recoja la información (menos frecuencia, versión mas desarrollada)"
   ]
  },
  {
   "cell_type": "code",
   "execution_count": 54,
   "id": "d626e71a",
   "metadata": {},
   "outputs": [
    {
     "data": {
      "text/plain": [
       "4.1 and up            1436\n",
       "Varies with device     927\n",
       "4.0.3 and up           880\n",
       "4.0 and up             794\n",
       "4.4 and up             617\n",
       "2.3 and up             417\n",
       "5.0 and up             360\n",
       "4.2 and up             238\n",
       "2.3.3 and up           176\n",
       "2.2 and up             145\n",
       "4.3 and up             145\n",
       "3.0 and up             132\n",
       "2.1 and up              74\n",
       "1.6 and up              65\n",
       "6.0 and up              31\n",
       "7.0 and up              27\n",
       "3.2 and up              23\n",
       "2.0 and up              21\n",
       "1.5 and up              10\n",
       "5.1 and up              10\n",
       "2.0.1 and up             5\n",
       "3.1 and up               5\n",
       "4.4W and up              5\n",
       "8.0 and up               3\n",
       "7.1 and up               2\n",
       "5.0 - 8.0                2\n",
       "4.0.3 - 7.1.1            1\n",
       "1.0 and up               1\n",
       "Name: Android Ver, dtype: int64"
      ]
     },
     "execution_count": 54,
     "metadata": {},
     "output_type": "execute_result"
    }
   ],
   "source": [
    "X_train['Android Ver'].value_counts()"
   ]
  },
  {
   "cell_type": "code",
   "execution_count": 55,
   "id": "56495c2b",
   "metadata": {},
   "outputs": [
    {
     "name": "stderr",
     "output_type": "stream",
     "text": [
      "C:\\Users\\Victor\\AppData\\Local\\Temp\\ipykernel_8760\\131534602.py:1: FutureWarning: The default value of numeric_only in DataFrame.corr is deprecated. In a future version, it will default to False. Select only valid columns or specify the value of numeric_only to silence this warning.\n",
      "  X_train.corr()\n"
     ]
    },
    {
     "data": {
      "text/html": [
       "<div>\n",
       "<style scoped>\n",
       "    .dataframe tbody tr th:only-of-type {\n",
       "        vertical-align: middle;\n",
       "    }\n",
       "\n",
       "    .dataframe tbody tr th {\n",
       "        vertical-align: top;\n",
       "    }\n",
       "\n",
       "    .dataframe thead th {\n",
       "        text-align: right;\n",
       "    }\n",
       "</style>\n",
       "<table border=\"1\" class=\"dataframe\">\n",
       "  <thead>\n",
       "    <tr style=\"text-align: right;\">\n",
       "      <th></th>\n",
       "      <th>Reviews</th>\n",
       "      <th>Size</th>\n",
       "      <th>Installs</th>\n",
       "      <th>Price</th>\n",
       "      <th>Secondary_Genre</th>\n",
       "      <th>Days_Since_Last_Update</th>\n",
       "    </tr>\n",
       "  </thead>\n",
       "  <tbody>\n",
       "    <tr>\n",
       "      <th>Reviews</th>\n",
       "      <td>1.000000</td>\n",
       "      <td>0.102087</td>\n",
       "      <td>0.638967</td>\n",
       "      <td>-0.009759</td>\n",
       "      <td>-0.015593</td>\n",
       "      <td>-0.090289</td>\n",
       "    </tr>\n",
       "    <tr>\n",
       "      <th>Size</th>\n",
       "      <td>0.102087</td>\n",
       "      <td>1.000000</td>\n",
       "      <td>0.040382</td>\n",
       "      <td>-0.024835</td>\n",
       "      <td>0.180698</td>\n",
       "      <td>-0.194460</td>\n",
       "    </tr>\n",
       "    <tr>\n",
       "      <th>Installs</th>\n",
       "      <td>0.638967</td>\n",
       "      <td>0.040382</td>\n",
       "      <td>1.000000</td>\n",
       "      <td>-0.011768</td>\n",
       "      <td>-0.024198</td>\n",
       "      <td>-0.105812</td>\n",
       "    </tr>\n",
       "    <tr>\n",
       "      <th>Price</th>\n",
       "      <td>-0.009759</td>\n",
       "      <td>-0.024835</td>\n",
       "      <td>-0.011768</td>\n",
       "      <td>1.000000</td>\n",
       "      <td>-0.006789</td>\n",
       "      <td>0.008790</td>\n",
       "    </tr>\n",
       "    <tr>\n",
       "      <th>Secondary_Genre</th>\n",
       "      <td>-0.015593</td>\n",
       "      <td>0.180698</td>\n",
       "      <td>-0.024198</td>\n",
       "      <td>-0.006789</td>\n",
       "      <td>1.000000</td>\n",
       "      <td>-0.014806</td>\n",
       "    </tr>\n",
       "    <tr>\n",
       "      <th>Days_Since_Last_Update</th>\n",
       "      <td>-0.090289</td>\n",
       "      <td>-0.194460</td>\n",
       "      <td>-0.105812</td>\n",
       "      <td>0.008790</td>\n",
       "      <td>-0.014806</td>\n",
       "      <td>1.000000</td>\n",
       "    </tr>\n",
       "  </tbody>\n",
       "</table>\n",
       "</div>"
      ],
      "text/plain": [
       "                         Reviews      Size  Installs     Price  \\\n",
       "Reviews                 1.000000  0.102087  0.638967 -0.009759   \n",
       "Size                    0.102087  1.000000  0.040382 -0.024835   \n",
       "Installs                0.638967  0.040382  1.000000 -0.011768   \n",
       "Price                  -0.009759 -0.024835 -0.011768  1.000000   \n",
       "Secondary_Genre        -0.015593  0.180698 -0.024198 -0.006789   \n",
       "Days_Since_Last_Update -0.090289 -0.194460 -0.105812  0.008790   \n",
       "\n",
       "                        Secondary_Genre  Days_Since_Last_Update  \n",
       "Reviews                       -0.015593               -0.090289  \n",
       "Size                           0.180698               -0.194460  \n",
       "Installs                      -0.024198               -0.105812  \n",
       "Price                         -0.006789                0.008790  \n",
       "Secondary_Genre                1.000000               -0.014806  \n",
       "Days_Since_Last_Update        -0.014806                1.000000  "
      ]
     },
     "execution_count": 55,
     "metadata": {},
     "output_type": "execute_result"
    }
   ],
   "source": [
    "X_train.corr()"
   ]
  },
  {
   "cell_type": "code",
   "execution_count": 56,
   "id": "0854ee4d",
   "metadata": {},
   "outputs": [
    {
     "data": {
      "text/html": [
       "<div>\n",
       "<style scoped>\n",
       "    .dataframe tbody tr th:only-of-type {\n",
       "        vertical-align: middle;\n",
       "    }\n",
       "\n",
       "    .dataframe tbody tr th {\n",
       "        vertical-align: top;\n",
       "    }\n",
       "\n",
       "    .dataframe thead th {\n",
       "        text-align: right;\n",
       "    }\n",
       "</style>\n",
       "<table border=\"1\" class=\"dataframe\">\n",
       "  <thead>\n",
       "    <tr style=\"text-align: right;\">\n",
       "      <th>COL_N</th>\n",
       "      <th>Category</th>\n",
       "      <th>Reviews</th>\n",
       "      <th>Size</th>\n",
       "      <th>Installs</th>\n",
       "      <th>Type</th>\n",
       "      <th>Price</th>\n",
       "      <th>Content Rating</th>\n",
       "      <th>Current Ver</th>\n",
       "      <th>Android Ver</th>\n",
       "      <th>Main_Genre</th>\n",
       "      <th>Secondary_Genre</th>\n",
       "      <th>Days_Since_Last_Update</th>\n",
       "    </tr>\n",
       "  </thead>\n",
       "  <tbody>\n",
       "    <tr>\n",
       "      <th>DATA_TYPE</th>\n",
       "      <td>object</td>\n",
       "      <td>int64</td>\n",
       "      <td>float64</td>\n",
       "      <td>int64</td>\n",
       "      <td>object</td>\n",
       "      <td>float64</td>\n",
       "      <td>object</td>\n",
       "      <td>object</td>\n",
       "      <td>object</td>\n",
       "      <td>object</td>\n",
       "      <td>int64</td>\n",
       "      <td>int64</td>\n",
       "    </tr>\n",
       "    <tr>\n",
       "      <th>MISSINGS (%)</th>\n",
       "      <td>0.0</td>\n",
       "      <td>0.0</td>\n",
       "      <td>0.0</td>\n",
       "      <td>0.0</td>\n",
       "      <td>0.0</td>\n",
       "      <td>0.0</td>\n",
       "      <td>0.0</td>\n",
       "      <td>0.0</td>\n",
       "      <td>0.0</td>\n",
       "      <td>0.0</td>\n",
       "      <td>0.0</td>\n",
       "      <td>0.0</td>\n",
       "    </tr>\n",
       "    <tr>\n",
       "      <th>UNIQUE_VALUES</th>\n",
       "      <td>33</td>\n",
       "      <td>4437</td>\n",
       "      <td>357</td>\n",
       "      <td>19</td>\n",
       "      <td>2</td>\n",
       "      <td>59</td>\n",
       "      <td>6</td>\n",
       "      <td>2074</td>\n",
       "      <td>28</td>\n",
       "      <td>47</td>\n",
       "      <td>2</td>\n",
       "      <td>1147</td>\n",
       "    </tr>\n",
       "    <tr>\n",
       "      <th>CARDIN (%)</th>\n",
       "      <td>0.5</td>\n",
       "      <td>67.72</td>\n",
       "      <td>5.45</td>\n",
       "      <td>0.29</td>\n",
       "      <td>0.03</td>\n",
       "      <td>0.9</td>\n",
       "      <td>0.09</td>\n",
       "      <td>31.65</td>\n",
       "      <td>0.43</td>\n",
       "      <td>0.72</td>\n",
       "      <td>0.03</td>\n",
       "      <td>17.51</td>\n",
       "    </tr>\n",
       "  </tbody>\n",
       "</table>\n",
       "</div>"
      ],
      "text/plain": [
       "COL_N         Category Reviews     Size Installs    Type    Price  \\\n",
       "DATA_TYPE       object   int64  float64    int64  object  float64   \n",
       "MISSINGS (%)       0.0     0.0      0.0      0.0     0.0      0.0   \n",
       "UNIQUE_VALUES       33    4437      357       19       2       59   \n",
       "CARDIN (%)         0.5   67.72     5.45     0.29    0.03      0.9   \n",
       "\n",
       "COL_N         Content Rating Current Ver Android Ver Main_Genre  \\\n",
       "DATA_TYPE             object      object      object     object   \n",
       "MISSINGS (%)             0.0         0.0         0.0        0.0   \n",
       "UNIQUE_VALUES              6        2074          28         47   \n",
       "CARDIN (%)              0.09       31.65        0.43       0.72   \n",
       "\n",
       "COL_N         Secondary_Genre Days_Since_Last_Update  \n",
       "DATA_TYPE               int64                  int64  \n",
       "MISSINGS (%)              0.0                    0.0  \n",
       "UNIQUE_VALUES               2                   1147  \n",
       "CARDIN (%)               0.03                  17.51  "
      ]
     },
     "execution_count": 56,
     "metadata": {},
     "output_type": "execute_result"
    }
   ],
   "source": [
    "data_report(X_train)"
   ]
  },
  {
   "cell_type": "code",
   "execution_count": 57,
   "id": "9c36db92",
   "metadata": {},
   "outputs": [
    {
     "data": {
      "text/plain": [
       "<seaborn.axisgrid.PairGrid at 0x1898ff6da50>"
      ]
     },
     "execution_count": 57,
     "metadata": {},
     "output_type": "execute_result"
    },
    {
     "data": {
      "image/png": "[encoded data removed]",
      "text/plain": [
       "<Figure size 1500x1500 with 42 Axes>"
      ]
     },
     "metadata": {},
     "output_type": "display_data"
    }
   ],
   "source": [
    "sns.pairplot(X_train)"
   ]
  },
  {
   "cell_type": "code",
   "execution_count": 58,
   "id": "e1926ce3",
   "metadata": {
    "scrolled": true
   },
   "outputs": [
    {
     "data": {
      "image/png": "[encoded data removed]",
      "text/plain": [
       "<Figure size 1200x800 with 6 Axes>"
      ]
     },
     "metadata": {},
     "output_type": "display_data"
    }
   ],
   "source": [
    "# extra code – the next 5 lines define the default font sizes\n",
    "plt.rc('font', size=14)\n",
    "plt.rc('axes', labelsize=14, titlesize=14)\n",
    "plt.rc('legend', fontsize=14)\n",
    "plt.rc('xtick', labelsize=10)\n",
    "plt.rc('ytick', labelsize=10)\n",
    "\n",
    "X_train.hist(bins=50, figsize=(12, 8))\n",
    "#save_fig(\"attribute_histogram_plots\")  # extra code\n",
    "plt.show()"
   ]
  },
  {
   "cell_type": "code",
   "execution_count": 59,
   "id": "99fd9bf5",
   "metadata": {},
   "outputs": [
    {
     "data": {
      "text/html": [
       "<div>\n",
       "<style scoped>\n",
       "    .dataframe tbody tr th:only-of-type {\n",
       "        vertical-align: middle;\n",
       "    }\n",
       "\n",
       "    .dataframe tbody tr th {\n",
       "        vertical-align: top;\n",
       "    }\n",
       "\n",
       "    .dataframe thead th {\n",
       "        text-align: right;\n",
       "    }\n",
       "</style>\n",
       "<table border=\"1\" class=\"dataframe\">\n",
       "  <thead>\n",
       "    <tr style=\"text-align: right;\">\n",
       "      <th></th>\n",
       "      <th>Category</th>\n",
       "      <th>Reviews</th>\n",
       "      <th>Size</th>\n",
       "      <th>Installs</th>\n",
       "      <th>Type</th>\n",
       "      <th>Price</th>\n",
       "      <th>Content Rating</th>\n",
       "      <th>Current Ver</th>\n",
       "      <th>Android Ver</th>\n",
       "      <th>Main_Genre</th>\n",
       "      <th>Secondary_Genre</th>\n",
       "      <th>Days_Since_Last_Update</th>\n",
       "    </tr>\n",
       "  </thead>\n",
       "  <tbody>\n",
       "    <tr>\n",
       "      <th>6816</th>\n",
       "      <td>FAMILY</td>\n",
       "      <td>7</td>\n",
       "      <td>5600.000</td>\n",
       "      <td>10</td>\n",
       "      <td>Free</td>\n",
       "      <td>0.00</td>\n",
       "      <td>Everyone</td>\n",
       "      <td>1.0</td>\n",
       "      <td>4.0.3 and up</td>\n",
       "      <td>Education</td>\n",
       "      <td>0</td>\n",
       "      <td>2034</td>\n",
       "    </tr>\n",
       "    <tr>\n",
       "      <th>1094</th>\n",
       "      <td>FINANCE</td>\n",
       "      <td>11919</td>\n",
       "      <td>23000.000</td>\n",
       "      <td>1000000</td>\n",
       "      <td>Free</td>\n",
       "      <td>0.00</td>\n",
       "      <td>Everyone</td>\n",
       "      <td>1.13.2.11</td>\n",
       "      <td>4.4 and up</td>\n",
       "      <td>Finance</td>\n",
       "      <td>0</td>\n",
       "      <td>1802</td>\n",
       "    </tr>\n",
       "    <tr>\n",
       "      <th>4089</th>\n",
       "      <td>FAMILY</td>\n",
       "      <td>148536</td>\n",
       "      <td>59000.000</td>\n",
       "      <td>10000000</td>\n",
       "      <td>Free</td>\n",
       "      <td>0.00</td>\n",
       "      <td>Everyone</td>\n",
       "      <td>4.21.1</td>\n",
       "      <td>4.1 and up</td>\n",
       "      <td>Education</td>\n",
       "      <td>1</td>\n",
       "      <td>1795</td>\n",
       "    </tr>\n",
       "    <tr>\n",
       "      <th>4144</th>\n",
       "      <td>SOCIAL</td>\n",
       "      <td>4828372</td>\n",
       "      <td>14000.000</td>\n",
       "      <td>1000000000</td>\n",
       "      <td>Free</td>\n",
       "      <td>0.00</td>\n",
       "      <td>Teen</td>\n",
       "      <td>Varies with device</td>\n",
       "      <td>Varies with device</td>\n",
       "      <td>Social</td>\n",
       "      <td>0</td>\n",
       "      <td>1803</td>\n",
       "    </tr>\n",
       "    <tr>\n",
       "      <th>10050</th>\n",
       "      <td>TOOLS</td>\n",
       "      <td>164</td>\n",
       "      <td>0.144</td>\n",
       "      <td>5000</td>\n",
       "      <td>Paid</td>\n",
       "      <td>4.99</td>\n",
       "      <td>Everyone</td>\n",
       "      <td>1.3</td>\n",
       "      <td>1.6 and up</td>\n",
       "      <td>Tools</td>\n",
       "      <td>0</td>\n",
       "      <td>3033</td>\n",
       "    </tr>\n",
       "  </tbody>\n",
       "</table>\n",
       "</div>"
      ],
      "text/plain": [
       "      Category  Reviews       Size    Installs  Type  Price Content Rating  \\\n",
       "6816    FAMILY        7   5600.000          10  Free   0.00       Everyone   \n",
       "1094   FINANCE    11919  23000.000     1000000  Free   0.00       Everyone   \n",
       "4089    FAMILY   148536  59000.000    10000000  Free   0.00       Everyone   \n",
       "4144    SOCIAL  4828372  14000.000  1000000000  Free   0.00           Teen   \n",
       "10050    TOOLS      164      0.144        5000  Paid   4.99       Everyone   \n",
       "\n",
       "              Current Ver         Android Ver Main_Genre  Secondary_Genre  \\\n",
       "6816                  1.0        4.0.3 and up  Education                0   \n",
       "1094            1.13.2.11          4.4 and up    Finance                0   \n",
       "4089               4.21.1          4.1 and up  Education                1   \n",
       "4144   Varies with device  Varies with device     Social                0   \n",
       "10050                 1.3          1.6 and up      Tools                0   \n",
       "\n",
       "       Days_Since_Last_Update  \n",
       "6816                     2034  \n",
       "1094                     1802  \n",
       "4089                     1795  \n",
       "4144                     1803  \n",
       "10050                    3033  "
      ]
     },
     "execution_count": 59,
     "metadata": {},
     "output_type": "execute_result"
    }
   ],
   "source": [
    "X_train.head()"
   ]
  },
  {
   "cell_type": "markdown",
   "id": "faa08b66",
   "metadata": {},
   "source": [
    "## Preprocesado"
   ]
  },
  {
   "cell_type": "code",
   "execution_count": 60,
   "id": "3644d2a4",
   "metadata": {},
   "outputs": [],
   "source": [
    "X_train_clean = X_train.copy()"
   ]
  },
  {
   "cell_type": "code",
   "execution_count": 61,
   "id": "6fb9cbdf",
   "metadata": {},
   "outputs": [
    {
     "data": {
      "text/html": [
       "<div>\n",
       "<style scoped>\n",
       "    .dataframe tbody tr th:only-of-type {\n",
       "        vertical-align: middle;\n",
       "    }\n",
       "\n",
       "    .dataframe tbody tr th {\n",
       "        vertical-align: top;\n",
       "    }\n",
       "\n",
       "    .dataframe thead th {\n",
       "        text-align: right;\n",
       "    }\n",
       "</style>\n",
       "<table border=\"1\" class=\"dataframe\">\n",
       "  <thead>\n",
       "    <tr style=\"text-align: right;\">\n",
       "      <th></th>\n",
       "      <th>Category</th>\n",
       "      <th>Reviews</th>\n",
       "      <th>Size</th>\n",
       "      <th>Installs</th>\n",
       "      <th>Type</th>\n",
       "      <th>Price</th>\n",
       "      <th>Content Rating</th>\n",
       "      <th>Current Ver</th>\n",
       "      <th>Android Ver</th>\n",
       "      <th>Main_Genre</th>\n",
       "      <th>Secondary_Genre</th>\n",
       "      <th>Days_Since_Last_Update</th>\n",
       "    </tr>\n",
       "  </thead>\n",
       "  <tbody>\n",
       "    <tr>\n",
       "      <th>6816</th>\n",
       "      <td>FAMILY</td>\n",
       "      <td>7</td>\n",
       "      <td>5600.000</td>\n",
       "      <td>10</td>\n",
       "      <td>Free</td>\n",
       "      <td>0.00</td>\n",
       "      <td>Everyone</td>\n",
       "      <td>1.0</td>\n",
       "      <td>4.0.3 and up</td>\n",
       "      <td>Education</td>\n",
       "      <td>0</td>\n",
       "      <td>2034</td>\n",
       "    </tr>\n",
       "    <tr>\n",
       "      <th>1094</th>\n",
       "      <td>FINANCE</td>\n",
       "      <td>11919</td>\n",
       "      <td>23000.000</td>\n",
       "      <td>1000000</td>\n",
       "      <td>Free</td>\n",
       "      <td>0.00</td>\n",
       "      <td>Everyone</td>\n",
       "      <td>1.13.2.11</td>\n",
       "      <td>4.4 and up</td>\n",
       "      <td>Finance</td>\n",
       "      <td>0</td>\n",
       "      <td>1802</td>\n",
       "    </tr>\n",
       "    <tr>\n",
       "      <th>4089</th>\n",
       "      <td>FAMILY</td>\n",
       "      <td>148536</td>\n",
       "      <td>59000.000</td>\n",
       "      <td>10000000</td>\n",
       "      <td>Free</td>\n",
       "      <td>0.00</td>\n",
       "      <td>Everyone</td>\n",
       "      <td>4.21.1</td>\n",
       "      <td>4.1 and up</td>\n",
       "      <td>Education</td>\n",
       "      <td>1</td>\n",
       "      <td>1795</td>\n",
       "    </tr>\n",
       "    <tr>\n",
       "      <th>4144</th>\n",
       "      <td>SOCIAL</td>\n",
       "      <td>4828372</td>\n",
       "      <td>14000.000</td>\n",
       "      <td>1000000000</td>\n",
       "      <td>Free</td>\n",
       "      <td>0.00</td>\n",
       "      <td>Teen</td>\n",
       "      <td>Varies with device</td>\n",
       "      <td>Varies with device</td>\n",
       "      <td>Social</td>\n",
       "      <td>0</td>\n",
       "      <td>1803</td>\n",
       "    </tr>\n",
       "    <tr>\n",
       "      <th>10050</th>\n",
       "      <td>TOOLS</td>\n",
       "      <td>164</td>\n",
       "      <td>0.144</td>\n",
       "      <td>5000</td>\n",
       "      <td>Paid</td>\n",
       "      <td>4.99</td>\n",
       "      <td>Everyone</td>\n",
       "      <td>1.3</td>\n",
       "      <td>1.6 and up</td>\n",
       "      <td>Tools</td>\n",
       "      <td>0</td>\n",
       "      <td>3033</td>\n",
       "    </tr>\n",
       "  </tbody>\n",
       "</table>\n",
       "</div>"
      ],
      "text/plain": [
       "      Category  Reviews       Size    Installs  Type  Price Content Rating  \\\n",
       "6816    FAMILY        7   5600.000          10  Free   0.00       Everyone   \n",
       "1094   FINANCE    11919  23000.000     1000000  Free   0.00       Everyone   \n",
       "4089    FAMILY   148536  59000.000    10000000  Free   0.00       Everyone   \n",
       "4144    SOCIAL  4828372  14000.000  1000000000  Free   0.00           Teen   \n",
       "10050    TOOLS      164      0.144        5000  Paid   4.99       Everyone   \n",
       "\n",
       "              Current Ver         Android Ver Main_Genre  Secondary_Genre  \\\n",
       "6816                  1.0        4.0.3 and up  Education                0   \n",
       "1094            1.13.2.11          4.4 and up    Finance                0   \n",
       "4089               4.21.1          4.1 and up  Education                1   \n",
       "4144   Varies with device  Varies with device     Social                0   \n",
       "10050                 1.3          1.6 and up      Tools                0   \n",
       "\n",
       "       Days_Since_Last_Update  \n",
       "6816                     2034  \n",
       "1094                     1802  \n",
       "4089                     1795  \n",
       "4144                     1803  \n",
       "10050                    3033  "
      ]
     },
     "execution_count": 61,
     "metadata": {},
     "output_type": "execute_result"
    }
   ],
   "source": [
    "X_train_clean.head()"
   ]
  },
  {
   "cell_type": "markdown",
   "id": "9ba3cdeb",
   "metadata": {},
   "source": [
    "## Codificación de Variables Categóricas"
   ]
  },
  {
   "cell_type": "code",
   "execution_count": 62,
   "id": "3a5bd729",
   "metadata": {},
   "outputs": [
    {
     "data": {
      "text/plain": [
       "'\\ndim_reduc_pipeline = Pipeline(\\n    [(\"PCA\", PCA())\\n    ]\\n)\\n'"
      ]
     },
     "execution_count": 62,
     "metadata": {},
     "output_type": "execute_result"
    }
   ],
   "source": [
    "oH_cat_pipeline = Pipeline(\n",
    "    [(\"OHEncoder\", OneHotEncoder())\n",
    "    ]\n",
    ")\n",
    "\n",
    "ord_cat_pipeline = Pipeline(\n",
    "    [(\"OrdEncoder\", OrdinalEncoder())\n",
    "    ]\n",
    ")\n",
    "\n",
    "num_pipeline = Pipeline(\n",
    "    [(\"SScaler\", StandardScaler())\n",
    "    ]\n",
    ")\n",
    "\n",
    "'''\n",
    "dim_reduc_pipeline = Pipeline(\n",
    "    [(\"PCA\", PCA())\n",
    "    ]\n",
    ")\n",
    "'''"
   ]
  },
  {
   "cell_type": "code",
   "execution_count": 63,
   "id": "e73d9ffa",
   "metadata": {},
   "outputs": [],
   "source": [
    "preprocessing = ColumnTransformer(\n",
    "    [(\"OH_Process_Categorical\", oH_cat_pipeline, [\"Category\",\"Type\",\"Content Rating\",\"Main_Genre\"]),\n",
    "     (\"Ord_Process_Categorical\", ord_cat_pipeline, [\"Current Ver\",\"Android Ver\"]),\n",
    "     (\"Process_Num_Scaler\", num_pipeline, [\"Reviews\",\"Size\",\"Installs\",\"Price\",\"Days_Since_Last_Update\"]),\n",
    "    ], remainder = \"passthrough\")"
   ]
  },
  {
   "cell_type": "code",
   "execution_count": 64,
   "id": "b88b965f",
   "metadata": {},
   "outputs": [],
   "source": [
    "pipe_preprocessed_train = preprocessing.fit_transform(X_train_clean)"
   ]
  },
  {
   "cell_type": "code",
   "execution_count": 65,
   "id": "32763483",
   "metadata": {},
   "outputs": [
    {
     "data": {
      "text/plain": [
       "array(['OH_Process_Categorical__Category_ART_AND_DESIGN',\n",
       "       'OH_Process_Categorical__Category_AUTO_AND_VEHICLES',\n",
       "       'OH_Process_Categorical__Category_BEAUTY',\n",
       "       'OH_Process_Categorical__Category_BOOKS_AND_REFERENCE',\n",
       "       'OH_Process_Categorical__Category_BUSINESS',\n",
       "       'OH_Process_Categorical__Category_COMICS',\n",
       "       'OH_Process_Categorical__Category_COMMUNICATION',\n",
       "       'OH_Process_Categorical__Category_DATING',\n",
       "       'OH_Process_Categorical__Category_EDUCATION',\n",
       "       'OH_Process_Categorical__Category_ENTERTAINMENT',\n",
       "       'OH_Process_Categorical__Category_EVENTS',\n",
       "       'OH_Process_Categorical__Category_FAMILY',\n",
       "       'OH_Process_Categorical__Category_FINANCE',\n",
       "       'OH_Process_Categorical__Category_FOOD_AND_DRINK',\n",
       "       'OH_Process_Categorical__Category_GAME',\n",
       "       'OH_Process_Categorical__Category_HEALTH_AND_FITNESS',\n",
       "       'OH_Process_Categorical__Category_HOUSE_AND_HOME',\n",
       "       'OH_Process_Categorical__Category_LIBRARIES_AND_DEMO',\n",
       "       'OH_Process_Categorical__Category_LIFESTYLE',\n",
       "       'OH_Process_Categorical__Category_MAPS_AND_NAVIGATION',\n",
       "       'OH_Process_Categorical__Category_MEDICAL',\n",
       "       'OH_Process_Categorical__Category_NEWS_AND_MAGAZINES',\n",
       "       'OH_Process_Categorical__Category_PARENTING',\n",
       "       'OH_Process_Categorical__Category_PERSONALIZATION',\n",
       "       'OH_Process_Categorical__Category_PHOTOGRAPHY',\n",
       "       'OH_Process_Categorical__Category_PRODUCTIVITY',\n",
       "       'OH_Process_Categorical__Category_SHOPPING',\n",
       "       'OH_Process_Categorical__Category_SOCIAL',\n",
       "       'OH_Process_Categorical__Category_SPORTS',\n",
       "       'OH_Process_Categorical__Category_TOOLS',\n",
       "       'OH_Process_Categorical__Category_TRAVEL_AND_LOCAL',\n",
       "       'OH_Process_Categorical__Category_VIDEO_PLAYERS',\n",
       "       'OH_Process_Categorical__Category_WEATHER',\n",
       "       'OH_Process_Categorical__Type_Free',\n",
       "       'OH_Process_Categorical__Type_Paid',\n",
       "       'OH_Process_Categorical__Content Rating_Adults only 18+',\n",
       "       'OH_Process_Categorical__Content Rating_Everyone',\n",
       "       'OH_Process_Categorical__Content Rating_Everyone 10+',\n",
       "       'OH_Process_Categorical__Content Rating_Mature 17+',\n",
       "       'OH_Process_Categorical__Content Rating_Teen',\n",
       "       'OH_Process_Categorical__Content Rating_Unrated',\n",
       "       'OH_Process_Categorical__Main_Genre_Action',\n",
       "       'OH_Process_Categorical__Main_Genre_Adventure',\n",
       "       'OH_Process_Categorical__Main_Genre_Arcade',\n",
       "       'OH_Process_Categorical__Main_Genre_Art & Design',\n",
       "       'OH_Process_Categorical__Main_Genre_Auto & Vehicles',\n",
       "       'OH_Process_Categorical__Main_Genre_Beauty',\n",
       "       'OH_Process_Categorical__Main_Genre_Board',\n",
       "       'OH_Process_Categorical__Main_Genre_Books & Reference',\n",
       "       'OH_Process_Categorical__Main_Genre_Business',\n",
       "       'OH_Process_Categorical__Main_Genre_Card',\n",
       "       'OH_Process_Categorical__Main_Genre_Casino',\n",
       "       'OH_Process_Categorical__Main_Genre_Casual',\n",
       "       'OH_Process_Categorical__Main_Genre_Comics',\n",
       "       'OH_Process_Categorical__Main_Genre_Communication',\n",
       "       'OH_Process_Categorical__Main_Genre_Dating',\n",
       "       'OH_Process_Categorical__Main_Genre_Education',\n",
       "       'OH_Process_Categorical__Main_Genre_Educational',\n",
       "       'OH_Process_Categorical__Main_Genre_Entertainment',\n",
       "       'OH_Process_Categorical__Main_Genre_Events',\n",
       "       'OH_Process_Categorical__Main_Genre_Finance',\n",
       "       'OH_Process_Categorical__Main_Genre_Food & Drink',\n",
       "       'OH_Process_Categorical__Main_Genre_Health & Fitness',\n",
       "       'OH_Process_Categorical__Main_Genre_House & Home',\n",
       "       'OH_Process_Categorical__Main_Genre_Libraries & Demo',\n",
       "       'OH_Process_Categorical__Main_Genre_Lifestyle',\n",
       "       'OH_Process_Categorical__Main_Genre_Maps & Navigation',\n",
       "       'OH_Process_Categorical__Main_Genre_Medical',\n",
       "       'OH_Process_Categorical__Main_Genre_Music',\n",
       "       'OH_Process_Categorical__Main_Genre_News & Magazines',\n",
       "       'OH_Process_Categorical__Main_Genre_Parenting',\n",
       "       'OH_Process_Categorical__Main_Genre_Personalization',\n",
       "       'OH_Process_Categorical__Main_Genre_Photography',\n",
       "       'OH_Process_Categorical__Main_Genre_Productivity',\n",
       "       'OH_Process_Categorical__Main_Genre_Puzzle',\n",
       "       'OH_Process_Categorical__Main_Genre_Racing',\n",
       "       'OH_Process_Categorical__Main_Genre_Role Playing',\n",
       "       'OH_Process_Categorical__Main_Genre_Shopping',\n",
       "       'OH_Process_Categorical__Main_Genre_Simulation',\n",
       "       'OH_Process_Categorical__Main_Genre_Social',\n",
       "       'OH_Process_Categorical__Main_Genre_Sports',\n",
       "       'OH_Process_Categorical__Main_Genre_Strategy',\n",
       "       'OH_Process_Categorical__Main_Genre_Tools',\n",
       "       'OH_Process_Categorical__Main_Genre_Travel & Local',\n",
       "       'OH_Process_Categorical__Main_Genre_Trivia',\n",
       "       'OH_Process_Categorical__Main_Genre_Video Players & Editors',\n",
       "       'OH_Process_Categorical__Main_Genre_Weather',\n",
       "       'OH_Process_Categorical__Main_Genre_Word',\n",
       "       'Ord_Process_Categorical__Current Ver',\n",
       "       'Ord_Process_Categorical__Android Ver',\n",
       "       'Process_Num_Scaler__Reviews', 'Process_Num_Scaler__Size',\n",
       "       'Process_Num_Scaler__Installs', 'Process_Num_Scaler__Price',\n",
       "       'Process_Num_Scaler__Days_Since_Last_Update',\n",
       "       'remainder__Secondary_Genre'], dtype=object)"
      ]
     },
     "execution_count": 65,
     "metadata": {},
     "output_type": "execute_result"
    }
   ],
   "source": [
    "preprocessing.get_feature_names_out()"
   ]
  },
  {
   "cell_type": "code",
   "execution_count": 66,
   "id": "11801f17",
   "metadata": {},
   "outputs": [
    {
     "data": {
      "text/plain": [
       "<6552x96 sparse matrix of type '<class 'numpy.float64'>'\n",
       "\twith 72400 stored elements in Compressed Sparse Row format>"
      ]
     },
     "execution_count": 66,
     "metadata": {},
     "output_type": "execute_result"
    }
   ],
   "source": [
    "pipe_preprocessed_train"
   ]
  },
  {
   "cell_type": "code",
   "execution_count": 67,
   "id": "cb491ef4",
   "metadata": {},
   "outputs": [],
   "source": [
    "df_pipe_train = pd.DataFrame(pipe_preprocessed_train.toarray(), columns= preprocessing.get_feature_names_out())"
   ]
  },
  {
   "cell_type": "markdown",
   "id": "8007e6f7",
   "metadata": {},
   "source": [
    "## Pruebo un CatBoost Regressor con el conjunto de Train:"
   ]
  },
  {
   "cell_type": "code",
   "execution_count": 69,
   "id": "f6401c14",
   "metadata": {},
   "outputs": [
    {
     "name": "stdout",
     "output_type": "stream",
     "text": [
      "0:\tlearn: 0.5005023\ttotal: 185ms\tremaining: 36.9s\n",
      "1:\tlearn: 0.4937892\ttotal: 210ms\tremaining: 20.8s\n",
      "2:\tlearn: 0.4860890\ttotal: 238ms\tremaining: 15.6s\n",
      "3:\tlearn: 0.4831413\ttotal: 266ms\tremaining: 13s\n",
      "4:\tlearn: 0.4807569\ttotal: 293ms\tremaining: 11.4s\n",
      "5:\tlearn: 0.4765293\ttotal: 320ms\tremaining: 10.3s\n",
      "6:\tlearn: 0.4747946\ttotal: 347ms\tremaining: 9.55s\n",
      "7:\tlearn: 0.4724270\ttotal: 375ms\tremaining: 8.99s\n",
      "8:\tlearn: 0.4692050\ttotal: 404ms\tremaining: 8.58s\n",
      "9:\tlearn: 0.4672820\ttotal: 441ms\tremaining: 8.39s\n",
      "10:\tlearn: 0.4658679\ttotal: 468ms\tremaining: 8.04s\n",
      "11:\tlearn: 0.4638053\ttotal: 493ms\tremaining: 7.73s\n",
      "12:\tlearn: 0.4627258\ttotal: 518ms\tremaining: 7.45s\n",
      "13:\tlearn: 0.4614197\ttotal: 544ms\tremaining: 7.23s\n",
      "14:\tlearn: 0.4587225\ttotal: 573ms\tremaining: 7.07s\n",
      "15:\tlearn: 0.4582848\ttotal: 600ms\tremaining: 6.89s\n",
      "16:\tlearn: 0.4568183\ttotal: 626ms\tremaining: 6.73s\n",
      "17:\tlearn: 0.4552082\ttotal: 652ms\tremaining: 6.6s\n",
      "18:\tlearn: 0.4536829\ttotal: 679ms\tremaining: 6.47s\n",
      "19:\tlearn: 0.4522231\ttotal: 710ms\tremaining: 6.39s\n",
      "20:\tlearn: 0.4494877\ttotal: 739ms\tremaining: 6.3s\n",
      "21:\tlearn: 0.4483459\ttotal: 769ms\tremaining: 6.22s\n",
      "22:\tlearn: 0.4474456\ttotal: 800ms\tremaining: 6.16s\n",
      "23:\tlearn: 0.4466496\ttotal: 829ms\tremaining: 6.08s\n",
      "24:\tlearn: 0.4462900\ttotal: 861ms\tremaining: 6.03s\n",
      "25:\tlearn: 0.4452268\ttotal: 891ms\tremaining: 5.96s\n",
      "26:\tlearn: 0.4440956\ttotal: 919ms\tremaining: 5.89s\n",
      "27:\tlearn: 0.4432481\ttotal: 950ms\tremaining: 5.83s\n",
      "28:\tlearn: 0.4411736\ttotal: 977ms\tremaining: 5.76s\n",
      "29:\tlearn: 0.4381809\ttotal: 1s\tremaining: 5.7s\n",
      "30:\tlearn: 0.4357041\ttotal: 1.03s\tremaining: 5.64s\n",
      "31:\tlearn: 0.4348079\ttotal: 1.06s\tremaining: 5.58s\n",
      "32:\tlearn: 0.4333571\ttotal: 1.1s\tremaining: 5.56s\n",
      "33:\tlearn: 0.4315785\ttotal: 1.14s\tremaining: 5.57s\n",
      "34:\tlearn: 0.4304069\ttotal: 1.17s\tremaining: 5.5s\n",
      "35:\tlearn: 0.4292623\ttotal: 1.2s\tremaining: 5.45s\n",
      "36:\tlearn: 0.4282586\ttotal: 1.23s\tremaining: 5.4s\n",
      "37:\tlearn: 0.4258736\ttotal: 1.26s\tremaining: 5.36s\n",
      "38:\tlearn: 0.4248276\ttotal: 1.28s\tremaining: 5.3s\n",
      "39:\tlearn: 0.4238247\ttotal: 1.31s\tremaining: 5.26s\n",
      "40:\tlearn: 0.4214414\ttotal: 1.35s\tremaining: 5.24s\n",
      "41:\tlearn: 0.4209606\ttotal: 1.38s\tremaining: 5.18s\n",
      "42:\tlearn: 0.4193561\ttotal: 1.41s\tremaining: 5.14s\n",
      "43:\tlearn: 0.4165958\ttotal: 1.44s\tremaining: 5.09s\n",
      "44:\tlearn: 0.4159992\ttotal: 1.46s\tremaining: 5.04s\n",
      "45:\tlearn: 0.4152685\ttotal: 1.49s\tremaining: 5s\n",
      "46:\tlearn: 0.4143875\ttotal: 1.52s\tremaining: 4.96s\n",
      "47:\tlearn: 0.4132238\ttotal: 1.55s\tremaining: 4.92s\n",
      "48:\tlearn: 0.4123619\ttotal: 1.58s\tremaining: 4.87s\n",
      "49:\tlearn: 0.4115614\ttotal: 1.61s\tremaining: 4.84s\n",
      "50:\tlearn: 0.4108338\ttotal: 1.64s\tremaining: 4.79s\n",
      "51:\tlearn: 0.4105018\ttotal: 1.67s\tremaining: 4.76s\n",
      "52:\tlearn: 0.4098800\ttotal: 1.7s\tremaining: 4.72s\n",
      "53:\tlearn: 0.4088950\ttotal: 1.73s\tremaining: 4.68s\n",
      "54:\tlearn: 0.4071984\ttotal: 1.76s\tremaining: 4.63s\n",
      "55:\tlearn: 0.4064837\ttotal: 1.79s\tremaining: 4.6s\n",
      "56:\tlearn: 0.4063007\ttotal: 1.82s\tremaining: 4.56s\n",
      "57:\tlearn: 0.4055608\ttotal: 1.85s\tremaining: 4.52s\n",
      "58:\tlearn: 0.4047329\ttotal: 1.88s\tremaining: 4.48s\n",
      "59:\tlearn: 0.4029889\ttotal: 1.91s\tremaining: 4.45s\n",
      "60:\tlearn: 0.4021674\ttotal: 1.94s\tremaining: 4.41s\n",
      "61:\tlearn: 0.4012890\ttotal: 1.96s\tremaining: 4.37s\n",
      "62:\tlearn: 0.4003664\ttotal: 1.99s\tremaining: 4.33s\n",
      "63:\tlearn: 0.4002741\ttotal: 2.02s\tremaining: 4.28s\n",
      "64:\tlearn: 0.3999368\ttotal: 2.04s\tremaining: 4.25s\n",
      "65:\tlearn: 0.3996529\ttotal: 2.07s\tremaining: 4.21s\n",
      "66:\tlearn: 0.3994036\ttotal: 2.1s\tremaining: 4.17s\n",
      "67:\tlearn: 0.3985496\ttotal: 2.14s\tremaining: 4.15s\n",
      "68:\tlearn: 0.3978846\ttotal: 2.17s\tremaining: 4.11s\n",
      "69:\tlearn: 0.3971927\ttotal: 2.19s\tremaining: 4.08s\n",
      "70:\tlearn: 0.3956274\ttotal: 2.23s\tremaining: 4.04s\n",
      "71:\tlearn: 0.3943405\ttotal: 2.25s\tremaining: 4s\n",
      "72:\tlearn: 0.3939242\ttotal: 2.28s\tremaining: 3.97s\n",
      "73:\tlearn: 0.3935133\ttotal: 2.31s\tremaining: 3.94s\n",
      "74:\tlearn: 0.3918822\ttotal: 2.34s\tremaining: 3.9s\n",
      "75:\tlearn: 0.3910448\ttotal: 2.37s\tremaining: 3.87s\n",
      "76:\tlearn: 0.3904305\ttotal: 2.41s\tremaining: 3.84s\n",
      "77:\tlearn: 0.3900025\ttotal: 2.43s\tremaining: 3.81s\n",
      "78:\tlearn: 0.3890211\ttotal: 2.46s\tremaining: 3.77s\n",
      "79:\tlearn: 0.3874208\ttotal: 2.49s\tremaining: 3.74s\n",
      "80:\tlearn: 0.3863103\ttotal: 2.52s\tremaining: 3.71s\n",
      "81:\tlearn: 0.3853871\ttotal: 2.55s\tremaining: 3.67s\n",
      "82:\tlearn: 0.3849589\ttotal: 2.58s\tremaining: 3.64s\n",
      "83:\tlearn: 0.3838203\ttotal: 2.61s\tremaining: 3.61s\n",
      "84:\tlearn: 0.3835094\ttotal: 2.64s\tremaining: 3.58s\n",
      "85:\tlearn: 0.3831526\ttotal: 2.67s\tremaining: 3.54s\n",
      "86:\tlearn: 0.3828980\ttotal: 2.7s\tremaining: 3.51s\n",
      "87:\tlearn: 0.3819034\ttotal: 2.73s\tremaining: 3.48s\n",
      "88:\tlearn: 0.3812051\ttotal: 2.76s\tremaining: 3.45s\n",
      "89:\tlearn: 0.3799726\ttotal: 2.79s\tremaining: 3.41s\n",
      "90:\tlearn: 0.3794968\ttotal: 2.82s\tremaining: 3.38s\n",
      "91:\tlearn: 0.3791987\ttotal: 2.85s\tremaining: 3.35s\n",
      "92:\tlearn: 0.3789945\ttotal: 2.88s\tremaining: 3.31s\n",
      "93:\tlearn: 0.3785279\ttotal: 2.91s\tremaining: 3.29s\n",
      "94:\tlearn: 0.3779232\ttotal: 2.94s\tremaining: 3.25s\n",
      "95:\tlearn: 0.3778482\ttotal: 2.97s\tremaining: 3.22s\n",
      "96:\tlearn: 0.3777201\ttotal: 3s\tremaining: 3.19s\n",
      "97:\tlearn: 0.3771981\ttotal: 3.04s\tremaining: 3.16s\n",
      "98:\tlearn: 0.3766023\ttotal: 3.07s\tremaining: 3.14s\n",
      "99:\tlearn: 0.3762736\ttotal: 3.1s\tremaining: 3.1s\n",
      "100:\tlearn: 0.3760936\ttotal: 3.13s\tremaining: 3.07s\n",
      "101:\tlearn: 0.3755562\ttotal: 3.16s\tremaining: 3.04s\n",
      "102:\tlearn: 0.3748261\ttotal: 3.2s\tremaining: 3.01s\n",
      "103:\tlearn: 0.3733209\ttotal: 3.24s\tremaining: 2.99s\n",
      "104:\tlearn: 0.3722545\ttotal: 3.27s\tremaining: 2.96s\n",
      "105:\tlearn: 0.3714871\ttotal: 3.31s\tremaining: 2.93s\n",
      "106:\tlearn: 0.3707425\ttotal: 3.34s\tremaining: 2.9s\n",
      "107:\tlearn: 0.3699413\ttotal: 3.37s\tremaining: 2.87s\n",
      "108:\tlearn: 0.3693039\ttotal: 3.4s\tremaining: 2.84s\n",
      "109:\tlearn: 0.3686130\ttotal: 3.44s\tremaining: 2.81s\n",
      "110:\tlearn: 0.3685415\ttotal: 3.47s\tremaining: 2.78s\n",
      "111:\tlearn: 0.3679331\ttotal: 3.5s\tremaining: 2.75s\n",
      "112:\tlearn: 0.3675671\ttotal: 3.53s\tremaining: 2.72s\n",
      "113:\tlearn: 0.3671083\ttotal: 3.56s\tremaining: 2.69s\n",
      "114:\tlearn: 0.3662473\ttotal: 3.59s\tremaining: 2.65s\n",
      "115:\tlearn: 0.3661446\ttotal: 3.62s\tremaining: 2.62s\n",
      "116:\tlearn: 0.3658810\ttotal: 3.66s\tremaining: 2.6s\n",
      "117:\tlearn: 0.3653514\ttotal: 3.69s\tremaining: 2.56s\n",
      "118:\tlearn: 0.3648149\ttotal: 3.73s\tremaining: 2.54s\n",
      "119:\tlearn: 0.3647712\ttotal: 3.77s\tremaining: 2.51s\n",
      "120:\tlearn: 0.3645644\ttotal: 3.8s\tremaining: 2.48s\n",
      "121:\tlearn: 0.3643792\ttotal: 3.83s\tremaining: 2.45s\n",
      "122:\tlearn: 0.3638183\ttotal: 3.87s\tremaining: 2.42s\n",
      "123:\tlearn: 0.3635700\ttotal: 3.91s\tremaining: 2.4s\n",
      "124:\tlearn: 0.3631362\ttotal: 3.95s\tremaining: 2.37s\n",
      "125:\tlearn: 0.3626436\ttotal: 3.99s\tremaining: 2.34s\n",
      "126:\tlearn: 0.3615083\ttotal: 4.02s\tremaining: 2.31s\n",
      "127:\tlearn: 0.3611392\ttotal: 4.06s\tremaining: 2.28s\n",
      "128:\tlearn: 0.3610432\ttotal: 4.09s\tremaining: 2.25s\n",
      "129:\tlearn: 0.3602790\ttotal: 4.12s\tremaining: 2.22s\n",
      "130:\tlearn: 0.3594493\ttotal: 4.16s\tremaining: 2.19s\n",
      "131:\tlearn: 0.3592877\ttotal: 4.19s\tremaining: 2.16s\n",
      "132:\tlearn: 0.3591317\ttotal: 4.22s\tremaining: 2.13s\n",
      "133:\tlearn: 0.3578039\ttotal: 4.25s\tremaining: 2.09s\n",
      "134:\tlearn: 0.3576053\ttotal: 4.29s\tremaining: 2.06s\n",
      "135:\tlearn: 0.3573141\ttotal: 4.32s\tremaining: 2.03s\n",
      "136:\tlearn: 0.3566608\ttotal: 4.36s\tremaining: 2s\n",
      "137:\tlearn: 0.3560876\ttotal: 4.39s\tremaining: 1.97s\n",
      "138:\tlearn: 0.3556944\ttotal: 4.42s\tremaining: 1.94s\n",
      "139:\tlearn: 0.3548170\ttotal: 4.46s\tremaining: 1.91s\n",
      "140:\tlearn: 0.3542356\ttotal: 4.49s\tremaining: 1.88s\n",
      "141:\tlearn: 0.3540044\ttotal: 4.53s\tremaining: 1.85s\n",
      "142:\tlearn: 0.3535125\ttotal: 4.56s\tremaining: 1.82s\n",
      "143:\tlearn: 0.3534744\ttotal: 4.59s\tremaining: 1.79s\n",
      "144:\tlearn: 0.3526249\ttotal: 4.62s\tremaining: 1.75s\n",
      "145:\tlearn: 0.3519571\ttotal: 4.66s\tremaining: 1.72s\n",
      "146:\tlearn: 0.3518297\ttotal: 4.69s\tremaining: 1.69s\n",
      "147:\tlearn: 0.3514209\ttotal: 4.73s\tremaining: 1.66s\n",
      "148:\tlearn: 0.3505920\ttotal: 4.76s\tremaining: 1.63s\n",
      "149:\tlearn: 0.3500471\ttotal: 4.79s\tremaining: 1.59s\n",
      "150:\tlearn: 0.3494701\ttotal: 4.82s\tremaining: 1.56s\n",
      "151:\tlearn: 0.3493226\ttotal: 4.85s\tremaining: 1.53s\n",
      "152:\tlearn: 0.3490022\ttotal: 4.88s\tremaining: 1.5s\n",
      "153:\tlearn: 0.3486207\ttotal: 4.91s\tremaining: 1.47s\n",
      "154:\tlearn: 0.3481905\ttotal: 4.94s\tremaining: 1.43s\n",
      "155:\tlearn: 0.3477715\ttotal: 4.97s\tremaining: 1.4s\n",
      "156:\tlearn: 0.3471991\ttotal: 5s\tremaining: 1.37s\n",
      "157:\tlearn: 0.3462201\ttotal: 5.03s\tremaining: 1.34s\n",
      "158:\tlearn: 0.3459176\ttotal: 5.06s\tremaining: 1.3s\n",
      "159:\tlearn: 0.3456437\ttotal: 5.09s\tremaining: 1.27s\n",
      "160:\tlearn: 0.3449807\ttotal: 5.12s\tremaining: 1.24s\n",
      "161:\tlearn: 0.3448310\ttotal: 5.15s\tremaining: 1.21s\n",
      "162:\tlearn: 0.3441932\ttotal: 5.18s\tremaining: 1.18s\n",
      "163:\tlearn: 0.3441326\ttotal: 5.21s\tremaining: 1.14s\n",
      "164:\tlearn: 0.3433644\ttotal: 5.24s\tremaining: 1.11s\n",
      "165:\tlearn: 0.3431596\ttotal: 5.27s\tremaining: 1.08s\n",
      "166:\tlearn: 0.3428451\ttotal: 5.3s\tremaining: 1.05s\n",
      "167:\tlearn: 0.3426745\ttotal: 5.33s\tremaining: 1.02s\n",
      "168:\tlearn: 0.3422496\ttotal: 5.36s\tremaining: 983ms\n",
      "169:\tlearn: 0.3413762\ttotal: 5.39s\tremaining: 951ms\n",
      "170:\tlearn: 0.3406835\ttotal: 5.42s\tremaining: 918ms\n",
      "171:\tlearn: 0.3398242\ttotal: 5.45s\tremaining: 887ms\n",
      "172:\tlearn: 0.3394114\ttotal: 5.48s\tremaining: 855ms\n",
      "173:\tlearn: 0.3390819\ttotal: 5.51s\tremaining: 823ms\n",
      "174:\tlearn: 0.3384922\ttotal: 5.54s\tremaining: 791ms\n",
      "175:\tlearn: 0.3382585\ttotal: 5.57s\tremaining: 759ms\n",
      "176:\tlearn: 0.3374871\ttotal: 5.6s\tremaining: 728ms\n",
      "177:\tlearn: 0.3371587\ttotal: 5.63s\tremaining: 696ms\n",
      "178:\tlearn: 0.3368173\ttotal: 5.66s\tremaining: 664ms\n",
      "179:\tlearn: 0.3363026\ttotal: 5.69s\tremaining: 632ms\n",
      "180:\tlearn: 0.3360304\ttotal: 5.72s\tremaining: 600ms\n",
      "181:\tlearn: 0.3351531\ttotal: 5.75s\tremaining: 569ms\n",
      "182:\tlearn: 0.3347390\ttotal: 5.78s\tremaining: 537ms\n",
      "183:\tlearn: 0.3343780\ttotal: 5.81s\tremaining: 505ms\n",
      "184:\tlearn: 0.3342373\ttotal: 5.84s\tremaining: 474ms\n",
      "185:\tlearn: 0.3339504\ttotal: 5.87s\tremaining: 442ms\n",
      "186:\tlearn: 0.3338129\ttotal: 5.9s\tremaining: 410ms\n",
      "187:\tlearn: 0.3335918\ttotal: 5.93s\tremaining: 379ms\n",
      "188:\tlearn: 0.3332287\ttotal: 5.97s\tremaining: 347ms\n",
      "189:\tlearn: 0.3325866\ttotal: 6s\tremaining: 316ms\n",
      "190:\tlearn: 0.3321019\ttotal: 6.03s\tremaining: 284ms\n",
      "191:\tlearn: 0.3316420\ttotal: 6.06s\tremaining: 252ms\n",
      "192:\tlearn: 0.3308515\ttotal: 6.08s\tremaining: 221ms\n",
      "193:\tlearn: 0.3306180\ttotal: 6.12s\tremaining: 189ms\n",
      "194:\tlearn: 0.3302455\ttotal: 6.15s\tremaining: 158ms\n",
      "195:\tlearn: 0.3298452\ttotal: 6.18s\tremaining: 126ms\n",
      "196:\tlearn: 0.3295861\ttotal: 6.21s\tremaining: 94.5ms\n",
      "197:\tlearn: 0.3292774\ttotal: 6.24s\tremaining: 63ms\n",
      "198:\tlearn: 0.3290011\ttotal: 6.27s\tremaining: 31.5ms\n",
      "199:\tlearn: 0.3288110\ttotal: 6.3s\tremaining: 0us\n"
     ]
    }
   ],
   "source": [
    "cb = CatBoostRegressor(n_estimators=200,\n",
    "                      loss_function='RMSE',\n",
    "                      learning_rate=0.4,\n",
    "                      random_state=1\n",
    "                       # verbose=False\n",
    "                      )\n",
    "\n",
    "pool_train = Pool(X_train, y_train,\n",
    "                 cat_features=['Category','Type','Content Rating','Current Ver','Android Ver','Main_Genre'])\n",
    "#pool_test = Pool(X_test)\n",
    "\n",
    "cb.fit(pool_train)\n",
    "\n",
    "y_pred_train = cb.predict(pool_train)"
   ]
  },
  {
   "cell_type": "code",
   "execution_count": 70,
   "id": "b8d9bd81",
   "metadata": {},
   "outputs": [
    {
     "data": {
      "text/plain": [
       "0.2432242942219778"
      ]
     },
     "execution_count": 70,
     "metadata": {},
     "output_type": "execute_result"
    }
   ],
   "source": [
    "mean_absolute_error(y_train, y_pred)"
   ]
  },
  {
   "cell_type": "markdown",
   "id": "f7bff033-b37a-43ca-aa4d-bcac774c4dfd",
   "metadata": {},
   "source": [
    "## Pruebo un CatBoost Regressor con el conjunto de df_pipe_train:"
   ]
  },
  {
   "cell_type": "code",
   "execution_count": 113,
   "id": "72ab5ef4-822d-4294-b22d-0adba0c3da4d",
   "metadata": {},
   "outputs": [
    {
     "name": "stdout",
     "output_type": "stream",
     "text": [
      "0:\tlearn: 0.5026388\ttotal: 3.46ms\tremaining: 688ms\n",
      "1:\tlearn: 0.4939014\ttotal: 5.98ms\tremaining: 592ms\n",
      "2:\tlearn: 0.4888427\ttotal: 8.23ms\tremaining: 540ms\n",
      "3:\tlearn: 0.4844805\ttotal: 10.9ms\tremaining: 533ms\n",
      "4:\tlearn: 0.4811643\ttotal: 13.1ms\tremaining: 513ms\n",
      "5:\tlearn: 0.4767900\ttotal: 15.6ms\tremaining: 505ms\n",
      "6:\tlearn: 0.4736018\ttotal: 17.9ms\tremaining: 494ms\n",
      "7:\tlearn: 0.4701607\ttotal: 20.1ms\tremaining: 484ms\n",
      "8:\tlearn: 0.4650059\ttotal: 22.4ms\tremaining: 475ms\n",
      "9:\tlearn: 0.4627194\ttotal: 24.7ms\tremaining: 470ms\n",
      "10:\tlearn: 0.4599709\ttotal: 27ms\tremaining: 464ms\n",
      "11:\tlearn: 0.4582518\ttotal: 29.7ms\tremaining: 465ms\n",
      "12:\tlearn: 0.4556370\ttotal: 32.3ms\tremaining: 465ms\n",
      "13:\tlearn: 0.4541819\ttotal: 35.2ms\tremaining: 467ms\n",
      "14:\tlearn: 0.4515265\ttotal: 37.1ms\tremaining: 458ms\n",
      "15:\tlearn: 0.4502893\ttotal: 39ms\tremaining: 449ms\n",
      "16:\tlearn: 0.4484155\ttotal: 41.1ms\tremaining: 442ms\n",
      "17:\tlearn: 0.4471967\ttotal: 43.2ms\tremaining: 437ms\n",
      "18:\tlearn: 0.4455046\ttotal: 45.4ms\tremaining: 433ms\n",
      "19:\tlearn: 0.4449798\ttotal: 47.1ms\tremaining: 423ms\n",
      "20:\tlearn: 0.4437643\ttotal: 49.1ms\tremaining: 419ms\n",
      "21:\tlearn: 0.4423673\ttotal: 51.6ms\tremaining: 417ms\n",
      "22:\tlearn: 0.4394788\ttotal: 53.7ms\tremaining: 413ms\n",
      "23:\tlearn: 0.4371802\ttotal: 55.7ms\tremaining: 408ms\n",
      "24:\tlearn: 0.4354914\ttotal: 57.6ms\tremaining: 403ms\n",
      "25:\tlearn: 0.4334141\ttotal: 60.3ms\tremaining: 403ms\n",
      "26:\tlearn: 0.4313266\ttotal: 62.7ms\tremaining: 402ms\n",
      "27:\tlearn: 0.4295051\ttotal: 64.6ms\tremaining: 397ms\n",
      "28:\tlearn: 0.4286359\ttotal: 66.7ms\tremaining: 393ms\n",
      "29:\tlearn: 0.4254081\ttotal: 68.8ms\tremaining: 390ms\n",
      "30:\tlearn: 0.4240886\ttotal: 70.8ms\tremaining: 386ms\n",
      "31:\tlearn: 0.4230800\ttotal: 72.8ms\tremaining: 382ms\n",
      "32:\tlearn: 0.4215540\ttotal: 75.1ms\tremaining: 380ms\n",
      "33:\tlearn: 0.4210775\ttotal: 77.1ms\tremaining: 377ms\n",
      "34:\tlearn: 0.4202412\ttotal: 79.2ms\tremaining: 373ms\n",
      "35:\tlearn: 0.4188940\ttotal: 81.4ms\tremaining: 371ms\n",
      "36:\tlearn: 0.4164536\ttotal: 84.2ms\tremaining: 371ms\n",
      "37:\tlearn: 0.4150412\ttotal: 87.8ms\tremaining: 374ms\n",
      "38:\tlearn: 0.4142852\ttotal: 90.2ms\tremaining: 372ms\n",
      "39:\tlearn: 0.4127465\ttotal: 92.2ms\tremaining: 369ms\n",
      "40:\tlearn: 0.4111228\ttotal: 104ms\tremaining: 403ms\n",
      "41:\tlearn: 0.4093642\ttotal: 110ms\tremaining: 413ms\n",
      "42:\tlearn: 0.4085299\ttotal: 123ms\tremaining: 448ms\n",
      "43:\tlearn: 0.4066267\ttotal: 125ms\tremaining: 444ms\n",
      "44:\tlearn: 0.4046102\ttotal: 128ms\tremaining: 440ms\n",
      "45:\tlearn: 0.4026868\ttotal: 130ms\tremaining: 434ms\n",
      "46:\tlearn: 0.4015279\ttotal: 132ms\tremaining: 430ms\n",
      "47:\tlearn: 0.4001480\ttotal: 136ms\tremaining: 430ms\n",
      "48:\tlearn: 0.3995555\ttotal: 139ms\tremaining: 430ms\n",
      "49:\tlearn: 0.3983024\ttotal: 142ms\tremaining: 426ms\n",
      "50:\tlearn: 0.3967534\ttotal: 144ms\tremaining: 421ms\n",
      "51:\tlearn: 0.3956643\ttotal: 146ms\tremaining: 416ms\n",
      "52:\tlearn: 0.3952282\ttotal: 148ms\tremaining: 411ms\n",
      "53:\tlearn: 0.3941459\ttotal: 150ms\tremaining: 405ms\n",
      "54:\tlearn: 0.3927722\ttotal: 152ms\tremaining: 401ms\n",
      "55:\tlearn: 0.3915622\ttotal: 154ms\tremaining: 396ms\n",
      "56:\tlearn: 0.3904218\ttotal: 156ms\tremaining: 392ms\n",
      "57:\tlearn: 0.3897550\ttotal: 158ms\tremaining: 388ms\n",
      "58:\tlearn: 0.3888167\ttotal: 161ms\tremaining: 384ms\n",
      "59:\tlearn: 0.3873381\ttotal: 163ms\tremaining: 380ms\n",
      "60:\tlearn: 0.3854091\ttotal: 165ms\tremaining: 376ms\n",
      "61:\tlearn: 0.3836099\ttotal: 167ms\tremaining: 372ms\n",
      "62:\tlearn: 0.3813314\ttotal: 169ms\tremaining: 368ms\n",
      "63:\tlearn: 0.3795483\ttotal: 172ms\tremaining: 365ms\n",
      "64:\tlearn: 0.3791118\ttotal: 174ms\tremaining: 361ms\n",
      "65:\tlearn: 0.3778835\ttotal: 176ms\tremaining: 357ms\n",
      "66:\tlearn: 0.3767998\ttotal: 178ms\tremaining: 353ms\n",
      "67:\tlearn: 0.3753918\ttotal: 180ms\tremaining: 350ms\n",
      "68:\tlearn: 0.3742963\ttotal: 182ms\tremaining: 346ms\n",
      "69:\tlearn: 0.3733250\ttotal: 184ms\tremaining: 342ms\n",
      "70:\tlearn: 0.3721197\ttotal: 186ms\tremaining: 338ms\n",
      "71:\tlearn: 0.3707967\ttotal: 188ms\tremaining: 335ms\n",
      "72:\tlearn: 0.3697321\ttotal: 190ms\tremaining: 331ms\n",
      "73:\tlearn: 0.3692785\ttotal: 192ms\tremaining: 328ms\n",
      "74:\tlearn: 0.3692042\ttotal: 194ms\tremaining: 324ms\n",
      "75:\tlearn: 0.3680042\ttotal: 196ms\tremaining: 320ms\n",
      "76:\tlearn: 0.3671247\ttotal: 198ms\tremaining: 317ms\n",
      "77:\tlearn: 0.3666373\ttotal: 200ms\tremaining: 313ms\n",
      "78:\tlearn: 0.3658896\ttotal: 202ms\tremaining: 310ms\n",
      "79:\tlearn: 0.3652444\ttotal: 205ms\tremaining: 307ms\n",
      "80:\tlearn: 0.3637380\ttotal: 207ms\tremaining: 305ms\n",
      "81:\tlearn: 0.3627938\ttotal: 210ms\tremaining: 302ms\n",
      "82:\tlearn: 0.3621200\ttotal: 212ms\tremaining: 298ms\n",
      "83:\tlearn: 0.3611442\ttotal: 214ms\tremaining: 295ms\n",
      "84:\tlearn: 0.3607613\ttotal: 216ms\tremaining: 292ms\n",
      "85:\tlearn: 0.3598497\ttotal: 218ms\tremaining: 289ms\n",
      "86:\tlearn: 0.3591237\ttotal: 220ms\tremaining: 286ms\n",
      "87:\tlearn: 0.3579693\ttotal: 222ms\tremaining: 283ms\n",
      "88:\tlearn: 0.3570807\ttotal: 224ms\tremaining: 279ms\n",
      "89:\tlearn: 0.3561797\ttotal: 226ms\tremaining: 276ms\n",
      "90:\tlearn: 0.3554392\ttotal: 228ms\tremaining: 274ms\n",
      "91:\tlearn: 0.3546546\ttotal: 231ms\tremaining: 271ms\n",
      "92:\tlearn: 0.3540233\ttotal: 233ms\tremaining: 268ms\n",
      "93:\tlearn: 0.3528264\ttotal: 235ms\tremaining: 265ms\n",
      "94:\tlearn: 0.3524447\ttotal: 237ms\tremaining: 262ms\n",
      "95:\tlearn: 0.3516277\ttotal: 239ms\tremaining: 259ms\n",
      "96:\tlearn: 0.3510956\ttotal: 241ms\tremaining: 256ms\n",
      "97:\tlearn: 0.3506967\ttotal: 243ms\tremaining: 253ms\n",
      "98:\tlearn: 0.3498035\ttotal: 245ms\tremaining: 250ms\n",
      "99:\tlearn: 0.3488724\ttotal: 247ms\tremaining: 247ms\n",
      "100:\tlearn: 0.3481691\ttotal: 249ms\tremaining: 244ms\n",
      "101:\tlearn: 0.3470579\ttotal: 251ms\tremaining: 241ms\n",
      "102:\tlearn: 0.3463361\ttotal: 253ms\tremaining: 239ms\n",
      "103:\tlearn: 0.3455260\ttotal: 256ms\tremaining: 236ms\n",
      "104:\tlearn: 0.3450198\ttotal: 258ms\tremaining: 233ms\n",
      "105:\tlearn: 0.3442946\ttotal: 260ms\tremaining: 231ms\n",
      "106:\tlearn: 0.3434686\ttotal: 262ms\tremaining: 228ms\n",
      "107:\tlearn: 0.3428650\ttotal: 264ms\tremaining: 225ms\n",
      "108:\tlearn: 0.3424610\ttotal: 266ms\tremaining: 222ms\n",
      "109:\tlearn: 0.3418894\ttotal: 268ms\tremaining: 219ms\n",
      "110:\tlearn: 0.3410454\ttotal: 270ms\tremaining: 216ms\n",
      "111:\tlearn: 0.3399946\ttotal: 272ms\tremaining: 214ms\n",
      "112:\tlearn: 0.3393870\ttotal: 274ms\tremaining: 211ms\n",
      "113:\tlearn: 0.3388895\ttotal: 276ms\tremaining: 208ms\n",
      "114:\tlearn: 0.3385138\ttotal: 278ms\tremaining: 205ms\n",
      "115:\tlearn: 0.3377681\ttotal: 280ms\tremaining: 203ms\n",
      "116:\tlearn: 0.3372207\ttotal: 282ms\tremaining: 200ms\n",
      "117:\tlearn: 0.3365998\ttotal: 284ms\tremaining: 197ms\n",
      "118:\tlearn: 0.3360511\ttotal: 286ms\tremaining: 195ms\n",
      "119:\tlearn: 0.3349324\ttotal: 288ms\tremaining: 192ms\n",
      "120:\tlearn: 0.3339539\ttotal: 290ms\tremaining: 189ms\n",
      "121:\tlearn: 0.3333731\ttotal: 292ms\tremaining: 187ms\n",
      "122:\tlearn: 0.3324452\ttotal: 294ms\tremaining: 184ms\n",
      "123:\tlearn: 0.3316400\ttotal: 296ms\tremaining: 181ms\n",
      "124:\tlearn: 0.3313742\ttotal: 298ms\tremaining: 179ms\n",
      "125:\tlearn: 0.3302794\ttotal: 300ms\tremaining: 176ms\n",
      "126:\tlearn: 0.3291455\ttotal: 302ms\tremaining: 174ms\n",
      "127:\tlearn: 0.3284954\ttotal: 304ms\tremaining: 171ms\n",
      "128:\tlearn: 0.3281911\ttotal: 306ms\tremaining: 168ms\n",
      "129:\tlearn: 0.3275226\ttotal: 308ms\tremaining: 166ms\n",
      "130:\tlearn: 0.3270786\ttotal: 310ms\tremaining: 164ms\n",
      "131:\tlearn: 0.3260824\ttotal: 313ms\tremaining: 161ms\n",
      "132:\tlearn: 0.3249917\ttotal: 315ms\tremaining: 159ms\n",
      "133:\tlearn: 0.3242964\ttotal: 317ms\tremaining: 156ms\n",
      "134:\tlearn: 0.3234275\ttotal: 319ms\tremaining: 154ms\n",
      "135:\tlearn: 0.3223634\ttotal: 321ms\tremaining: 151ms\n",
      "136:\tlearn: 0.3214841\ttotal: 323ms\tremaining: 149ms\n",
      "137:\tlearn: 0.3210533\ttotal: 325ms\tremaining: 146ms\n",
      "138:\tlearn: 0.3202574\ttotal: 327ms\tremaining: 144ms\n",
      "139:\tlearn: 0.3197510\ttotal: 329ms\tremaining: 141ms\n",
      "140:\tlearn: 0.3190433\ttotal: 331ms\tremaining: 139ms\n",
      "141:\tlearn: 0.3184793\ttotal: 333ms\tremaining: 136ms\n",
      "142:\tlearn: 0.3181157\ttotal: 335ms\tremaining: 134ms\n",
      "143:\tlearn: 0.3177733\ttotal: 337ms\tremaining: 131ms\n",
      "144:\tlearn: 0.3169882\ttotal: 339ms\tremaining: 129ms\n",
      "145:\tlearn: 0.3161280\ttotal: 342ms\tremaining: 126ms\n",
      "146:\tlearn: 0.3157193\ttotal: 344ms\tremaining: 124ms\n",
      "147:\tlearn: 0.3152637\ttotal: 346ms\tremaining: 121ms\n",
      "148:\tlearn: 0.3145288\ttotal: 348ms\tremaining: 119ms\n",
      "149:\tlearn: 0.3140104\ttotal: 350ms\tremaining: 117ms\n",
      "150:\tlearn: 0.3131901\ttotal: 352ms\tremaining: 114ms\n",
      "151:\tlearn: 0.3126183\ttotal: 354ms\tremaining: 112ms\n",
      "152:\tlearn: 0.3121820\ttotal: 356ms\tremaining: 109ms\n",
      "153:\tlearn: 0.3114328\ttotal: 358ms\tremaining: 107ms\n",
      "154:\tlearn: 0.3109351\ttotal: 360ms\tremaining: 105ms\n",
      "155:\tlearn: 0.3102459\ttotal: 362ms\tremaining: 102ms\n",
      "156:\tlearn: 0.3092087\ttotal: 364ms\tremaining: 99.8ms\n",
      "157:\tlearn: 0.3087595\ttotal: 367ms\tremaining: 97.5ms\n",
      "158:\tlearn: 0.3083025\ttotal: 369ms\tremaining: 95.1ms\n",
      "159:\tlearn: 0.3077517\ttotal: 371ms\tremaining: 92.7ms\n",
      "160:\tlearn: 0.3073263\ttotal: 373ms\tremaining: 90.3ms\n",
      "161:\tlearn: 0.3066544\ttotal: 375ms\tremaining: 87.9ms\n",
      "162:\tlearn: 0.3055873\ttotal: 377ms\tremaining: 85.6ms\n",
      "163:\tlearn: 0.3049091\ttotal: 379ms\tremaining: 83.2ms\n",
      "164:\tlearn: 0.3043610\ttotal: 381ms\tremaining: 80.8ms\n",
      "165:\tlearn: 0.3042253\ttotal: 384ms\tremaining: 78.6ms\n",
      "166:\tlearn: 0.3038833\ttotal: 386ms\tremaining: 76.3ms\n",
      "167:\tlearn: 0.3033073\ttotal: 388ms\tremaining: 74ms\n",
      "168:\tlearn: 0.3030642\ttotal: 390ms\tremaining: 71.5ms\n",
      "169:\tlearn: 0.3024975\ttotal: 392ms\tremaining: 69.2ms\n",
      "170:\tlearn: 0.3020324\ttotal: 394ms\tremaining: 66.8ms\n",
      "171:\tlearn: 0.3016175\ttotal: 396ms\tremaining: 64.4ms\n",
      "172:\tlearn: 0.3011699\ttotal: 398ms\tremaining: 62.1ms\n",
      "173:\tlearn: 0.3007184\ttotal: 400ms\tremaining: 59.8ms\n",
      "174:\tlearn: 0.3002571\ttotal: 403ms\tremaining: 57.5ms\n",
      "175:\tlearn: 0.2998429\ttotal: 405ms\tremaining: 55.2ms\n",
      "176:\tlearn: 0.2993413\ttotal: 407ms\tremaining: 52.8ms\n",
      "177:\tlearn: 0.2988198\ttotal: 409ms\tremaining: 50.5ms\n",
      "178:\tlearn: 0.2984398\ttotal: 411ms\tremaining: 48.2ms\n",
      "179:\tlearn: 0.2981272\ttotal: 413ms\tremaining: 45.9ms\n",
      "180:\tlearn: 0.2980674\ttotal: 415ms\tremaining: 43.5ms\n",
      "181:\tlearn: 0.2977934\ttotal: 417ms\tremaining: 41.2ms\n",
      "182:\tlearn: 0.2972560\ttotal: 419ms\tremaining: 38.9ms\n",
      "183:\tlearn: 0.2968997\ttotal: 421ms\tremaining: 36.6ms\n",
      "184:\tlearn: 0.2968085\ttotal: 423ms\tremaining: 34.3ms\n",
      "185:\tlearn: 0.2963906\ttotal: 425ms\tremaining: 32ms\n",
      "186:\tlearn: 0.2957827\ttotal: 427ms\tremaining: 29.7ms\n",
      "187:\tlearn: 0.2950491\ttotal: 429ms\tremaining: 27.4ms\n",
      "188:\tlearn: 0.2944925\ttotal: 431ms\tremaining: 25.1ms\n",
      "189:\tlearn: 0.2942172\ttotal: 433ms\tremaining: 22.8ms\n",
      "190:\tlearn: 0.2936770\ttotal: 435ms\tremaining: 20.5ms\n",
      "191:\tlearn: 0.2929071\ttotal: 437ms\tremaining: 18.2ms\n",
      "192:\tlearn: 0.2925223\ttotal: 439ms\tremaining: 15.9ms\n",
      "193:\tlearn: 0.2917697\ttotal: 442ms\tremaining: 13.7ms\n",
      "194:\tlearn: 0.2913184\ttotal: 444ms\tremaining: 11.4ms\n",
      "195:\tlearn: 0.2905795\ttotal: 446ms\tremaining: 9.1ms\n",
      "196:\tlearn: 0.2900649\ttotal: 448ms\tremaining: 6.82ms\n",
      "197:\tlearn: 0.2893751\ttotal: 450ms\tremaining: 4.54ms\n",
      "198:\tlearn: 0.2889405\ttotal: 452ms\tremaining: 2.27ms\n",
      "199:\tlearn: 0.2884089\ttotal: 454ms\tremaining: 0us\n"
     ]
    }
   ],
   "source": [
    "cb_pipe = CatBoostRegressor(n_estimators=200,\n",
    "                      loss_function='RMSE',\n",
    "                      learning_rate=0.4,\n",
    "                      random_state=1\n",
    "                       # verbose=False\n",
    "                      )\n",
    "\n",
    "pool_train_pipe = Pool(df_pipe_train, y_train)\n",
    "#pool_test = Pool(X_test)\n",
    "\n",
    "cb_pipe.fit(pool_train_pipe)\n",
    "\n",
    "y_pred_pipe = cb_pipe.predict(pool_train_pipe)"
   ]
  },
  {
   "cell_type": "code",
   "execution_count": 114,
   "id": "e0789a10-f7a1-47bb-8b19-852b33e43e54",
   "metadata": {},
   "outputs": [
    {
     "data": {
      "text/plain": [
       "0.2078341515461114"
      ]
     },
     "execution_count": 114,
     "metadata": {},
     "output_type": "execute_result"
    }
   ],
   "source": [
    "mean_absolute_error(y_train, y_pred_pipe)"
   ]
  },
  {
   "cell_type": "markdown",
   "id": "2486af8d",
   "metadata": {},
   "source": [
    "## Limpio el conjunto de test igual que el de Train"
   ]
  },
  {
   "cell_type": "markdown",
   "id": "fc3ff429",
   "metadata": {},
   "source": [
    "## App"
   ]
  },
  {
   "cell_type": "markdown",
   "id": "2c900e46",
   "metadata": {},
   "source": [
    "Nombre de la aplicación. Podria aportar valor si se analiza en profundidad la semantica de las palabras que contiene, pero en este caso lo descartamos por su complejidad, así que eliminamos la columna del dataFrame."
   ]
  },
  {
   "cell_type": "code",
   "execution_count": 71,
   "id": "1fc09406",
   "metadata": {},
   "outputs": [],
   "source": [
    "X_test.drop('App', axis=1, inplace=True)"
   ]
  },
  {
   "cell_type": "markdown",
   "id": "ba744153",
   "metadata": {},
   "source": [
    "## Category"
   ]
  },
  {
   "cell_type": "markdown",
   "id": "23781d59",
   "metadata": {},
   "source": [
    "Categorica dificil de codificar. Como no son demasiados valores, el one hot enconding parace lo más adecuado."
   ]
  },
  {
   "cell_type": "code",
   "execution_count": 72,
   "id": "0aac0c02",
   "metadata": {},
   "outputs": [
    {
     "data": {
      "text/plain": [
       "FAMILY                 518\n",
       "GAME                   329\n",
       "TOOLS                  220\n",
       "SPORTS                 110\n",
       "LIFESTYLE              110\n",
       "COMMUNICATION          106\n",
       "MEDICAL                101\n",
       "PRODUCTIVITY            95\n",
       "FINANCE                 95\n",
       "HEALTH_AND_FITNESS      89\n",
       "BUSINESS                86\n",
       "PHOTOGRAPHY             85\n",
       "PERSONALIZATION         80\n",
       "TRAVEL_AND_LOCAL        79\n",
       "SHOPPING                74\n",
       "DATING                  69\n",
       "NEWS_AND_MAGAZINES      67\n",
       "SOCIAL                  64\n",
       "BOOKS_AND_REFERENCE     59\n",
       "EDUCATION               53\n",
       "VIDEO_PLAYERS           50\n",
       "FOOD_AND_DRINK          37\n",
       "ENTERTAINMENT           32\n",
       "MAPS_AND_NAVIGATION     31\n",
       "HOUSE_AND_HOME          30\n",
       "AUTO_AND_VEHICLES       27\n",
       "ART_AND_DESIGN          19\n",
       "PARENTING               18\n",
       "BEAUTY                  17\n",
       "COMICS                  16\n",
       "LIBRARIES_AND_DEMO      15\n",
       "WEATHER                 15\n",
       "EVENTS                  12\n",
       "Name: Category, dtype: int64"
      ]
     },
     "execution_count": 72,
     "metadata": {},
     "output_type": "execute_result"
    }
   ],
   "source": [
    "X_test.Category.value_counts()"
   ]
  },
  {
   "cell_type": "markdown",
   "id": "501a29e1",
   "metadata": {},
   "source": [
    "## Reviews"
   ]
  },
  {
   "cell_type": "markdown",
   "id": "42071a46",
   "metadata": {},
   "source": [
    "Es un campo numerico pero el tipo es object. Lo cambio a int64."
   ]
  },
  {
   "cell_type": "code",
   "execution_count": 73,
   "id": "3cdf19df",
   "metadata": {},
   "outputs": [],
   "source": [
    "X_test[\"Reviews\"] = X_test[\"Reviews\"].astype('int64')"
   ]
  },
  {
   "cell_type": "code",
   "execution_count": 74,
   "id": "98fd9fc1",
   "metadata": {},
   "outputs": [
    {
     "name": "stdout",
     "output_type": "stream",
     "text": [
      "<class 'pandas.core.series.Series'>\n",
      "Int64Index: 2808 entries, 5560 to 2736\n",
      "Series name: Reviews\n",
      "Non-Null Count  Dtype\n",
      "--------------  -----\n",
      "2808 non-null   int64\n",
      "dtypes: int64(1)\n",
      "memory usage: 43.9 KB\n"
     ]
    }
   ],
   "source": [
    "X_test[\"Reviews\"].info()"
   ]
  },
  {
   "cell_type": "markdown",
   "id": "0db1836e",
   "metadata": {},
   "source": [
    "## Size"
   ]
  },
  {
   "cell_type": "markdown",
   "id": "ae804a4a",
   "metadata": {},
   "source": [
    "Es un campo numerico pero el tipo es object. Recoge el tamaño de la app en kb y mb. Lo convertiré todo a MB y cambiare 'Varies with device' por el segundo valor más común (14M) cambio el tipo a float64."
   ]
  },
  {
   "cell_type": "code",
   "execution_count": 75,
   "id": "acf8414f",
   "metadata": {},
   "outputs": [
    {
     "data": {
      "text/plain": [
       "Varies with device    478\n",
       "25M                    50\n",
       "13M                    46\n",
       "11M                    46\n",
       "12M                    46\n",
       "                     ... \n",
       "209k                    1\n",
       "924k                    1\n",
       "121k                    1\n",
       "206k                    1\n",
       "516k                    1\n",
       "Name: Size, Length: 249, dtype: int64"
      ]
     },
     "execution_count": 75,
     "metadata": {},
     "output_type": "execute_result"
    }
   ],
   "source": [
    "X_test[\"Size\"].value_counts()"
   ]
  },
  {
   "cell_type": "code",
   "execution_count": 76,
   "id": "bd5ea51d",
   "metadata": {},
   "outputs": [],
   "source": [
    "X_test[\"Size\"] = X_test[\"Size\"].replace(['Varies with device'],['14000'])"
   ]
  },
  {
   "cell_type": "code",
   "execution_count": 77,
   "id": "277d4a03",
   "metadata": {},
   "outputs": [
    {
     "data": {
      "text/plain": [
       "14000    478\n",
       "25M       50\n",
       "13M       46\n",
       "11M       46\n",
       "12M       46\n",
       "        ... \n",
       "209k       1\n",
       "924k       1\n",
       "121k       1\n",
       "206k       1\n",
       "516k       1\n",
       "Name: Size, Length: 249, dtype: int64"
      ]
     },
     "execution_count": 77,
     "metadata": {},
     "output_type": "execute_result"
    }
   ],
   "source": [
    "X_test[\"Size\"].value_counts()"
   ]
  },
  {
   "cell_type": "code",
   "execution_count": 78,
   "id": "dc5693e2",
   "metadata": {},
   "outputs": [],
   "source": [
    "X_test[\"Size\"] = X_test[\"Size\"].apply(lambda x: float(x.replace('M','')) *1000 if 'M' in x else (float(x.replace('k','')) /1000 if 'k' in x else x))"
   ]
  },
  {
   "cell_type": "code",
   "execution_count": 79,
   "id": "559339f6",
   "metadata": {},
   "outputs": [],
   "source": [
    "X_test[\"Size\"]=X_test[\"Size\"].astype('float64')"
   ]
  },
  {
   "cell_type": "code",
   "execution_count": 80,
   "id": "233ad31c",
   "metadata": {},
   "outputs": [
    {
     "name": "stdout",
     "output_type": "stream",
     "text": [
      "<class 'pandas.core.series.Series'>\n",
      "Int64Index: 2808 entries, 5560 to 2736\n",
      "Series name: Size\n",
      "Non-Null Count  Dtype  \n",
      "--------------  -----  \n",
      "2808 non-null   float64\n",
      "dtypes: float64(1)\n",
      "memory usage: 43.9 KB\n"
     ]
    }
   ],
   "source": [
    "X_test[\"Size\"].info()"
   ]
  },
  {
   "cell_type": "code",
   "execution_count": 81,
   "id": "6e743bd4",
   "metadata": {},
   "outputs": [
    {
     "data": {
      "text/plain": [
       "14000.000    522\n",
       "25000.000     50\n",
       "13000.000     46\n",
       "12000.000     46\n",
       "11000.000     46\n",
       "            ... \n",
       "0.209          1\n",
       "0.924          1\n",
       "0.121          1\n",
       "0.206          1\n",
       "0.516          1\n",
       "Name: Size, Length: 247, dtype: int64"
      ]
     },
     "execution_count": 81,
     "metadata": {},
     "output_type": "execute_result"
    }
   ],
   "source": [
    "X_test[\"Size\"].value_counts()"
   ]
  },
  {
   "cell_type": "code",
   "execution_count": 82,
   "id": "93327a77",
   "metadata": {},
   "outputs": [
    {
     "name": "stdout",
     "output_type": "stream",
     "text": [
      "<class 'pandas.core.series.Series'>\n",
      "Int64Index: 2808 entries, 5560 to 2736\n",
      "Series name: Size\n",
      "Non-Null Count  Dtype  \n",
      "--------------  -----  \n",
      "2808 non-null   float64\n",
      "dtypes: float64(1)\n",
      "memory usage: 43.9 KB\n"
     ]
    }
   ],
   "source": [
    "X_test[\"Size\"].info()"
   ]
  },
  {
   "cell_type": "markdown",
   "id": "6ca02ccd",
   "metadata": {},
   "source": [
    "## Installs"
   ]
  },
  {
   "cell_type": "markdown",
   "id": "3cdf2450",
   "metadata": {},
   "source": [
    "Installs es un campo tipo Object que hay que limpiar eliminando '+' y ',' utilizadas como notacion de los miles para transformarlo en un campo tipo 'int64'"
   ]
  },
  {
   "cell_type": "code",
   "execution_count": 83,
   "id": "c142fb6e",
   "metadata": {},
   "outputs": [
    {
     "data": {
      "text/plain": [
       "1,000,000+        490\n",
       "10,000,000+       368\n",
       "100,000+          348\n",
       "10,000+           301\n",
       "5,000,000+        230\n",
       "1,000+            202\n",
       "500,000+          165\n",
       "5,000+            137\n",
       "50,000+           133\n",
       "100,000,000+      123\n",
       "100+               99\n",
       "50,000,000+        81\n",
       "500+               65\n",
       "500,000,000+       20\n",
       "10+                18\n",
       "1,000,000,000+     16\n",
       "50+                11\n",
       "5+                  1\n",
       "Name: Installs, dtype: int64"
      ]
     },
     "execution_count": 83,
     "metadata": {},
     "output_type": "execute_result"
    }
   ],
   "source": [
    "X_test.Installs.value_counts()"
   ]
  },
  {
   "cell_type": "code",
   "execution_count": 84,
   "id": "fb9868fb",
   "metadata": {},
   "outputs": [],
   "source": [
    "X_test[\"Installs\"] = X_test[\"Installs\"].str.split('+',expand=True)[0]"
   ]
  },
  {
   "cell_type": "code",
   "execution_count": 85,
   "id": "4c58d6f3",
   "metadata": {},
   "outputs": [],
   "source": [
    "X_test[\"Installs\"] = X_test[\"Installs\"].apply(lambda x: x.replace(',',''))"
   ]
  },
  {
   "cell_type": "code",
   "execution_count": 86,
   "id": "20a4a888",
   "metadata": {},
   "outputs": [],
   "source": [
    "X_test[\"Installs\"] = X_test[\"Installs\"].astype('int64')"
   ]
  },
  {
   "cell_type": "code",
   "execution_count": 87,
   "id": "9c289cc9",
   "metadata": {},
   "outputs": [
    {
     "name": "stdout",
     "output_type": "stream",
     "text": [
      "<class 'pandas.core.series.Series'>\n",
      "Int64Index: 2808 entries, 5560 to 2736\n",
      "Series name: Installs\n",
      "Non-Null Count  Dtype\n",
      "--------------  -----\n",
      "2808 non-null   int64\n",
      "dtypes: int64(1)\n",
      "memory usage: 43.9 KB\n"
     ]
    }
   ],
   "source": [
    "X_test.Installs.info()"
   ]
  },
  {
   "cell_type": "markdown",
   "id": "afe4d483",
   "metadata": {},
   "source": [
    "## Genres"
   ]
  },
  {
   "cell_type": "markdown",
   "id": "31bd7600",
   "metadata": {},
   "source": [
    "En algun caso hay dos generos. Divido usando el \";\" como separador, guardo \"Main_Genre\" para procesarlo despues con un onehot encoding y creo una categoria binaria si tiene o no genero secundario. Al acabar, elimino 'Genres'"
   ]
  },
  {
   "cell_type": "code",
   "execution_count": 88,
   "id": "b9fd67e5",
   "metadata": {
    "scrolled": true
   },
   "outputs": [
    {
     "data": {
      "text/plain": [
       "Action & Adventure    43\n",
       "Education             38\n",
       "Pretend Play          27\n",
       "Brain Games           18\n",
       "Creativity            12\n",
       "Music & Video         10\n",
       "Name: 1, dtype: int64"
      ]
     },
     "execution_count": 88,
     "metadata": {},
     "output_type": "execute_result"
    }
   ],
   "source": [
    "X_test[\"Genres\"].str.split(';',expand=True)[1].value_counts()"
   ]
  },
  {
   "cell_type": "code",
   "execution_count": 89,
   "id": "ffe43b7b",
   "metadata": {},
   "outputs": [],
   "source": [
    "X_test[\"Main_Genre\"] = X_test[\"Genres\"].str.split(';',expand=True)[0]"
   ]
  },
  {
   "cell_type": "code",
   "execution_count": 90,
   "id": "ef927bf2",
   "metadata": {},
   "outputs": [],
   "source": [
    "X_test[\"Secondary_Genre\"] = X_test[\"Genres\"].str.split(';',expand=True)[1]"
   ]
  },
  {
   "cell_type": "code",
   "execution_count": 91,
   "id": "013f2e62",
   "metadata": {},
   "outputs": [],
   "source": [
    "X_test[\"Secondary_Genre\"] = X_test[\"Secondary_Genre\"].replace(['Action & Adventure', 'Education', 'Pretend Play', 'Brain Games', 'Music & Video', 'Creativity'],['1', '1','1', '1', '1','1'])"
   ]
  },
  {
   "cell_type": "code",
   "execution_count": 92,
   "id": "fce99d9d",
   "metadata": {},
   "outputs": [],
   "source": [
    "X_test[\"Secondary_Genre\"] = X_test[\"Secondary_Genre\"].fillna('0').astype('int64')"
   ]
  },
  {
   "cell_type": "code",
   "execution_count": 93,
   "id": "565dcd77",
   "metadata": {},
   "outputs": [
    {
     "data": {
      "text/plain": [
       "0    2660\n",
       "1     148\n",
       "Name: Secondary_Genre, dtype: int64"
      ]
     },
     "execution_count": 93,
     "metadata": {},
     "output_type": "execute_result"
    }
   ],
   "source": [
    "X_test[\"Secondary_Genre\"].value_counts()"
   ]
  },
  {
   "cell_type": "code",
   "execution_count": 94,
   "id": "1af4f931",
   "metadata": {},
   "outputs": [
    {
     "name": "stdout",
     "output_type": "stream",
     "text": [
      "<class 'pandas.core.series.Series'>\n",
      "Int64Index: 2808 entries, 5560 to 2736\n",
      "Series name: Secondary_Genre\n",
      "Non-Null Count  Dtype\n",
      "--------------  -----\n",
      "2808 non-null   int64\n",
      "dtypes: int64(1)\n",
      "memory usage: 43.9 KB\n"
     ]
    }
   ],
   "source": [
    "X_test[\"Secondary_Genre\"].info()"
   ]
  },
  {
   "cell_type": "code",
   "execution_count": 95,
   "id": "1a70863d",
   "metadata": {},
   "outputs": [],
   "source": [
    "X_test.drop('Genres', axis=1, inplace=True)"
   ]
  },
  {
   "cell_type": "code",
   "execution_count": 96,
   "id": "34c4a45d",
   "metadata": {},
   "outputs": [
    {
     "data": {
      "text/html": [
       "<div>\n",
       "<style scoped>\n",
       "    .dataframe tbody tr th:only-of-type {\n",
       "        vertical-align: middle;\n",
       "    }\n",
       "\n",
       "    .dataframe tbody tr th {\n",
       "        vertical-align: top;\n",
       "    }\n",
       "\n",
       "    .dataframe thead th {\n",
       "        text-align: right;\n",
       "    }\n",
       "</style>\n",
       "<table border=\"1\" class=\"dataframe\">\n",
       "  <thead>\n",
       "    <tr style=\"text-align: right;\">\n",
       "      <th></th>\n",
       "      <th>Category</th>\n",
       "      <th>Reviews</th>\n",
       "      <th>Size</th>\n",
       "      <th>Installs</th>\n",
       "      <th>Type</th>\n",
       "      <th>Price</th>\n",
       "      <th>Content Rating</th>\n",
       "      <th>Last Updated</th>\n",
       "      <th>Current Ver</th>\n",
       "      <th>Android Ver</th>\n",
       "      <th>Main_Genre</th>\n",
       "      <th>Secondary_Genre</th>\n",
       "    </tr>\n",
       "  </thead>\n",
       "  <tbody>\n",
       "    <tr>\n",
       "      <th>5560</th>\n",
       "      <td>BUSINESS</td>\n",
       "      <td>25195</td>\n",
       "      <td>21000.0</td>\n",
       "      <td>1000000</td>\n",
       "      <td>Free</td>\n",
       "      <td>0</td>\n",
       "      <td>Everyone</td>\n",
       "      <td>February 26, 2018</td>\n",
       "      <td>v3.4.0-3</td>\n",
       "      <td>4.0.3 and up</td>\n",
       "      <td>Business</td>\n",
       "      <td>0</td>\n",
       "    </tr>\n",
       "    <tr>\n",
       "      <th>2895</th>\n",
       "      <td>PHOTOGRAPHY</td>\n",
       "      <td>351254</td>\n",
       "      <td>4000.0</td>\n",
       "      <td>10000000</td>\n",
       "      <td>Free</td>\n",
       "      <td>0</td>\n",
       "      <td>Everyone</td>\n",
       "      <td>June 29, 2018</td>\n",
       "      <td>4.6.0.0</td>\n",
       "      <td>4.2 and up</td>\n",
       "      <td>Photography</td>\n",
       "      <td>0</td>\n",
       "    </tr>\n",
       "    <tr>\n",
       "      <th>7836</th>\n",
       "      <td>GAME</td>\n",
       "      <td>112565</td>\n",
       "      <td>32000.0</td>\n",
       "      <td>1000000</td>\n",
       "      <td>Free</td>\n",
       "      <td>0</td>\n",
       "      <td>Teen</td>\n",
       "      <td>July 21, 2018</td>\n",
       "      <td>1.1.97</td>\n",
       "      <td>4.4 and up</td>\n",
       "      <td>Action</td>\n",
       "      <td>0</td>\n",
       "    </tr>\n",
       "    <tr>\n",
       "      <th>9116</th>\n",
       "      <td>HEALTH_AND_FITNESS</td>\n",
       "      <td>131</td>\n",
       "      <td>3400.0</td>\n",
       "      <td>5000</td>\n",
       "      <td>Free</td>\n",
       "      <td>0</td>\n",
       "      <td>Everyone</td>\n",
       "      <td>April 1, 2016</td>\n",
       "      <td>1.06</td>\n",
       "      <td>1.6 and up</td>\n",
       "      <td>Health &amp; Fitness</td>\n",
       "      <td>0</td>\n",
       "    </tr>\n",
       "    <tr>\n",
       "      <th>598</th>\n",
       "      <td>DATING</td>\n",
       "      <td>187</td>\n",
       "      <td>19000.0</td>\n",
       "      <td>10000</td>\n",
       "      <td>Free</td>\n",
       "      <td>0</td>\n",
       "      <td>Mature 17+</td>\n",
       "      <td>July 26, 2018</td>\n",
       "      <td>1.17</td>\n",
       "      <td>4.2 and up</td>\n",
       "      <td>Dating</td>\n",
       "      <td>0</td>\n",
       "    </tr>\n",
       "  </tbody>\n",
       "</table>\n",
       "</div>"
      ],
      "text/plain": [
       "                Category  Reviews     Size  Installs  Type Price  \\\n",
       "5560            BUSINESS    25195  21000.0   1000000  Free     0   \n",
       "2895         PHOTOGRAPHY   351254   4000.0  10000000  Free     0   \n",
       "7836                GAME   112565  32000.0   1000000  Free     0   \n",
       "9116  HEALTH_AND_FITNESS      131   3400.0      5000  Free     0   \n",
       "598               DATING      187  19000.0     10000  Free     0   \n",
       "\n",
       "     Content Rating       Last Updated Current Ver   Android Ver  \\\n",
       "5560       Everyone  February 26, 2018    v3.4.0-3  4.0.3 and up   \n",
       "2895       Everyone      June 29, 2018     4.6.0.0    4.2 and up   \n",
       "7836           Teen      July 21, 2018      1.1.97    4.4 and up   \n",
       "9116       Everyone      April 1, 2016        1.06    1.6 and up   \n",
       "598      Mature 17+      July 26, 2018        1.17    4.2 and up   \n",
       "\n",
       "            Main_Genre  Secondary_Genre  \n",
       "5560          Business                0  \n",
       "2895       Photography                0  \n",
       "7836            Action                0  \n",
       "9116  Health & Fitness                0  \n",
       "598             Dating                0  "
      ]
     },
     "execution_count": 96,
     "metadata": {},
     "output_type": "execute_result"
    }
   ],
   "source": [
    "X_test.head()"
   ]
  },
  {
   "cell_type": "markdown",
   "id": "74a11d9e",
   "metadata": {},
   "source": [
    "## Type"
   ]
  },
  {
   "cell_type": "markdown",
   "id": "d38c4f75",
   "metadata": {},
   "source": [
    "Categorica dificil de codificar. Como solo hay dos valores, el one hot enconding parace lo más adecuado."
   ]
  },
  {
   "cell_type": "markdown",
   "id": "d2b184f6",
   "metadata": {},
   "source": [
    "## Price"
   ]
  },
  {
   "cell_type": "markdown",
   "id": "23634b96",
   "metadata": {},
   "source": [
    "Es un campo numerico pero indica la divisa (Simbolo dolar) y el tipo es object. Elimino '$' y lo cambio a int64."
   ]
  },
  {
   "cell_type": "code",
   "execution_count": 97,
   "id": "0b7aeaac",
   "metadata": {},
   "outputs": [],
   "source": [
    "X_test[\"Price\"] = X_test[\"Price\"].apply(lambda x: x.replace('$',''))"
   ]
  },
  {
   "cell_type": "code",
   "execution_count": 98,
   "id": "b1e166c7",
   "metadata": {},
   "outputs": [],
   "source": [
    "X_test[\"Price\"] = X_test[\"Price\"].astype('float64')"
   ]
  },
  {
   "cell_type": "code",
   "execution_count": 99,
   "id": "f664c136",
   "metadata": {
    "scrolled": true
   },
   "outputs": [
    {
     "name": "stdout",
     "output_type": "stream",
     "text": [
      "<class 'pandas.core.series.Series'>\n",
      "Int64Index: 2808 entries, 5560 to 2736\n",
      "Series name: Price\n",
      "Non-Null Count  Dtype  \n",
      "--------------  -----  \n",
      "2808 non-null   float64\n",
      "dtypes: float64(1)\n",
      "memory usage: 43.9 KB\n"
     ]
    }
   ],
   "source": [
    "X_test[\"Price\"].info()"
   ]
  },
  {
   "cell_type": "markdown",
   "id": "ad73db06",
   "metadata": {},
   "source": [
    "## Content Rating"
   ]
  },
  {
   "cell_type": "markdown",
   "id": "dffd6b29",
   "metadata": {},
   "source": [
    "Categorica dificil de codificar. Como no son demasiados valores, el one hot enconding parace lo más adecuado."
   ]
  },
  {
   "cell_type": "markdown",
   "id": "e63e1e14",
   "metadata": {},
   "source": [
    "## Last Updated"
   ]
  },
  {
   "cell_type": "markdown",
   "id": "2ada9e21",
   "metadata": {},
   "source": [
    "Es una fecha pero no tiene formato (Object). Lo convierto a Date Time y le resto los dias desde la fecha actual para convertirlo en un campo numerico (dias desde la ultima actualizacion)."
   ]
  },
  {
   "cell_type": "code",
   "execution_count": 100,
   "id": "e53948e0",
   "metadata": {},
   "outputs": [],
   "source": [
    "X_test[\"Last Updated\"] = X_test[\"Last Updated\"].apply(lambda x: x.replace(' ','/').replace(',','').replace('January','1').replace('February','2').replace('March','3').replace('April','4').replace('May','5').replace('June','6').replace('July','7').replace('August','8').replace('September','9').replace('October','10').replace('November','11').replace('December','12'))"
   ]
  },
  {
   "cell_type": "code",
   "execution_count": 101,
   "id": "3e5f0a80",
   "metadata": {},
   "outputs": [],
   "source": [
    "X_test[\"Last Updated\"] = X_test[\"Last Updated\"].astype('datetime64')"
   ]
  },
  {
   "cell_type": "code",
   "execution_count": 102,
   "id": "d1944f73",
   "metadata": {},
   "outputs": [],
   "source": [
    "timestamp = pd.Timestamp(datetime.datetime(2021, 10, 10))"
   ]
  },
  {
   "cell_type": "code",
   "execution_count": 103,
   "id": "dbdf7a3b",
   "metadata": {},
   "outputs": [
    {
     "name": "stdout",
     "output_type": "stream",
     "text": [
      "Timestamp:  2021-10-10 00:00:00\n"
     ]
    }
   ],
   "source": [
    "print(\"Timestamp: \", timestamp)"
   ]
  },
  {
   "cell_type": "code",
   "execution_count": 104,
   "id": "2e74c215",
   "metadata": {},
   "outputs": [],
   "source": [
    "ahora = pd.Timestamp(timestamp.today().strftime('%d-%m-%Y'))"
   ]
  },
  {
   "cell_type": "code",
   "execution_count": 105,
   "id": "382cd2f4",
   "metadata": {},
   "outputs": [],
   "source": [
    "X_test['Today'] = ahora"
   ]
  },
  {
   "cell_type": "code",
   "execution_count": 106,
   "id": "87d0c51a",
   "metadata": {},
   "outputs": [
    {
     "name": "stderr",
     "output_type": "stream",
     "text": [
      "C:\\Users\\Victor\\AppData\\Local\\Temp\\ipykernel_8760\\165914949.py:1: FutureWarning: Passing unit-less datetime64 dtype to .astype is deprecated and will raise in a future version. Pass 'datetime64[ns]' instead\n",
      "  X_test['Today'] = X_test['Today'].astype('datetime64')\n"
     ]
    }
   ],
   "source": [
    "X_test['Today'] = X_test['Today'].astype('datetime64')"
   ]
  },
  {
   "cell_type": "code",
   "execution_count": 107,
   "id": "264feecf",
   "metadata": {},
   "outputs": [],
   "source": [
    "X_test['Days_Since_Last_Update'] = (X_test['Today'] - X_test[\"Last Updated\"]).dt.days"
   ]
  },
  {
   "cell_type": "code",
   "execution_count": 108,
   "id": "b963d317",
   "metadata": {},
   "outputs": [
    {
     "data": {
      "text/plain": [
       "5560    1953\n",
       "2895    1830\n",
       "7836    1808\n",
       "9116    2649\n",
       "598     1803\n",
       "        ... \n",
       "5518    1797\n",
       "2350    1803\n",
       "6321    2072\n",
       "5297    2240\n",
       "2736    1816\n",
       "Name: Days_Since_Last_Update, Length: 2808, dtype: int64"
      ]
     },
     "execution_count": 108,
     "metadata": {},
     "output_type": "execute_result"
    }
   ],
   "source": [
    "X_test['Days_Since_Last_Update']"
   ]
  },
  {
   "cell_type": "code",
   "execution_count": 109,
   "id": "ceb10224",
   "metadata": {},
   "outputs": [],
   "source": [
    "X_test.drop(['Today','Last Updated'], axis=1, inplace=True)"
   ]
  },
  {
   "cell_type": "markdown",
   "id": "d6fb17d5",
   "metadata": {},
   "source": [
    "## Current Ver"
   ]
  },
  {
   "cell_type": "markdown",
   "id": "efe79386",
   "metadata": {},
   "source": [
    "Categorica dificil de codificar. El ordinal encoding parece lo más indicado para que el modelo recoja la información (menos frecuencia, versión mas desarrollada)"
   ]
  },
  {
   "cell_type": "code",
   "execution_count": 110,
   "id": "1ba3c33d",
   "metadata": {},
   "outputs": [
    {
     "data": {
      "text/plain": [
       "Varies with device    433\n",
       "1.0                   140\n",
       "1.1                    51\n",
       "1.2                    43\n",
       "1.3                    32\n",
       "                     ... \n",
       "1.0.10.5                1\n",
       "4.16.0                  1\n",
       "1.0060.b0060            1\n",
       "3.1.6z                  1\n",
       "1.29                    1\n",
       "Name: Current Ver, Length: 1174, dtype: int64"
      ]
     },
     "execution_count": 110,
     "metadata": {},
     "output_type": "execute_result"
    }
   ],
   "source": [
    "X_test['Current Ver'].value_counts()"
   ]
  },
  {
   "cell_type": "markdown",
   "id": "7916543d",
   "metadata": {},
   "source": [
    "## Android Ver"
   ]
  },
  {
   "cell_type": "markdown",
   "id": "c20e4347",
   "metadata": {},
   "source": [
    "Categorica dificil de codificar. El ordinal encoding parece lo más indicado para que el modelo recoja la información (menos frecuencia, versión mas desarrollada)"
   ]
  },
  {
   "cell_type": "code",
   "execution_count": 115,
   "id": "35c5563c-b9c8-4ee2-84d8-734f3cf794b6",
   "metadata": {},
   "outputs": [],
   "source": [
    "X_test_clean = X_test.copy()"
   ]
  },
  {
   "cell_type": "markdown",
   "id": "a027ff98",
   "metadata": {},
   "source": [
    "## Pruebo un CatBoost Regressor con el conjunto de Test:"
   ]
  },
  {
   "cell_type": "code",
   "execution_count": 111,
   "id": "5382b235",
   "metadata": {},
   "outputs": [
    {
     "name": "stdout",
     "output_type": "stream",
     "text": [
      "0:\tlearn: 0.4939667\ttotal: 24.2ms\tremaining: 4.83s\n",
      "1:\tlearn: 0.4846450\ttotal: 56.1ms\tremaining: 5.56s\n",
      "2:\tlearn: 0.4778948\ttotal: 86.1ms\tremaining: 5.65s\n",
      "3:\tlearn: 0.4737920\ttotal: 123ms\tremaining: 6.01s\n",
      "4:\tlearn: 0.4708193\ttotal: 159ms\tremaining: 6.19s\n",
      "5:\tlearn: 0.4673239\ttotal: 189ms\tremaining: 6.11s\n",
      "6:\tlearn: 0.4640658\ttotal: 223ms\tremaining: 6.15s\n",
      "7:\tlearn: 0.4595185\ttotal: 255ms\tremaining: 6.11s\n",
      "8:\tlearn: 0.4567595\ttotal: 284ms\tremaining: 6.03s\n",
      "9:\tlearn: 0.4538704\ttotal: 310ms\tremaining: 5.9s\n",
      "10:\tlearn: 0.4516644\ttotal: 337ms\tremaining: 5.78s\n",
      "11:\tlearn: 0.4489504\ttotal: 362ms\tremaining: 5.67s\n",
      "12:\tlearn: 0.4477266\ttotal: 386ms\tremaining: 5.55s\n",
      "13:\tlearn: 0.4425433\ttotal: 409ms\tremaining: 5.44s\n",
      "14:\tlearn: 0.4404348\ttotal: 435ms\tremaining: 5.36s\n",
      "15:\tlearn: 0.4379677\ttotal: 460ms\tremaining: 5.29s\n",
      "16:\tlearn: 0.4348757\ttotal: 486ms\tremaining: 5.23s\n",
      "17:\tlearn: 0.4341849\ttotal: 512ms\tremaining: 5.18s\n",
      "18:\tlearn: 0.4294066\ttotal: 539ms\tremaining: 5.13s\n",
      "19:\tlearn: 0.4266641\ttotal: 564ms\tremaining: 5.08s\n",
      "20:\tlearn: 0.4253027\ttotal: 589ms\tremaining: 5.02s\n",
      "21:\tlearn: 0.4243330\ttotal: 616ms\tremaining: 4.98s\n",
      "22:\tlearn: 0.4229380\ttotal: 641ms\tremaining: 4.93s\n",
      "23:\tlearn: 0.4220507\ttotal: 669ms\tremaining: 4.91s\n",
      "24:\tlearn: 0.4182788\ttotal: 697ms\tremaining: 4.88s\n",
      "25:\tlearn: 0.4166573\ttotal: 725ms\tremaining: 4.85s\n",
      "26:\tlearn: 0.4150398\ttotal: 751ms\tremaining: 4.81s\n",
      "27:\tlearn: 0.4136473\ttotal: 777ms\tremaining: 4.77s\n",
      "28:\tlearn: 0.4123229\ttotal: 803ms\tremaining: 4.74s\n",
      "29:\tlearn: 0.4109018\ttotal: 830ms\tremaining: 4.7s\n",
      "30:\tlearn: 0.4107510\ttotal: 853ms\tremaining: 4.65s\n",
      "31:\tlearn: 0.4090431\ttotal: 878ms\tremaining: 4.61s\n",
      "32:\tlearn: 0.4078964\ttotal: 904ms\tremaining: 4.58s\n",
      "33:\tlearn: 0.4046709\ttotal: 933ms\tremaining: 4.55s\n",
      "34:\tlearn: 0.4034091\ttotal: 960ms\tremaining: 4.52s\n",
      "35:\tlearn: 0.4019917\ttotal: 988ms\tremaining: 4.5s\n",
      "36:\tlearn: 0.4015940\ttotal: 1.02s\tremaining: 4.48s\n",
      "37:\tlearn: 0.4011559\ttotal: 1.04s\tremaining: 4.45s\n",
      "38:\tlearn: 0.3993956\ttotal: 1.08s\tremaining: 4.45s\n",
      "39:\tlearn: 0.3972888\ttotal: 1.1s\tremaining: 4.42s\n",
      "40:\tlearn: 0.3970075\ttotal: 1.13s\tremaining: 4.39s\n",
      "41:\tlearn: 0.3960459\ttotal: 1.16s\tremaining: 4.37s\n",
      "42:\tlearn: 0.3942009\ttotal: 1.19s\tremaining: 4.34s\n",
      "43:\tlearn: 0.3937846\ttotal: 1.22s\tremaining: 4.31s\n",
      "44:\tlearn: 0.3922108\ttotal: 1.25s\tremaining: 4.29s\n",
      "45:\tlearn: 0.3891912\ttotal: 1.27s\tremaining: 4.26s\n",
      "46:\tlearn: 0.3874217\ttotal: 1.3s\tremaining: 4.24s\n",
      "47:\tlearn: 0.3859461\ttotal: 1.33s\tremaining: 4.21s\n",
      "48:\tlearn: 0.3840238\ttotal: 1.36s\tremaining: 4.19s\n",
      "49:\tlearn: 0.3808480\ttotal: 1.39s\tremaining: 4.16s\n",
      "50:\tlearn: 0.3802197\ttotal: 1.41s\tremaining: 4.13s\n",
      "51:\tlearn: 0.3787496\ttotal: 1.44s\tremaining: 4.1s\n",
      "52:\tlearn: 0.3783716\ttotal: 1.47s\tremaining: 4.08s\n",
      "53:\tlearn: 0.3780583\ttotal: 1.5s\tremaining: 4.05s\n",
      "54:\tlearn: 0.3760413\ttotal: 1.53s\tremaining: 4.02s\n",
      "55:\tlearn: 0.3751612\ttotal: 1.55s\tremaining: 4s\n",
      "56:\tlearn: 0.3732437\ttotal: 1.58s\tremaining: 3.97s\n",
      "57:\tlearn: 0.3721768\ttotal: 1.61s\tremaining: 3.95s\n",
      "58:\tlearn: 0.3718205\ttotal: 1.64s\tremaining: 3.91s\n",
      "59:\tlearn: 0.3710976\ttotal: 1.66s\tremaining: 3.88s\n",
      "60:\tlearn: 0.3705928\ttotal: 1.69s\tremaining: 3.85s\n",
      "61:\tlearn: 0.3679130\ttotal: 1.72s\tremaining: 3.83s\n",
      "62:\tlearn: 0.3678453\ttotal: 1.75s\tremaining: 3.79s\n",
      "63:\tlearn: 0.3665036\ttotal: 1.77s\tremaining: 3.77s\n",
      "64:\tlearn: 0.3655108\ttotal: 1.8s\tremaining: 3.75s\n",
      "65:\tlearn: 0.3652824\ttotal: 1.83s\tremaining: 3.72s\n",
      "66:\tlearn: 0.3651710\ttotal: 1.86s\tremaining: 3.69s\n",
      "67:\tlearn: 0.3641775\ttotal: 1.89s\tremaining: 3.66s\n",
      "68:\tlearn: 0.3637853\ttotal: 1.91s\tremaining: 3.63s\n",
      "69:\tlearn: 0.3626953\ttotal: 1.94s\tremaining: 3.6s\n",
      "70:\tlearn: 0.3617331\ttotal: 1.97s\tremaining: 3.57s\n",
      "71:\tlearn: 0.3603347\ttotal: 2s\tremaining: 3.55s\n",
      "72:\tlearn: 0.3598212\ttotal: 2.02s\tremaining: 3.52s\n",
      "73:\tlearn: 0.3577106\ttotal: 2.05s\tremaining: 3.5s\n",
      "74:\tlearn: 0.3560588\ttotal: 2.08s\tremaining: 3.46s\n",
      "75:\tlearn: 0.3539975\ttotal: 2.1s\tremaining: 3.44s\n",
      "76:\tlearn: 0.3529696\ttotal: 2.13s\tremaining: 3.41s\n",
      "77:\tlearn: 0.3526002\ttotal: 2.16s\tremaining: 3.38s\n",
      "78:\tlearn: 0.3524865\ttotal: 2.19s\tremaining: 3.35s\n",
      "79:\tlearn: 0.3506825\ttotal: 2.21s\tremaining: 3.32s\n",
      "80:\tlearn: 0.3496897\ttotal: 2.23s\tremaining: 3.28s\n",
      "81:\tlearn: 0.3493098\ttotal: 2.26s\tremaining: 3.25s\n",
      "82:\tlearn: 0.3487469\ttotal: 2.29s\tremaining: 3.22s\n",
      "83:\tlearn: 0.3478924\ttotal: 2.31s\tremaining: 3.19s\n",
      "84:\tlearn: 0.3465634\ttotal: 2.34s\tremaining: 3.16s\n",
      "85:\tlearn: 0.3457332\ttotal: 2.36s\tremaining: 3.13s\n",
      "86:\tlearn: 0.3442867\ttotal: 2.39s\tremaining: 3.1s\n",
      "87:\tlearn: 0.3436920\ttotal: 2.44s\tremaining: 3.11s\n",
      "88:\tlearn: 0.3432310\ttotal: 2.48s\tremaining: 3.1s\n",
      "89:\tlearn: 0.3427500\ttotal: 2.51s\tremaining: 3.07s\n",
      "90:\tlearn: 0.3418666\ttotal: 2.54s\tremaining: 3.04s\n",
      "91:\tlearn: 0.3407248\ttotal: 2.57s\tremaining: 3.01s\n",
      "92:\tlearn: 0.3389294\ttotal: 2.59s\tremaining: 2.98s\n",
      "93:\tlearn: 0.3379512\ttotal: 2.62s\tremaining: 2.96s\n",
      "94:\tlearn: 0.3369802\ttotal: 2.65s\tremaining: 2.93s\n",
      "95:\tlearn: 0.3354351\ttotal: 2.68s\tremaining: 2.9s\n",
      "96:\tlearn: 0.3344844\ttotal: 2.71s\tremaining: 2.87s\n",
      "97:\tlearn: 0.3314091\ttotal: 2.73s\tremaining: 2.85s\n",
      "98:\tlearn: 0.3297071\ttotal: 2.76s\tremaining: 2.82s\n",
      "99:\tlearn: 0.3293521\ttotal: 2.79s\tremaining: 2.79s\n",
      "100:\tlearn: 0.3287897\ttotal: 2.82s\tremaining: 2.76s\n",
      "101:\tlearn: 0.3273633\ttotal: 2.85s\tremaining: 2.73s\n",
      "102:\tlearn: 0.3271794\ttotal: 2.87s\tremaining: 2.71s\n",
      "103:\tlearn: 0.3264867\ttotal: 2.9s\tremaining: 2.68s\n",
      "104:\tlearn: 0.3258600\ttotal: 2.93s\tremaining: 2.65s\n",
      "105:\tlearn: 0.3246527\ttotal: 2.96s\tremaining: 2.62s\n",
      "106:\tlearn: 0.3240271\ttotal: 2.98s\tremaining: 2.59s\n",
      "107:\tlearn: 0.3226225\ttotal: 3.01s\tremaining: 2.57s\n",
      "108:\tlearn: 0.3207620\ttotal: 3.04s\tremaining: 2.54s\n",
      "109:\tlearn: 0.3200649\ttotal: 3.06s\tremaining: 2.51s\n",
      "110:\tlearn: 0.3196776\ttotal: 3.09s\tremaining: 2.48s\n",
      "111:\tlearn: 0.3196097\ttotal: 3.12s\tremaining: 2.45s\n",
      "112:\tlearn: 0.3194764\ttotal: 3.15s\tremaining: 2.42s\n",
      "113:\tlearn: 0.3187679\ttotal: 3.18s\tremaining: 2.4s\n",
      "114:\tlearn: 0.3175538\ttotal: 3.2s\tremaining: 2.37s\n",
      "115:\tlearn: 0.3168367\ttotal: 3.23s\tremaining: 2.34s\n",
      "116:\tlearn: 0.3160237\ttotal: 3.26s\tremaining: 2.31s\n",
      "117:\tlearn: 0.3139979\ttotal: 3.29s\tremaining: 2.28s\n",
      "118:\tlearn: 0.3124726\ttotal: 3.31s\tremaining: 2.26s\n",
      "119:\tlearn: 0.3118915\ttotal: 3.34s\tremaining: 2.23s\n",
      "120:\tlearn: 0.3110018\ttotal: 3.37s\tremaining: 2.2s\n",
      "121:\tlearn: 0.3099740\ttotal: 3.4s\tremaining: 2.17s\n",
      "122:\tlearn: 0.3089217\ttotal: 3.43s\tremaining: 2.14s\n",
      "123:\tlearn: 0.3078466\ttotal: 3.45s\tremaining: 2.12s\n",
      "124:\tlearn: 0.3070219\ttotal: 3.48s\tremaining: 2.09s\n",
      "125:\tlearn: 0.3066494\ttotal: 3.51s\tremaining: 2.06s\n",
      "126:\tlearn: 0.3051224\ttotal: 3.53s\tremaining: 2.03s\n",
      "127:\tlearn: 0.3045927\ttotal: 3.56s\tremaining: 2s\n",
      "128:\tlearn: 0.3040829\ttotal: 3.59s\tremaining: 1.97s\n",
      "129:\tlearn: 0.3035321\ttotal: 3.62s\tremaining: 1.95s\n",
      "130:\tlearn: 0.3030756\ttotal: 3.66s\tremaining: 1.93s\n",
      "131:\tlearn: 0.3029241\ttotal: 3.67s\tremaining: 1.89s\n",
      "132:\tlearn: 0.3016056\ttotal: 3.7s\tremaining: 1.86s\n",
      "133:\tlearn: 0.3013869\ttotal: 3.73s\tremaining: 1.83s\n",
      "134:\tlearn: 0.3011416\ttotal: 3.75s\tremaining: 1.81s\n",
      "135:\tlearn: 0.3009245\ttotal: 3.78s\tremaining: 1.78s\n",
      "136:\tlearn: 0.2993621\ttotal: 3.81s\tremaining: 1.75s\n",
      "137:\tlearn: 0.2989616\ttotal: 3.84s\tremaining: 1.72s\n",
      "138:\tlearn: 0.2980779\ttotal: 3.87s\tremaining: 1.7s\n",
      "139:\tlearn: 0.2977635\ttotal: 3.9s\tremaining: 1.67s\n",
      "140:\tlearn: 0.2960837\ttotal: 3.92s\tremaining: 1.64s\n",
      "141:\tlearn: 0.2956292\ttotal: 3.96s\tremaining: 1.62s\n",
      "142:\tlearn: 0.2943139\ttotal: 3.98s\tremaining: 1.59s\n",
      "143:\tlearn: 0.2928801\ttotal: 4.01s\tremaining: 1.56s\n",
      "144:\tlearn: 0.2922246\ttotal: 4.04s\tremaining: 1.53s\n",
      "145:\tlearn: 0.2916199\ttotal: 4.07s\tremaining: 1.51s\n",
      "146:\tlearn: 0.2906477\ttotal: 4.1s\tremaining: 1.48s\n",
      "147:\tlearn: 0.2901651\ttotal: 4.13s\tremaining: 1.45s\n",
      "148:\tlearn: 0.2891593\ttotal: 4.16s\tremaining: 1.42s\n",
      "149:\tlearn: 0.2888378\ttotal: 4.19s\tremaining: 1.4s\n",
      "150:\tlearn: 0.2884915\ttotal: 4.21s\tremaining: 1.37s\n",
      "151:\tlearn: 0.2877717\ttotal: 4.24s\tremaining: 1.34s\n",
      "152:\tlearn: 0.2876927\ttotal: 4.27s\tremaining: 1.31s\n",
      "153:\tlearn: 0.2871166\ttotal: 4.29s\tremaining: 1.28s\n",
      "154:\tlearn: 0.2867556\ttotal: 4.32s\tremaining: 1.25s\n",
      "155:\tlearn: 0.2860005\ttotal: 4.35s\tremaining: 1.23s\n",
      "156:\tlearn: 0.2858498\ttotal: 4.38s\tremaining: 1.2s\n",
      "157:\tlearn: 0.2849392\ttotal: 4.41s\tremaining: 1.17s\n",
      "158:\tlearn: 0.2836544\ttotal: 4.43s\tremaining: 1.14s\n",
      "159:\tlearn: 0.2832889\ttotal: 4.46s\tremaining: 1.11s\n",
      "160:\tlearn: 0.2829403\ttotal: 4.49s\tremaining: 1.09s\n",
      "161:\tlearn: 0.2809470\ttotal: 4.51s\tremaining: 1.06s\n",
      "162:\tlearn: 0.2800284\ttotal: 4.54s\tremaining: 1.03s\n",
      "163:\tlearn: 0.2790807\ttotal: 4.57s\tremaining: 1s\n",
      "164:\tlearn: 0.2785025\ttotal: 4.6s\tremaining: 975ms\n",
      "165:\tlearn: 0.2779001\ttotal: 4.62s\tremaining: 947ms\n",
      "166:\tlearn: 0.2777738\ttotal: 4.65s\tremaining: 919ms\n",
      "167:\tlearn: 0.2771138\ttotal: 4.68s\tremaining: 891ms\n",
      "168:\tlearn: 0.2762233\ttotal: 4.71s\tremaining: 863ms\n",
      "169:\tlearn: 0.2751532\ttotal: 4.73s\tremaining: 835ms\n",
      "170:\tlearn: 0.2749780\ttotal: 4.76s\tremaining: 807ms\n",
      "171:\tlearn: 0.2743827\ttotal: 4.79s\tremaining: 779ms\n",
      "172:\tlearn: 0.2737011\ttotal: 4.82s\tremaining: 752ms\n",
      "173:\tlearn: 0.2734703\ttotal: 4.84s\tremaining: 724ms\n",
      "174:\tlearn: 0.2729802\ttotal: 4.87s\tremaining: 696ms\n",
      "175:\tlearn: 0.2727758\ttotal: 4.9s\tremaining: 668ms\n",
      "176:\tlearn: 0.2710987\ttotal: 4.93s\tremaining: 640ms\n",
      "177:\tlearn: 0.2697537\ttotal: 4.95s\tremaining: 612ms\n",
      "178:\tlearn: 0.2692806\ttotal: 4.98s\tremaining: 584ms\n",
      "179:\tlearn: 0.2684308\ttotal: 5.01s\tremaining: 556ms\n",
      "180:\tlearn: 0.2681496\ttotal: 5.04s\tremaining: 529ms\n",
      "181:\tlearn: 0.2673796\ttotal: 5.06s\tremaining: 500ms\n",
      "182:\tlearn: 0.2670414\ttotal: 5.09s\tremaining: 473ms\n",
      "183:\tlearn: 0.2661660\ttotal: 5.11s\tremaining: 445ms\n",
      "184:\tlearn: 0.2661531\ttotal: 5.14s\tremaining: 417ms\n",
      "185:\tlearn: 0.2648939\ttotal: 5.17s\tremaining: 389ms\n",
      "186:\tlearn: 0.2646519\ttotal: 5.2s\tremaining: 361ms\n",
      "187:\tlearn: 0.2644160\ttotal: 5.22s\tremaining: 333ms\n",
      "188:\tlearn: 0.2638925\ttotal: 5.25s\tremaining: 306ms\n",
      "189:\tlearn: 0.2633061\ttotal: 5.28s\tremaining: 278ms\n",
      "190:\tlearn: 0.2621804\ttotal: 5.3s\tremaining: 250ms\n",
      "191:\tlearn: 0.2613542\ttotal: 5.33s\tremaining: 222ms\n",
      "192:\tlearn: 0.2611704\ttotal: 5.36s\tremaining: 194ms\n",
      "193:\tlearn: 0.2608763\ttotal: 5.39s\tremaining: 167ms\n",
      "194:\tlearn: 0.2606217\ttotal: 5.42s\tremaining: 139ms\n",
      "195:\tlearn: 0.2599776\ttotal: 5.44s\tremaining: 111ms\n",
      "196:\tlearn: 0.2589860\ttotal: 5.47s\tremaining: 83.3ms\n",
      "197:\tlearn: 0.2585262\ttotal: 5.5s\tremaining: 55.5ms\n",
      "198:\tlearn: 0.2584554\ttotal: 5.52s\tremaining: 27.8ms\n",
      "199:\tlearn: 0.2578693\ttotal: 5.55s\tremaining: 0us\n"
     ]
    }
   ],
   "source": [
    "pool_test = Pool(X_test, y_test,\n",
    "                 cat_features=['Category','Type','Content Rating','Current Ver','Android Ver','Main_Genre'])\n",
    "\n",
    "cb.fit(pool_test)\n",
    "\n",
    "y_pred_test = cb.predict(pool_test)"
   ]
  },
  {
   "cell_type": "code",
   "execution_count": 112,
   "id": "81bdb69d",
   "metadata": {},
   "outputs": [
    {
     "data": {
      "text/plain": [
       "0.23604130646201996"
      ]
     },
     "execution_count": 112,
     "metadata": {},
     "output_type": "execute_result"
    }
   ],
   "source": [
    "mean_absolute_error(y_test, y_pred)"
   ]
  },
  {
   "cell_type": "markdown",
   "id": "cd620a6d-a971-4ba9-9a6d-167b8e89e00c",
   "metadata": {},
   "source": [
    "# Pruebo CatBoost con conjunto de test preprocesado con Pipeline"
   ]
  },
  {
   "cell_type": "code",
   "execution_count": 116,
   "id": "acaa995e-9cf0-4134-9dda-da5999ed337f",
   "metadata": {},
   "outputs": [],
   "source": [
    "pipe_preprocessed_test = preprocessing.fit_transform(X_test_clean)"
   ]
  },
  {
   "cell_type": "code",
   "execution_count": 117,
   "id": "6c9a977b-70e1-493e-8a54-b78e24fa5684",
   "metadata": {},
   "outputs": [
    {
     "data": {
      "text/plain": [
       "<2808x96 sparse matrix of type '<class 'numpy.float64'>'\n",
       "\twith 31034 stored elements in Compressed Sparse Row format>"
      ]
     },
     "execution_count": 117,
     "metadata": {},
     "output_type": "execute_result"
    }
   ],
   "source": [
    "pipe_preprocessed_test"
   ]
  },
  {
   "cell_type": "code",
   "execution_count": 118,
   "id": "7ffb5d5e-627e-4cbe-82df-9725cf08d916",
   "metadata": {},
   "outputs": [],
   "source": [
    "df_pipe_test = pd.DataFrame(pipe_preprocessed_test.toarray(), columns= preprocessing.get_feature_names_out())"
   ]
  },
  {
   "cell_type": "code",
   "execution_count": 119,
   "id": "86ea9bc1-95b7-4584-81c7-2b2f14a8702c",
   "metadata": {},
   "outputs": [
    {
     "name": "stdout",
     "output_type": "stream",
     "text": [
      "0:\tlearn: 0.4937932\ttotal: 2.23ms\tremaining: 444ms\n",
      "1:\tlearn: 0.4880479\ttotal: 4.85ms\tremaining: 480ms\n",
      "2:\tlearn: 0.4805466\ttotal: 7.39ms\tremaining: 486ms\n",
      "3:\tlearn: 0.4733259\ttotal: 9.25ms\tremaining: 453ms\n",
      "4:\tlearn: 0.4702068\ttotal: 11ms\tremaining: 430ms\n",
      "5:\tlearn: 0.4628942\ttotal: 14.4ms\tremaining: 466ms\n",
      "6:\tlearn: 0.4591513\ttotal: 16.5ms\tremaining: 454ms\n",
      "7:\tlearn: 0.4556806\ttotal: 18.2ms\tremaining: 437ms\n",
      "8:\tlearn: 0.4529224\ttotal: 20.2ms\tremaining: 428ms\n",
      "9:\tlearn: 0.4491969\ttotal: 22ms\tremaining: 419ms\n",
      "10:\tlearn: 0.4466132\ttotal: 24ms\tremaining: 413ms\n",
      "11:\tlearn: 0.4445620\ttotal: 26.1ms\tremaining: 408ms\n",
      "12:\tlearn: 0.4396912\ttotal: 28.6ms\tremaining: 411ms\n",
      "13:\tlearn: 0.4376519\ttotal: 30.7ms\tremaining: 407ms\n",
      "14:\tlearn: 0.4342555\ttotal: 32.4ms\tremaining: 400ms\n",
      "15:\tlearn: 0.4321727\ttotal: 34.3ms\tremaining: 394ms\n",
      "16:\tlearn: 0.4285407\ttotal: 36.4ms\tremaining: 391ms\n",
      "17:\tlearn: 0.4255198\ttotal: 38.3ms\tremaining: 388ms\n",
      "18:\tlearn: 0.4226693\ttotal: 40.3ms\tremaining: 384ms\n",
      "19:\tlearn: 0.4204530\ttotal: 42.2ms\tremaining: 380ms\n",
      "20:\tlearn: 0.4187002\ttotal: 44.2ms\tremaining: 377ms\n",
      "21:\tlearn: 0.4153636\ttotal: 46ms\tremaining: 372ms\n",
      "22:\tlearn: 0.4115185\ttotal: 47.8ms\tremaining: 368ms\n",
      "23:\tlearn: 0.4088540\ttotal: 49.7ms\tremaining: 364ms\n",
      "24:\tlearn: 0.4058394\ttotal: 51.5ms\tremaining: 360ms\n",
      "25:\tlearn: 0.4045268\ttotal: 53.2ms\tremaining: 356ms\n",
      "26:\tlearn: 0.3999838\ttotal: 55ms\tremaining: 353ms\n",
      "27:\tlearn: 0.3978815\ttotal: 56.8ms\tremaining: 349ms\n",
      "28:\tlearn: 0.3946176\ttotal: 58.4ms\tremaining: 344ms\n",
      "29:\tlearn: 0.3917331\ttotal: 60.5ms\tremaining: 343ms\n",
      "30:\tlearn: 0.3889289\ttotal: 62.2ms\tremaining: 339ms\n",
      "31:\tlearn: 0.3878401\ttotal: 63.9ms\tremaining: 335ms\n",
      "32:\tlearn: 0.3845669\ttotal: 65.5ms\tremaining: 332ms\n",
      "33:\tlearn: 0.3831731\ttotal: 67.2ms\tremaining: 328ms\n",
      "34:\tlearn: 0.3805128\ttotal: 68.8ms\tremaining: 325ms\n",
      "35:\tlearn: 0.3778216\ttotal: 70.6ms\tremaining: 321ms\n",
      "36:\tlearn: 0.3768756\ttotal: 72.2ms\tremaining: 318ms\n",
      "37:\tlearn: 0.3753111\ttotal: 73.9ms\tremaining: 315ms\n",
      "38:\tlearn: 0.3729391\ttotal: 75.6ms\tremaining: 312ms\n",
      "39:\tlearn: 0.3719892\ttotal: 77.2ms\tremaining: 309ms\n",
      "40:\tlearn: 0.3684962\ttotal: 78.8ms\tremaining: 306ms\n",
      "41:\tlearn: 0.3677813\ttotal: 80.4ms\tremaining: 302ms\n",
      "42:\tlearn: 0.3643378\ttotal: 82.1ms\tremaining: 300ms\n",
      "43:\tlearn: 0.3633624\ttotal: 83.7ms\tremaining: 297ms\n",
      "44:\tlearn: 0.3613738\ttotal: 85.3ms\tremaining: 294ms\n",
      "45:\tlearn: 0.3597481\ttotal: 87ms\tremaining: 291ms\n",
      "46:\tlearn: 0.3581107\ttotal: 88.6ms\tremaining: 288ms\n",
      "47:\tlearn: 0.3555629\ttotal: 90.3ms\tremaining: 286ms\n",
      "48:\tlearn: 0.3543795\ttotal: 91.9ms\tremaining: 283ms\n",
      "49:\tlearn: 0.3524381\ttotal: 93.6ms\tremaining: 281ms\n",
      "50:\tlearn: 0.3503582\ttotal: 95.2ms\tremaining: 278ms\n",
      "51:\tlearn: 0.3499784\ttotal: 96.8ms\tremaining: 276ms\n",
      "52:\tlearn: 0.3475650\ttotal: 98.5ms\tremaining: 273ms\n",
      "53:\tlearn: 0.3459035\ttotal: 100ms\tremaining: 271ms\n",
      "54:\tlearn: 0.3442316\ttotal: 102ms\tremaining: 269ms\n",
      "55:\tlearn: 0.3423150\ttotal: 104ms\tremaining: 266ms\n",
      "56:\tlearn: 0.3410995\ttotal: 105ms\tremaining: 264ms\n",
      "57:\tlearn: 0.3401575\ttotal: 107ms\tremaining: 262ms\n",
      "58:\tlearn: 0.3366462\ttotal: 109ms\tremaining: 259ms\n",
      "59:\tlearn: 0.3353640\ttotal: 110ms\tremaining: 257ms\n",
      "60:\tlearn: 0.3332250\ttotal: 112ms\tremaining: 255ms\n",
      "61:\tlearn: 0.3320273\ttotal: 114ms\tremaining: 253ms\n",
      "62:\tlearn: 0.3302621\ttotal: 115ms\tremaining: 251ms\n",
      "63:\tlearn: 0.3276726\ttotal: 117ms\tremaining: 248ms\n",
      "64:\tlearn: 0.3261831\ttotal: 119ms\tremaining: 246ms\n",
      "65:\tlearn: 0.3255238\ttotal: 120ms\tremaining: 244ms\n",
      "66:\tlearn: 0.3246839\ttotal: 122ms\tremaining: 242ms\n",
      "67:\tlearn: 0.3229094\ttotal: 123ms\tremaining: 240ms\n",
      "68:\tlearn: 0.3208453\ttotal: 125ms\tremaining: 237ms\n",
      "69:\tlearn: 0.3198379\ttotal: 127ms\tremaining: 235ms\n",
      "70:\tlearn: 0.3189909\ttotal: 128ms\tremaining: 233ms\n",
      "71:\tlearn: 0.3179583\ttotal: 130ms\tremaining: 231ms\n",
      "72:\tlearn: 0.3166810\ttotal: 132ms\tremaining: 229ms\n",
      "73:\tlearn: 0.3150424\ttotal: 133ms\tremaining: 227ms\n",
      "74:\tlearn: 0.3135387\ttotal: 135ms\tremaining: 225ms\n",
      "75:\tlearn: 0.3123591\ttotal: 136ms\tremaining: 223ms\n",
      "76:\tlearn: 0.3112932\ttotal: 138ms\tremaining: 221ms\n",
      "77:\tlearn: 0.3108496\ttotal: 140ms\tremaining: 219ms\n",
      "78:\tlearn: 0.3100020\ttotal: 141ms\tremaining: 217ms\n",
      "79:\tlearn: 0.3091167\ttotal: 143ms\tremaining: 214ms\n",
      "80:\tlearn: 0.3084674\ttotal: 145ms\tremaining: 212ms\n",
      "81:\tlearn: 0.3062839\ttotal: 146ms\tremaining: 211ms\n",
      "82:\tlearn: 0.3053944\ttotal: 148ms\tremaining: 209ms\n",
      "83:\tlearn: 0.3046303\ttotal: 150ms\tremaining: 207ms\n",
      "84:\tlearn: 0.3038142\ttotal: 151ms\tremaining: 205ms\n",
      "85:\tlearn: 0.3030088\ttotal: 153ms\tremaining: 203ms\n",
      "86:\tlearn: 0.3011422\ttotal: 155ms\tremaining: 201ms\n",
      "87:\tlearn: 0.3000564\ttotal: 156ms\tremaining: 199ms\n",
      "88:\tlearn: 0.2993032\ttotal: 158ms\tremaining: 197ms\n",
      "89:\tlearn: 0.2982059\ttotal: 159ms\tremaining: 195ms\n",
      "90:\tlearn: 0.2976583\ttotal: 161ms\tremaining: 193ms\n",
      "91:\tlearn: 0.2955624\ttotal: 163ms\tremaining: 191ms\n",
      "92:\tlearn: 0.2948129\ttotal: 164ms\tremaining: 189ms\n",
      "93:\tlearn: 0.2940800\ttotal: 166ms\tremaining: 187ms\n",
      "94:\tlearn: 0.2935167\ttotal: 168ms\tremaining: 185ms\n",
      "95:\tlearn: 0.2930723\ttotal: 169ms\tremaining: 183ms\n",
      "96:\tlearn: 0.2923395\ttotal: 171ms\tremaining: 181ms\n",
      "97:\tlearn: 0.2912271\ttotal: 172ms\tremaining: 179ms\n",
      "98:\tlearn: 0.2901424\ttotal: 174ms\tremaining: 178ms\n",
      "99:\tlearn: 0.2896166\ttotal: 176ms\tremaining: 176ms\n",
      "100:\tlearn: 0.2881077\ttotal: 178ms\tremaining: 174ms\n",
      "101:\tlearn: 0.2868089\ttotal: 179ms\tremaining: 172ms\n",
      "102:\tlearn: 0.2861107\ttotal: 181ms\tremaining: 170ms\n",
      "103:\tlearn: 0.2851636\ttotal: 182ms\tremaining: 168ms\n",
      "104:\tlearn: 0.2830814\ttotal: 184ms\tremaining: 166ms\n",
      "105:\tlearn: 0.2816197\ttotal: 186ms\tremaining: 165ms\n",
      "106:\tlearn: 0.2803563\ttotal: 187ms\tremaining: 163ms\n",
      "107:\tlearn: 0.2797642\ttotal: 189ms\tremaining: 161ms\n",
      "108:\tlearn: 0.2786854\ttotal: 191ms\tremaining: 159ms\n",
      "109:\tlearn: 0.2775138\ttotal: 192ms\tremaining: 157ms\n",
      "110:\tlearn: 0.2765927\ttotal: 194ms\tremaining: 155ms\n",
      "111:\tlearn: 0.2755614\ttotal: 195ms\tremaining: 153ms\n",
      "112:\tlearn: 0.2749152\ttotal: 197ms\tremaining: 152ms\n",
      "113:\tlearn: 0.2739176\ttotal: 199ms\tremaining: 150ms\n",
      "114:\tlearn: 0.2732672\ttotal: 200ms\tremaining: 148ms\n",
      "115:\tlearn: 0.2720132\ttotal: 202ms\tremaining: 146ms\n",
      "116:\tlearn: 0.2707821\ttotal: 204ms\tremaining: 145ms\n",
      "117:\tlearn: 0.2699132\ttotal: 206ms\tremaining: 143ms\n",
      "118:\tlearn: 0.2686919\ttotal: 208ms\tremaining: 142ms\n",
      "119:\tlearn: 0.2682488\ttotal: 210ms\tremaining: 140ms\n",
      "120:\tlearn: 0.2671488\ttotal: 211ms\tremaining: 138ms\n",
      "121:\tlearn: 0.2661608\ttotal: 213ms\tremaining: 136ms\n",
      "122:\tlearn: 0.2638809\ttotal: 215ms\tremaining: 135ms\n",
      "123:\tlearn: 0.2630731\ttotal: 217ms\tremaining: 133ms\n",
      "124:\tlearn: 0.2625902\ttotal: 219ms\tremaining: 131ms\n",
      "125:\tlearn: 0.2613286\ttotal: 221ms\tremaining: 130ms\n",
      "126:\tlearn: 0.2606712\ttotal: 222ms\tremaining: 128ms\n",
      "127:\tlearn: 0.2597574\ttotal: 224ms\tremaining: 126ms\n",
      "128:\tlearn: 0.2589344\ttotal: 226ms\tremaining: 125ms\n",
      "129:\tlearn: 0.2580286\ttotal: 228ms\tremaining: 123ms\n",
      "130:\tlearn: 0.2568652\ttotal: 230ms\tremaining: 121ms\n",
      "131:\tlearn: 0.2563953\ttotal: 231ms\tremaining: 119ms\n",
      "132:\tlearn: 0.2550404\ttotal: 233ms\tremaining: 117ms\n",
      "133:\tlearn: 0.2548692\ttotal: 235ms\tremaining: 116ms\n",
      "134:\tlearn: 0.2539784\ttotal: 236ms\tremaining: 114ms\n",
      "135:\tlearn: 0.2530810\ttotal: 238ms\tremaining: 112ms\n",
      "136:\tlearn: 0.2519867\ttotal: 240ms\tremaining: 110ms\n",
      "137:\tlearn: 0.2509564\ttotal: 241ms\tremaining: 108ms\n",
      "138:\tlearn: 0.2498798\ttotal: 243ms\tremaining: 107ms\n",
      "139:\tlearn: 0.2488491\ttotal: 245ms\tremaining: 105ms\n",
      "140:\tlearn: 0.2483094\ttotal: 246ms\tremaining: 103ms\n",
      "141:\tlearn: 0.2472128\ttotal: 248ms\tremaining: 101ms\n",
      "142:\tlearn: 0.2466638\ttotal: 250ms\tremaining: 99.6ms\n",
      "143:\tlearn: 0.2457426\ttotal: 251ms\tremaining: 97.8ms\n",
      "144:\tlearn: 0.2452201\ttotal: 253ms\tremaining: 96ms\n",
      "145:\tlearn: 0.2447993\ttotal: 255ms\tremaining: 94.2ms\n",
      "146:\tlearn: 0.2439741\ttotal: 256ms\tremaining: 92.4ms\n",
      "147:\tlearn: 0.2435633\ttotal: 258ms\tremaining: 90.6ms\n",
      "148:\tlearn: 0.2425265\ttotal: 260ms\tremaining: 88.9ms\n",
      "149:\tlearn: 0.2420745\ttotal: 262ms\tremaining: 87.2ms\n",
      "150:\tlearn: 0.2414558\ttotal: 263ms\tremaining: 85.5ms\n",
      "151:\tlearn: 0.2408207\ttotal: 265ms\tremaining: 83.7ms\n",
      "152:\tlearn: 0.2401839\ttotal: 267ms\tremaining: 82ms\n",
      "153:\tlearn: 0.2399646\ttotal: 269ms\tremaining: 80.2ms\n",
      "154:\tlearn: 0.2391698\ttotal: 270ms\tremaining: 78.4ms\n",
      "155:\tlearn: 0.2386654\ttotal: 272ms\tremaining: 76.7ms\n",
      "156:\tlearn: 0.2380865\ttotal: 274ms\tremaining: 75ms\n",
      "157:\tlearn: 0.2369244\ttotal: 275ms\tremaining: 73.2ms\n",
      "158:\tlearn: 0.2362624\ttotal: 277ms\tremaining: 71.5ms\n",
      "159:\tlearn: 0.2353328\ttotal: 279ms\tremaining: 69.7ms\n",
      "160:\tlearn: 0.2346510\ttotal: 280ms\tremaining: 67.9ms\n",
      "161:\tlearn: 0.2342498\ttotal: 282ms\tremaining: 66.1ms\n",
      "162:\tlearn: 0.2331941\ttotal: 284ms\tremaining: 64.4ms\n",
      "163:\tlearn: 0.2323860\ttotal: 285ms\tremaining: 62.6ms\n",
      "164:\tlearn: 0.2319900\ttotal: 287ms\tremaining: 60.9ms\n",
      "165:\tlearn: 0.2317295\ttotal: 289ms\tremaining: 59.1ms\n",
      "166:\tlearn: 0.2305869\ttotal: 290ms\tremaining: 57.3ms\n",
      "167:\tlearn: 0.2298032\ttotal: 292ms\tremaining: 55.6ms\n",
      "168:\tlearn: 0.2291682\ttotal: 293ms\tremaining: 53.8ms\n",
      "169:\tlearn: 0.2286870\ttotal: 295ms\tremaining: 52.1ms\n",
      "170:\tlearn: 0.2277586\ttotal: 297ms\tremaining: 50.3ms\n",
      "171:\tlearn: 0.2274702\ttotal: 298ms\tremaining: 48.6ms\n",
      "172:\tlearn: 0.2266895\ttotal: 300ms\tremaining: 46.8ms\n",
      "173:\tlearn: 0.2263182\ttotal: 302ms\tremaining: 45.1ms\n",
      "174:\tlearn: 0.2256514\ttotal: 303ms\tremaining: 43.3ms\n",
      "175:\tlearn: 0.2247638\ttotal: 305ms\tremaining: 41.6ms\n",
      "176:\tlearn: 0.2242636\ttotal: 307ms\tremaining: 39.8ms\n",
      "177:\tlearn: 0.2239232\ttotal: 308ms\tremaining: 38.1ms\n",
      "178:\tlearn: 0.2232392\ttotal: 310ms\tremaining: 36.4ms\n",
      "179:\tlearn: 0.2224107\ttotal: 312ms\tremaining: 34.6ms\n",
      "180:\tlearn: 0.2220405\ttotal: 313ms\tremaining: 32.9ms\n",
      "181:\tlearn: 0.2214924\ttotal: 315ms\tremaining: 31.1ms\n",
      "182:\tlearn: 0.2210520\ttotal: 316ms\tremaining: 29.4ms\n",
      "183:\tlearn: 0.2204867\ttotal: 318ms\tremaining: 27.7ms\n",
      "184:\tlearn: 0.2203092\ttotal: 320ms\tremaining: 25.9ms\n",
      "185:\tlearn: 0.2200391\ttotal: 321ms\tremaining: 24.2ms\n",
      "186:\tlearn: 0.2195370\ttotal: 323ms\tremaining: 22.4ms\n",
      "187:\tlearn: 0.2189212\ttotal: 325ms\tremaining: 20.7ms\n",
      "188:\tlearn: 0.2179477\ttotal: 326ms\tremaining: 19ms\n",
      "189:\tlearn: 0.2173710\ttotal: 328ms\tremaining: 17.3ms\n",
      "190:\tlearn: 0.2163777\ttotal: 330ms\tremaining: 15.5ms\n",
      "191:\tlearn: 0.2154337\ttotal: 331ms\tremaining: 13.8ms\n",
      "192:\tlearn: 0.2148388\ttotal: 333ms\tremaining: 12.1ms\n",
      "193:\tlearn: 0.2141998\ttotal: 335ms\tremaining: 10.3ms\n",
      "194:\tlearn: 0.2137871\ttotal: 336ms\tremaining: 8.62ms\n",
      "195:\tlearn: 0.2128389\ttotal: 338ms\tremaining: 6.9ms\n",
      "196:\tlearn: 0.2124856\ttotal: 340ms\tremaining: 5.17ms\n",
      "197:\tlearn: 0.2119878\ttotal: 341ms\tremaining: 3.45ms\n",
      "198:\tlearn: 0.2112962\ttotal: 343ms\tremaining: 1.72ms\n",
      "199:\tlearn: 0.2106422\ttotal: 345ms\tremaining: 0us\n"
     ]
    }
   ],
   "source": [
    "pool_test_pipe = Pool(df_pipe_test, y_test)\n",
    "\n",
    "cb_pipe.fit(pool_test_pipe)\n",
    "\n",
    "y_pred_pipe_test = cb_pipe.predict(pool_test_pipe)"
   ]
  },
  {
   "cell_type": "code",
   "execution_count": 120,
   "id": "be63b4d5-c992-4f4c-b5b7-b6921926db88",
   "metadata": {},
   "outputs": [
    {
     "data": {
      "text/plain": [
       "0.15636704975919907"
      ]
     },
     "execution_count": 120,
     "metadata": {},
     "output_type": "execute_result"
    }
   ],
   "source": [
    "mean_absolute_error(y_test, y_pred_pipe_test)"
   ]
  },
  {
   "cell_type": "code",
   "execution_count": 122,
   "id": "0582402d-07a3-49f2-b0d3-187d5be532df",
   "metadata": {},
   "outputs": [],
   "source": [
    "corr_matrix = df_pipe_test.corr()"
   ]
  },
  {
   "cell_type": "code",
   "execution_count": 126,
   "id": "f962bbab-1d07-4c12-80f5-86cf3219ad3e",
   "metadata": {},
   "outputs": [
    {
     "data": {
      "text/plain": [
       "Process_Num_Scaler__Installs                        1.000000\n",
       "Process_Num_Scaler__Reviews                         0.650262\n",
       "Ord_Process_Categorical__Android Ver                0.176380\n",
       "Ord_Process_Categorical__Current Ver                0.148286\n",
       "OH_Process_Categorical__Main_Genre_Communication    0.122419\n",
       "                                                      ...   \n",
       "OH_Process_Categorical__Main_Genre_Education       -0.040751\n",
       "OH_Process_Categorical__Content Rating_Everyone    -0.043444\n",
       "OH_Process_Categorical__Type_Paid                  -0.050324\n",
       "OH_Process_Categorical__Category_FAMILY            -0.063469\n",
       "Process_Num_Scaler__Days_Since_Last_Update         -0.100963\n",
       "Name: Process_Num_Scaler__Installs, Length: 96, dtype: float64"
      ]
     },
     "execution_count": 126,
     "metadata": {},
     "output_type": "execute_result"
    }
   ],
   "source": [
    "corr_matrix[\"Process_Num_Scaler__Installs\"].sort_values(ascending=False)"
   ]
  },
  {
   "cell_type": "code",
   "execution_count": 130,
   "id": "8381299b-7269-463a-aad1-d8f9f4f211c9",
   "metadata": {},
   "outputs": [
    {
     "name": "stdout",
     "output_type": "stream",
     "text": [
      "0.210642199800071\n"
     ]
    }
   ],
   "source": [
    "final_rmse = mean_squared_error(y_test, y_pred_pipe_test, squared=False)\n",
    "print(final_rmse)"
   ]
  },
  {
   "cell_type": "code",
   "execution_count": 131,
   "id": "b4f08efd-0a26-459a-8545-3535e070c2b4",
   "metadata": {},
   "outputs": [
    {
     "name": "stdout",
     "output_type": "stream",
     "text": [
      "0.044370136336613034\n"
     ]
    }
   ],
   "source": [
    "final_rmse = mean_squared_error(y_test, y_pred_pipe_test)\n",
    "print(final_rmse)"
   ]
  },
  {
   "cell_type": "markdown",
   "id": "9b9d61bf-9ed6-478b-b049-c71514622004",
   "metadata": {},
   "source": [
    "## Grid_search"
   ]
  },
  {
   "cell_type": "code",
   "execution_count": 132,
   "id": "4837b3fc-d635-4140-8213-0dd90d9df1e3",
   "metadata": {},
   "outputs": [],
   "source": [
    "from sklearn.model_selection import GridSearchCV"
   ]
  },
  {
   "cell_type": "code",
   "execution_count": 140,
   "id": "e09726fa-dec5-4eb5-bd9c-1baba04612c2",
   "metadata": {},
   "outputs": [
    {
     "data": {
      "text/plain": [
       "'\\n# GRADIENT BOOSTING\\ngrid_gradient_boosting = {\"gradientboostingclassifier__loss\": [\"deviance\"], # Deviance suele ir mejor.\\n                          \"gradientboostingclassifier__learning_rate\": [0.05, 0.1, 0.2, 0.4],  # Cuanto más alto, mas aporta cada nuevo arbol\\n                          \\n                          \"gradientboostingclassifier__n_estimators\": [20,50,100], # Cuidado con poner muchos estiamdores ya que vamos a\\n                                                           # sobreajustar el modelo\\n                          \\n                          \"gradientboostingclassifier__max_depth\": [1,2,3,4], # No es necesario poner una profundiad muy alta. Cada nuevo\\n                                                    # arbol va corrigiendo el error de los anteriores.\\n                          \\n                          \\n                          \"gradientboostingclassifier__max_features\": [3, 4], # Igual que en el random forest\\n                          }\\n\\n'"
      ]
     },
     "execution_count": 140,
     "metadata": {},
     "output_type": "execute_result"
    }
   ],
   "source": [
    "# RANDOM FOREST\n",
    "grid_random_forest = {\"n_estimators\": [100,120], # El Random Forest no suele empeorar por exceso de\n",
    "                                             # estimadores. A partir de cierto numero no merece la pena\n",
    "                                             # perder el tiempo ya que no mejora mucho más la precisión.\n",
    "                                             # Entre 100 y 200 es una buena cifra\n",
    "\n",
    "                     \n",
    "                     \"max_depth\": [3,4,5], # No le afecta tanto el overfitting como al decissiontree.\n",
    "                                                      # Podemos probar mayores profundidades\n",
    "                      \n",
    "                     \"max_features\": [3, 4, 6] # Numero de features que utiliza en cada split.\n",
    "                                                    # cuanto más bajo, mejor generalizará y menos overfitting.\n",
    "                                                    \n",
    "                     }\n"
   ]
  },
  {
   "cell_type": "code",
   "execution_count": 134,
   "id": "44e960e8-106c-49ba-a49d-8ebed93676a4",
   "metadata": {
    "tags": []
   },
   "outputs": [],
   "source": [
    "from sklearn.ensemble import RandomForestRegressor"
   ]
  },
  {
   "cell_type": "code",
   "execution_count": 141,
   "id": "e27925a5-a595-4f47-a00e-44264f076411",
   "metadata": {},
   "outputs": [],
   "source": [
    "rf_reg_model = RandomForestRegressor()"
   ]
  },
  {
   "cell_type": "code",
   "execution_count": 142,
   "id": "44a620eb-c95f-44a0-aeb0-bb126ce3b5e6",
   "metadata": {},
   "outputs": [],
   "source": [
    "grid_search_rf_reg = GridSearchCV(rf_reg_model, grid_random_forest, cv=3,\n",
    "                           scoring='neg_root_mean_squared_error')"
   ]
  },
  {
   "cell_type": "code",
   "execution_count": 143,
   "id": "8f0894a5-9f5d-4701-a1cf-edc0bfeea839",
   "metadata": {},
   "outputs": [
    {
     "data": {
      "text/html": [
       "<style>#sk-container-id-1 {color: black;background-color: white;}#sk-container-id-1 pre{padding: 0;}#sk-container-id-1 div.sk-toggleable {background-color: white;}#sk-container-id-1 label.sk-toggleable__label {cursor: pointer;display: block;width: 100%;margin-bottom: 0;padding: 0.3em;box-sizing: border-box;text-align: center;}#sk-container-id-1 label.sk-toggleable__label-arrow:before {content: \"▸\";float: left;margin-right: 0.25em;color: #696969;}#sk-container-id-1 label.sk-toggleable__label-arrow:hover:before {color: black;}#sk-container-id-1 div.sk-estimator:hover label.sk-toggleable__label-arrow:before {color: black;}#sk-container-id-1 div.sk-toggleable__content {max-height: 0;max-width: 0;overflow: hidden;text-align: left;background-color: #f0f8ff;}#sk-container-id-1 div.sk-toggleable__content pre {margin: 0.2em;color: black;border-radius: 0.25em;background-color: #f0f8ff;}#sk-container-id-1 input.sk-toggleable__control:checked~div.sk-toggleable__content {max-height: 200px;max-width: 100%;overflow: auto;}#sk-container-id-1 input.sk-toggleable__control:checked~label.sk-toggleable__label-arrow:before {content: \"▾\";}#sk-container-id-1 div.sk-estimator input.sk-toggleable__control:checked~label.sk-toggleable__label {background-color: #d4ebff;}#sk-container-id-1 div.sk-label input.sk-toggleable__control:checked~label.sk-toggleable__label {background-color: #d4ebff;}#sk-container-id-1 input.sk-hidden--visually {border: 0;clip: rect(1px 1px 1px 1px);clip: rect(1px, 1px, 1px, 1px);height: 1px;margin: -1px;overflow: hidden;padding: 0;position: absolute;width: 1px;}#sk-container-id-1 div.sk-estimator {font-family: monospace;background-color: #f0f8ff;border: 1px dotted black;border-radius: 0.25em;box-sizing: border-box;margin-bottom: 0.5em;}#sk-container-id-1 div.sk-estimator:hover {background-color: #d4ebff;}#sk-container-id-1 div.sk-parallel-item::after {content: \"\";width: 100%;border-bottom: 1px solid gray;flex-grow: 1;}#sk-container-id-1 div.sk-label:hover label.sk-toggleable__label {background-color: #d4ebff;}#sk-container-id-1 div.sk-serial::before {content: \"\";position: absolute;border-left: 1px solid gray;box-sizing: border-box;top: 0;bottom: 0;left: 50%;z-index: 0;}#sk-container-id-1 div.sk-serial {display: flex;flex-direction: column;align-items: center;background-color: white;padding-right: 0.2em;padding-left: 0.2em;position: relative;}#sk-container-id-1 div.sk-item {position: relative;z-index: 1;}#sk-container-id-1 div.sk-parallel {display: flex;align-items: stretch;justify-content: center;background-color: white;position: relative;}#sk-container-id-1 div.sk-item::before, #sk-container-id-1 div.sk-parallel-item::before {content: \"\";position: absolute;border-left: 1px solid gray;box-sizing: border-box;top: 0;bottom: 0;left: 50%;z-index: -1;}#sk-container-id-1 div.sk-parallel-item {display: flex;flex-direction: column;z-index: 1;position: relative;background-color: white;}#sk-container-id-1 div.sk-parallel-item:first-child::after {align-self: flex-end;width: 50%;}#sk-container-id-1 div.sk-parallel-item:last-child::after {align-self: flex-start;width: 50%;}#sk-container-id-1 div.sk-parallel-item:only-child::after {width: 0;}#sk-container-id-1 div.sk-dashed-wrapped {border: 1px dashed gray;margin: 0 0.4em 0.5em 0.4em;box-sizing: border-box;padding-bottom: 0.4em;background-color: white;}#sk-container-id-1 div.sk-label label {font-family: monospace;font-weight: bold;display: inline-block;line-height: 1.2em;}#sk-container-id-1 div.sk-label-container {text-align: center;}#sk-container-id-1 div.sk-container {/* jupyter's `normalize.less` sets `[hidden] { display: none; }` but bootstrap.min.css set `[hidden] { display: none !important; }` so we also need the `!important` here to be able to override the default hidden behavior on the sphinx rendered scikit-learn.org. See: https://github.com/scikit-learn/scikit-learn/issues/21755 */display: inline-block !important;position: relative;}#sk-container-id-1 div.sk-text-repr-fallback {display: none;}</style><div id=\"sk-container-id-1\" class=\"sk-top-container\"><div class=\"sk-text-repr-fallback\"><pre>GridSearchCV(cv=3, estimator=RandomForestRegressor(),\n",
       "             param_grid={&#x27;max_depth&#x27;: [3, 4, 5], &#x27;max_features&#x27;: [3, 4, 6],\n",
       "                         &#x27;n_estimators&#x27;: [100, 120]},\n",
       "             scoring=&#x27;neg_root_mean_squared_error&#x27;)</pre><b>In a Jupyter environment, please rerun this cell to show the HTML representation or trust the notebook. <br />On GitHub, the HTML representation is unable to render, please try loading this page with nbviewer.org.</b></div><div class=\"sk-container\" hidden><div class=\"sk-item sk-dashed-wrapped\"><div class=\"sk-label-container\"><div class=\"sk-label sk-toggleable\"><input class=\"sk-toggleable__control sk-hidden--visually\" id=\"sk-estimator-id-1\" type=\"checkbox\" ><label for=\"sk-estimator-id-1\" class=\"sk-toggleable__label sk-toggleable__label-arrow\">GridSearchCV</label><div class=\"sk-toggleable__content\"><pre>GridSearchCV(cv=3, estimator=RandomForestRegressor(),\n",
       "             param_grid={&#x27;max_depth&#x27;: [3, 4, 5], &#x27;max_features&#x27;: [3, 4, 6],\n",
       "                         &#x27;n_estimators&#x27;: [100, 120]},\n",
       "             scoring=&#x27;neg_root_mean_squared_error&#x27;)</pre></div></div></div><div class=\"sk-parallel\"><div class=\"sk-parallel-item\"><div class=\"sk-item\"><div class=\"sk-label-container\"><div class=\"sk-label sk-toggleable\"><input class=\"sk-toggleable__control sk-hidden--visually\" id=\"sk-estimator-id-2\" type=\"checkbox\" ><label for=\"sk-estimator-id-2\" class=\"sk-toggleable__label sk-toggleable__label-arrow\">estimator: RandomForestRegressor</label><div class=\"sk-toggleable__content\"><pre>RandomForestRegressor()</pre></div></div></div><div class=\"sk-serial\"><div class=\"sk-item\"><div class=\"sk-estimator sk-toggleable\"><input class=\"sk-toggleable__control sk-hidden--visually\" id=\"sk-estimator-id-3\" type=\"checkbox\" ><label for=\"sk-estimator-id-3\" class=\"sk-toggleable__label sk-toggleable__label-arrow\">RandomForestRegressor</label><div class=\"sk-toggleable__content\"><pre>RandomForestRegressor()</pre></div></div></div></div></div></div></div></div></div></div>"
      ],
      "text/plain": [
       "GridSearchCV(cv=3, estimator=RandomForestRegressor(),\n",
       "             param_grid={'max_depth': [3, 4, 5], 'max_features': [3, 4, 6],\n",
       "                         'n_estimators': [100, 120]},\n",
       "             scoring='neg_root_mean_squared_error')"
      ]
     },
     "execution_count": 143,
     "metadata": {},
     "output_type": "execute_result"
    }
   ],
   "source": [
    "grid_search_rf_reg.fit(df_pipe_train, y_train)"
   ]
  },
  {
   "cell_type": "code",
   "execution_count": 144,
   "id": "528a0c4b-ae93-496e-a185-9da8a2c53556",
   "metadata": {},
   "outputs": [
    {
     "data": {
      "text/plain": [
       "{'max_depth': 5, 'max_features': 6, 'n_estimators': 100}"
      ]
     },
     "execution_count": 144,
     "metadata": {},
     "output_type": "execute_result"
    }
   ],
   "source": [
    "grid_search_rf_reg.best_params_"
   ]
  },
  {
   "cell_type": "code",
   "execution_count": 145,
   "id": "4da5bda4-f97d-4dde-897c-4a2b34cd4860",
   "metadata": {},
   "outputs": [],
   "source": [
    "best_rf_reg = grid_search_rf_reg.best_estimator_"
   ]
  },
  {
   "cell_type": "code",
   "execution_count": 166,
   "id": "97aca8bb-2947-43ce-afb2-39eabe1d7a05",
   "metadata": {},
   "outputs": [
    {
     "name": "stdout",
     "output_type": "stream",
     "text": [
      "0.500021149344091\n",
      "0.3432766140546524\n"
     ]
    },
    {
     "name": "stderr",
     "output_type": "stream",
     "text": [
      "C:\\Users\\Victor\\anaconda3\\envs\\general\\lib\\site-packages\\sklearn\\base.py:493: FutureWarning: The feature names should match those that were passed during fit. Starting version 1.2, an error will be raised.\n",
      "Feature names unseen at fit time:\n",
      "- OH_Process_Categorical__Main_Genre_Music & Audio\n",
      "Feature names seen at fit time, yet now missing:\n",
      "- OH_Process_Categorical__Content Rating_Unrated\n",
      "\n",
      "  warnings.warn(message, FutureWarning)\n"
     ]
    }
   ],
   "source": [
    "final_predictions = best_rf_reg.predict(df_pipe_test)\n",
    "\n",
    "final_rmse = mean_squared_error(y_test, final_predictions, squared=False)\n",
    "print(final_rmse)\n",
    "print(mean_absolute_error(y_test, final_predictions))"
   ]
  },
  {
   "cell_type": "markdown",
   "id": "bf975a81-8a62-4c0b-b9da-36e7c36faed1",
   "metadata": {},
   "source": [
    "# GridSearch XGBoost con Pipelines"
   ]
  },
  {
   "cell_type": "code",
   "execution_count": 147,
   "id": "3e6b5517-f99c-44ba-a903-e0655bc659c9",
   "metadata": {},
   "outputs": [],
   "source": [
    "from sklearn.model_selection import cross_val_score\n",
    "from xgboost import XGBRegressor"
   ]
  },
  {
   "cell_type": "code",
   "execution_count": 157,
   "id": "8d389f2a-5bd9-41ea-836f-600a931b8a96",
   "metadata": {},
   "outputs": [],
   "source": [
    "# Usando Pipes\n",
    "'''\n",
    "random_pipeline = Pipeline(\n",
    "    [(\"Preprocesado\", preprocessing),\n",
    "     (\"Modelo\", RandomForestRegressor())\n",
    "    ])\n",
    "'''\n",
    "xgb_pipeline = Pipeline(\n",
    "    [(\"Preprocesado\", preprocessing),\n",
    "     (\"Modelo\", XGBRegressor())\n",
    "    ])\n",
    "    "
   ]
  },
  {
   "cell_type": "code",
   "execution_count": 175,
   "id": "7fd1274b-2f26-4098-8cd7-a4ed4f34c786",
   "metadata": {},
   "outputs": [],
   "source": [
    "from sklearn.model_selection import GridSearchCV\n",
    "\n",
    "# Definimos sus hiperparametros\n",
    "\n",
    "xgb_param = {\n",
    "          'max_depth': [3, 6, 10, 15],\n",
    "          'learning_rate': [0.01, 0.1, 0.2, 0.3, 0.4],\n",
    "          'subsample': np.arange(0.5, 1.0, 0.1),\n",
    "          'colsample_bytree': np.arange(0.5, 1.0, 0.1),\n",
    "          'colsample_bylevel': np.arange(0.5, 1.0, 0.1),\n",
    "          'n_estimators': [100, 250, 500, 750],\n",
    "}\n",
    "\n",
    "cv = 5\n",
    "\n",
    "gs_xgb = GridSearchCV(XGBRegressor(),\n",
    "                        xgb_param,\n",
    "                        cv=cv,\n",
    "                        scoring='neg_mean_absolute_error',\n",
    "                        verbose=1,\n",
    "                        n_jobs=-1)"
   ]
  },
  {
   "cell_type": "code",
   "execution_count": 176,
   "id": "280ec68d-05f5-4fc2-af2c-3b255ed34ae3",
   "metadata": {},
   "outputs": [
    {
     "name": "stdout",
     "output_type": "stream",
     "text": [
      "Fitting 5 folds for each of 10000 candidates, totalling 50000 fits\n"
     ]
    },
    {
     "ename": "KeyboardInterrupt",
     "evalue": "",
     "output_type": "error",
     "traceback": [
      "\u001b[1;31m---------------------------------------------------------------------------\u001b[0m",
      "\u001b[1;31mKeyboardInterrupt\u001b[0m                         Traceback (most recent call last)",
      "\u001b[1;32m<timed eval>\u001b[0m in \u001b[0;36m<module>\u001b[1;34m\u001b[0m\n",
      "\u001b[1;32m~\\anaconda3\\envs\\general\\lib\\site-packages\\sklearn\\model_selection\\_search.py\u001b[0m in \u001b[0;36mfit\u001b[1;34m(self, X, y, groups, **fit_params)\u001b[0m\n\u001b[0;32m    873\u001b[0m                 \u001b[1;32mreturn\u001b[0m \u001b[0mresults\u001b[0m\u001b[1;33m\u001b[0m\u001b[1;33m\u001b[0m\u001b[0m\n\u001b[0;32m    874\u001b[0m \u001b[1;33m\u001b[0m\u001b[0m\n\u001b[1;32m--> 875\u001b[1;33m             \u001b[0mself\u001b[0m\u001b[1;33m.\u001b[0m\u001b[0m_run_search\u001b[0m\u001b[1;33m(\u001b[0m\u001b[0mevaluate_candidates\u001b[0m\u001b[1;33m)\u001b[0m\u001b[1;33m\u001b[0m\u001b[1;33m\u001b[0m\u001b[0m\n\u001b[0m\u001b[0;32m    876\u001b[0m \u001b[1;33m\u001b[0m\u001b[0m\n\u001b[0;32m    877\u001b[0m             \u001b[1;31m# multimetric is determined here because in the case of a callable\u001b[0m\u001b[1;33m\u001b[0m\u001b[1;33m\u001b[0m\u001b[0m\n",
      "\u001b[1;32m~\\anaconda3\\envs\\general\\lib\\site-packages\\sklearn\\model_selection\\_search.py\u001b[0m in \u001b[0;36m_run_search\u001b[1;34m(self, evaluate_candidates)\u001b[0m\n\u001b[0;32m   1377\u001b[0m     \u001b[1;32mdef\u001b[0m \u001b[0m_run_search\u001b[0m\u001b[1;33m(\u001b[0m\u001b[0mself\u001b[0m\u001b[1;33m,\u001b[0m \u001b[0mevaluate_candidates\u001b[0m\u001b[1;33m)\u001b[0m\u001b[1;33m:\u001b[0m\u001b[1;33m\u001b[0m\u001b[1;33m\u001b[0m\u001b[0m\n\u001b[0;32m   1378\u001b[0m         \u001b[1;34m\"\"\"Search all candidates in param_grid\"\"\"\u001b[0m\u001b[1;33m\u001b[0m\u001b[1;33m\u001b[0m\u001b[0m\n\u001b[1;32m-> 1379\u001b[1;33m         \u001b[0mevaluate_candidates\u001b[0m\u001b[1;33m(\u001b[0m\u001b[0mParameterGrid\u001b[0m\u001b[1;33m(\u001b[0m\u001b[0mself\u001b[0m\u001b[1;33m.\u001b[0m\u001b[0mparam_grid\u001b[0m\u001b[1;33m)\u001b[0m\u001b[1;33m)\u001b[0m\u001b[1;33m\u001b[0m\u001b[1;33m\u001b[0m\u001b[0m\n\u001b[0m\u001b[0;32m   1380\u001b[0m \u001b[1;33m\u001b[0m\u001b[0m\n\u001b[0;32m   1381\u001b[0m \u001b[1;33m\u001b[0m\u001b[0m\n",
      "\u001b[1;32m~\\anaconda3\\envs\\general\\lib\\site-packages\\sklearn\\model_selection\\_search.py\u001b[0m in \u001b[0;36mevaluate_candidates\u001b[1;34m(candidate_params, cv, more_results)\u001b[0m\n\u001b[0;32m    820\u001b[0m                     )\n\u001b[0;32m    821\u001b[0m \u001b[1;33m\u001b[0m\u001b[0m\n\u001b[1;32m--> 822\u001b[1;33m                 out = parallel(\n\u001b[0m\u001b[0;32m    823\u001b[0m                     delayed(_fit_and_score)(\n\u001b[0;32m    824\u001b[0m                         \u001b[0mclone\u001b[0m\u001b[1;33m(\u001b[0m\u001b[0mbase_estimator\u001b[0m\u001b[1;33m)\u001b[0m\u001b[1;33m,\u001b[0m\u001b[1;33m\u001b[0m\u001b[1;33m\u001b[0m\u001b[0m\n",
      "\u001b[1;32m~\\anaconda3\\envs\\general\\lib\\site-packages\\joblib\\parallel.py\u001b[0m in \u001b[0;36m__call__\u001b[1;34m(self, iterable)\u001b[0m\n\u001b[0;32m   1096\u001b[0m \u001b[1;33m\u001b[0m\u001b[0m\n\u001b[0;32m   1097\u001b[0m             \u001b[1;32mwith\u001b[0m \u001b[0mself\u001b[0m\u001b[1;33m.\u001b[0m\u001b[0m_backend\u001b[0m\u001b[1;33m.\u001b[0m\u001b[0mretrieval_context\u001b[0m\u001b[1;33m(\u001b[0m\u001b[1;33m)\u001b[0m\u001b[1;33m:\u001b[0m\u001b[1;33m\u001b[0m\u001b[1;33m\u001b[0m\u001b[0m\n\u001b[1;32m-> 1098\u001b[1;33m                 \u001b[0mself\u001b[0m\u001b[1;33m.\u001b[0m\u001b[0mretrieve\u001b[0m\u001b[1;33m(\u001b[0m\u001b[1;33m)\u001b[0m\u001b[1;33m\u001b[0m\u001b[1;33m\u001b[0m\u001b[0m\n\u001b[0m\u001b[0;32m   1099\u001b[0m             \u001b[1;31m# Make sure that we get a last message telling us we are done\u001b[0m\u001b[1;33m\u001b[0m\u001b[1;33m\u001b[0m\u001b[0m\n\u001b[0;32m   1100\u001b[0m             \u001b[0melapsed_time\u001b[0m \u001b[1;33m=\u001b[0m \u001b[0mtime\u001b[0m\u001b[1;33m.\u001b[0m\u001b[0mtime\u001b[0m\u001b[1;33m(\u001b[0m\u001b[1;33m)\u001b[0m \u001b[1;33m-\u001b[0m \u001b[0mself\u001b[0m\u001b[1;33m.\u001b[0m\u001b[0m_start_time\u001b[0m\u001b[1;33m\u001b[0m\u001b[1;33m\u001b[0m\u001b[0m\n",
      "\u001b[1;32m~\\anaconda3\\envs\\general\\lib\\site-packages\\joblib\\parallel.py\u001b[0m in \u001b[0;36mretrieve\u001b[1;34m(self)\u001b[0m\n\u001b[0;32m    973\u001b[0m             \u001b[1;32mtry\u001b[0m\u001b[1;33m:\u001b[0m\u001b[1;33m\u001b[0m\u001b[1;33m\u001b[0m\u001b[0m\n\u001b[0;32m    974\u001b[0m                 \u001b[1;32mif\u001b[0m \u001b[0mgetattr\u001b[0m\u001b[1;33m(\u001b[0m\u001b[0mself\u001b[0m\u001b[1;33m.\u001b[0m\u001b[0m_backend\u001b[0m\u001b[1;33m,\u001b[0m \u001b[1;34m'supports_timeout'\u001b[0m\u001b[1;33m,\u001b[0m \u001b[1;32mFalse\u001b[0m\u001b[1;33m)\u001b[0m\u001b[1;33m:\u001b[0m\u001b[1;33m\u001b[0m\u001b[1;33m\u001b[0m\u001b[0m\n\u001b[1;32m--> 975\u001b[1;33m                     \u001b[0mself\u001b[0m\u001b[1;33m.\u001b[0m\u001b[0m_output\u001b[0m\u001b[1;33m.\u001b[0m\u001b[0mextend\u001b[0m\u001b[1;33m(\u001b[0m\u001b[0mjob\u001b[0m\u001b[1;33m.\u001b[0m\u001b[0mget\u001b[0m\u001b[1;33m(\u001b[0m\u001b[0mtimeout\u001b[0m\u001b[1;33m=\u001b[0m\u001b[0mself\u001b[0m\u001b[1;33m.\u001b[0m\u001b[0mtimeout\u001b[0m\u001b[1;33m)\u001b[0m\u001b[1;33m)\u001b[0m\u001b[1;33m\u001b[0m\u001b[1;33m\u001b[0m\u001b[0m\n\u001b[0m\u001b[0;32m    976\u001b[0m                 \u001b[1;32melse\u001b[0m\u001b[1;33m:\u001b[0m\u001b[1;33m\u001b[0m\u001b[1;33m\u001b[0m\u001b[0m\n\u001b[0;32m    977\u001b[0m                     \u001b[0mself\u001b[0m\u001b[1;33m.\u001b[0m\u001b[0m_output\u001b[0m\u001b[1;33m.\u001b[0m\u001b[0mextend\u001b[0m\u001b[1;33m(\u001b[0m\u001b[0mjob\u001b[0m\u001b[1;33m.\u001b[0m\u001b[0mget\u001b[0m\u001b[1;33m(\u001b[0m\u001b[1;33m)\u001b[0m\u001b[1;33m)\u001b[0m\u001b[1;33m\u001b[0m\u001b[1;33m\u001b[0m\u001b[0m\n",
      "\u001b[1;32m~\\anaconda3\\envs\\general\\lib\\site-packages\\joblib\\_parallel_backends.py\u001b[0m in \u001b[0;36mwrap_future_result\u001b[1;34m(future, timeout)\u001b[0m\n\u001b[0;32m    565\u001b[0m         AsyncResults.get from multiprocessing.\"\"\"\n\u001b[0;32m    566\u001b[0m         \u001b[1;32mtry\u001b[0m\u001b[1;33m:\u001b[0m\u001b[1;33m\u001b[0m\u001b[1;33m\u001b[0m\u001b[0m\n\u001b[1;32m--> 567\u001b[1;33m             \u001b[1;32mreturn\u001b[0m \u001b[0mfuture\u001b[0m\u001b[1;33m.\u001b[0m\u001b[0mresult\u001b[0m\u001b[1;33m(\u001b[0m\u001b[0mtimeout\u001b[0m\u001b[1;33m=\u001b[0m\u001b[0mtimeout\u001b[0m\u001b[1;33m)\u001b[0m\u001b[1;33m\u001b[0m\u001b[1;33m\u001b[0m\u001b[0m\n\u001b[0m\u001b[0;32m    568\u001b[0m         \u001b[1;32mexcept\u001b[0m \u001b[0mCfTimeoutError\u001b[0m \u001b[1;32mas\u001b[0m \u001b[0me\u001b[0m\u001b[1;33m:\u001b[0m\u001b[1;33m\u001b[0m\u001b[1;33m\u001b[0m\u001b[0m\n\u001b[0;32m    569\u001b[0m             \u001b[1;32mraise\u001b[0m \u001b[0mTimeoutError\u001b[0m \u001b[1;32mfrom\u001b[0m \u001b[0me\u001b[0m\u001b[1;33m\u001b[0m\u001b[1;33m\u001b[0m\u001b[0m\n",
      "\u001b[1;32m~\\anaconda3\\envs\\general\\lib\\concurrent\\futures\\_base.py\u001b[0m in \u001b[0;36mresult\u001b[1;34m(self, timeout)\u001b[0m\n\u001b[0;32m    439\u001b[0m                     \u001b[1;32mreturn\u001b[0m \u001b[0mself\u001b[0m\u001b[1;33m.\u001b[0m\u001b[0m__get_result\u001b[0m\u001b[1;33m(\u001b[0m\u001b[1;33m)\u001b[0m\u001b[1;33m\u001b[0m\u001b[1;33m\u001b[0m\u001b[0m\n\u001b[0;32m    440\u001b[0m \u001b[1;33m\u001b[0m\u001b[0m\n\u001b[1;32m--> 441\u001b[1;33m                 \u001b[0mself\u001b[0m\u001b[1;33m.\u001b[0m\u001b[0m_condition\u001b[0m\u001b[1;33m.\u001b[0m\u001b[0mwait\u001b[0m\u001b[1;33m(\u001b[0m\u001b[0mtimeout\u001b[0m\u001b[1;33m)\u001b[0m\u001b[1;33m\u001b[0m\u001b[1;33m\u001b[0m\u001b[0m\n\u001b[0m\u001b[0;32m    442\u001b[0m \u001b[1;33m\u001b[0m\u001b[0m\n\u001b[0;32m    443\u001b[0m                 \u001b[1;32mif\u001b[0m \u001b[0mself\u001b[0m\u001b[1;33m.\u001b[0m\u001b[0m_state\u001b[0m \u001b[1;32min\u001b[0m \u001b[1;33m[\u001b[0m\u001b[0mCANCELLED\u001b[0m\u001b[1;33m,\u001b[0m \u001b[0mCANCELLED_AND_NOTIFIED\u001b[0m\u001b[1;33m]\u001b[0m\u001b[1;33m:\u001b[0m\u001b[1;33m\u001b[0m\u001b[1;33m\u001b[0m\u001b[0m\n",
      "\u001b[1;32m~\\anaconda3\\envs\\general\\lib\\threading.py\u001b[0m in \u001b[0;36mwait\u001b[1;34m(self, timeout)\u001b[0m\n\u001b[0;32m    318\u001b[0m         \u001b[1;32mtry\u001b[0m\u001b[1;33m:\u001b[0m    \u001b[1;31m# restore state no matter what (e.g., KeyboardInterrupt)\u001b[0m\u001b[1;33m\u001b[0m\u001b[1;33m\u001b[0m\u001b[0m\n\u001b[0;32m    319\u001b[0m             \u001b[1;32mif\u001b[0m \u001b[0mtimeout\u001b[0m \u001b[1;32mis\u001b[0m \u001b[1;32mNone\u001b[0m\u001b[1;33m:\u001b[0m\u001b[1;33m\u001b[0m\u001b[1;33m\u001b[0m\u001b[0m\n\u001b[1;32m--> 320\u001b[1;33m                 \u001b[0mwaiter\u001b[0m\u001b[1;33m.\u001b[0m\u001b[0macquire\u001b[0m\u001b[1;33m(\u001b[0m\u001b[1;33m)\u001b[0m\u001b[1;33m\u001b[0m\u001b[1;33m\u001b[0m\u001b[0m\n\u001b[0m\u001b[0;32m    321\u001b[0m                 \u001b[0mgotit\u001b[0m \u001b[1;33m=\u001b[0m \u001b[1;32mTrue\u001b[0m\u001b[1;33m\u001b[0m\u001b[1;33m\u001b[0m\u001b[0m\n\u001b[0;32m    322\u001b[0m             \u001b[1;32melse\u001b[0m\u001b[1;33m:\u001b[0m\u001b[1;33m\u001b[0m\u001b[1;33m\u001b[0m\u001b[0m\n",
      "\u001b[1;31mKeyboardInterrupt\u001b[0m: "
     ]
    }
   ],
   "source": [
    "%%time\n",
    "gs_xgb.fit(df_pipe_train, y_train)"
   ]
  },
  {
   "cell_type": "code",
   "execution_count": 177,
   "id": "40f84db8-8195-46fe-827c-cca8383f9a51",
   "metadata": {},
   "outputs": [
    {
     "ename": "AttributeError",
     "evalue": "'GridSearchCV' object has no attribute 'best_score_'",
     "output_type": "error",
     "traceback": [
      "\u001b[1;31m---------------------------------------------------------------------------\u001b[0m",
      "\u001b[1;31mAttributeError\u001b[0m                            Traceback (most recent call last)",
      "\u001b[1;32m~\\AppData\\Local\\Temp\\ipykernel_8760\\1908958243.py\u001b[0m in \u001b[0;36m<module>\u001b[1;34m\u001b[0m\n\u001b[1;32m----> 1\u001b[1;33m \u001b[0mgs_xgb\u001b[0m\u001b[1;33m.\u001b[0m\u001b[0mbest_score_\u001b[0m\u001b[1;33m\u001b[0m\u001b[1;33m\u001b[0m\u001b[0m\n\u001b[0m",
      "\u001b[1;31mAttributeError\u001b[0m: 'GridSearchCV' object has no attribute 'best_score_'"
     ]
    }
   ],
   "source": [
    "gs_xgb.best_score_"
   ]
  },
  {
   "cell_type": "code",
   "execution_count": null,
   "id": "34c0b997-95c3-47f7-9293-9f92ab9f32de",
   "metadata": {},
   "outputs": [],
   "source": [
    "gs_xgb.best_params_"
   ]
  },
  {
   "cell_type": "code",
   "execution_count": null,
   "id": "2c04e05f-8995-4cbf-8442-5de549f73476",
   "metadata": {},
   "outputs": [],
   "source": [
    "xgb_final_pred = gs_xgb.predict(df_pipe_train)"
   ]
  },
  {
   "cell_type": "code",
   "execution_count": null,
   "id": "a1ef59eb-9d9b-431f-a192-1008bf48433e",
   "metadata": {},
   "outputs": [],
   "source": [
    "print(mean_absolute_error(y_train, xgb_final_pred))"
   ]
  },
  {
   "cell_type": "code",
   "execution_count": null,
   "id": "f95537c0-a60a-481d-b886-4453e06b3237",
   "metadata": {},
   "outputs": [],
   "source": [
    "#xgb_final_pred_test = gs_xgb.predict(df_pipe_test)\n",
    "\n",
    "#Error: "
   ]
  },
  {
   "cell_type": "code",
   "execution_count": null,
   "id": "9a685fae-9280-4e54-a3a2-1c99c60c8641",
   "metadata": {},
   "outputs": [],
   "source": [
    "#print(mean_absolute_error(y_test, xgb_final_pred_test))"
   ]
  },
  {
   "cell_type": "markdown",
   "id": "bba3919a-d4ba-4943-82fa-df9b8d41c25d",
   "metadata": {},
   "source": [
    "# GridSearch CatBoost con Pipelines"
   ]
  },
  {
   "cell_type": "code",
   "execution_count": null,
   "id": "20419a61-fb33-42a8-a505-860ee97b7571",
   "metadata": {},
   "outputs": [],
   "source": [
    "# Definimos sus hiperparametros\n",
    "\n",
    "cb_R_param = {\n",
    "    'iterations': [10, 100, 200, 1000],\n",
    "    'max_depth': [1,2,4,8],\n",
    "    'learning_rate': [0.1,0.2,0.5,1.0, log=True],\n",
    "    'depth': [4, 10],\n",
    "    'l2_leaf_reg': [1e-8, 100.0, log=True],\n",
    "    'bootstrap_type': [\"Bayesian\"],\n",
    "    'random_strength': [1e-8, 10.0, log=True],\n",
    "    'bagging_temperature': [0.0, 10.0],\n",
    "    'od_type': [\"IncToDec\", \"Iter\"],\n",
    "    'od_wait': [10, 50],\n",
    "    'verbose'=False\n",
    "}\n",
    "\n",
    "cv = 5\n",
    "\n",
    "gs_cb_R = GridSearchCV(CatBoostRegressor(),\n",
    "                        cb_R_param,\n",
    "                        cv=cv,\n",
    "                        scoring='neg_mean_absolute_error',\n",
    "                        verbose=1,\n",
    "                        n_jobs=-1)"
   ]
  },
  {
   "cell_type": "code",
   "execution_count": null,
   "id": "2c9fec80-08f8-4db7-ae16-c7408855c0c2",
   "metadata": {},
   "outputs": [],
   "source": [
    "gs_cb_R.fit(df_pipe_train, y_train)"
   ]
  },
  {
   "cell_type": "code",
   "execution_count": null,
   "id": "839e1570-c270-4925-b62d-c6d8e81d20af",
   "metadata": {},
   "outputs": [],
   "source": [
    "gs_cb_R.best_score_"
   ]
  },
  {
   "cell_type": "code",
   "execution_count": null,
   "id": "a26feb83-ae94-4624-a713-f13f1c382178",
   "metadata": {},
   "outputs": [],
   "source": [
    "gs_cb_R.best_params_"
   ]
  },
  {
   "cell_type": "code",
   "execution_count": null,
   "id": "2ef4c4a0-c206-40fc-97fa-40b2778922e1",
   "metadata": {},
   "outputs": [],
   "source": [
    "cb_R_final_pred = gs_cb_R.predict(df_pipe_train)"
   ]
  },
  {
   "cell_type": "code",
   "execution_count": null,
   "id": "55e934c0-1e48-4fc8-bcf6-0c38cc76b7e0",
   "metadata": {},
   "outputs": [],
   "source": [
    "print(mean_absolute_error(y_train, cb_R_final_pred))"
   ]
  },
  {
   "cell_type": "markdown",
   "id": "9e69e2d0-fdda-42a7-9b05-b78adc60d553",
   "metadata": {
    "tags": []
   },
   "source": [
    "# Guardamos los modelos"
   ]
  },
  {
   "cell_type": "code",
   "execution_count": null,
   "id": "48f00105-16f2-4bdb-ad99-d370b3d7da8f",
   "metadata": {},
   "outputs": [],
   "source": [
    "import joblib\n",
    "\n",
    "joblib.dump(best_rgs, \"price_housing_model.pkl\")"
   ]
  },
  {
   "cell_type": "code",
   "execution_count": null,
   "id": "5d353b19-66eb-42dd-9857-c94b5041e920",
   "metadata": {},
   "outputs": [],
   "source": [
    "import joblib\n",
    "\n",
    "# extra code – excluded for conciseness -> All the ETL, cleaning, etc to \\\n",
    "# get a housing data as the one expected by the pipelines\n",
    "\n",
    "def column_ratio(X):\n",
    "    return X[:, [0]] / X[:, [1]]\n",
    "\n",
    "final_model_reloaded = joblib.load(\"price_housing_model.pkl\")\n",
    "\n",
    "new_data = housing_test_pre.iloc[:5]  # pretend these are new districts\n",
    "predictions = final_model_reloaded.predict(new_data)"
   ]
  }
 ],
 "metadata": {
  "kernelspec": {
   "display_name": "Python 3 (ipykernel)",
   "language": "python",
   "name": "python3"
  },
  "language_info": {
   "codemirror_mode": {
    "name": "ipython",
    "version": 3
   },
   "file_extension": ".py",
   "mimetype": "text/x-python",
   "name": "python",
   "nbconvert_exporter": "python",
   "pygments_lexer": "ipython3",
   "version": "3.10.4"
  }
 },
 "nbformat": 4,
 "nbformat_minor": 5
}
